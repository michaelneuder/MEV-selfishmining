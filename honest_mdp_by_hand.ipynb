{
 "cells": [
  {
   "cell_type": "code",
   "execution_count": 1,
   "metadata": {},
   "outputs": [],
   "source": [
    "import copy \n",
    "import matplotlib.pyplot as plt\n",
    "import mdptoolbox as mdpt\n",
    "import numpy as np"
   ]
  },
  {
   "cell_type": "code",
   "execution_count": 2,
   "metadata": {},
   "outputs": [],
   "source": [
    "class State:\n",
    "    def __init__(self, state, length=2):\n",
    "        self.state = np.array(state)\n",
    "        self.terminal_length = length\n",
    "    \n",
    "    def __str__(self):\n",
    "        res = ''\n",
    "        for i in range(3):\n",
    "            res += str(self.state[i])\n",
    "        res += ','\n",
    "        for i in range(3,6):\n",
    "            res += str(self.state[i])\n",
    "        res += ','\n",
    "        res += str(self.state[6])\n",
    "        return res\n",
    "    \n",
    "    def __setitem__(self, ind, val):\n",
    "        self.state[ind] = val\n",
    "        \n",
    "    def __getitem__(self, ind):\n",
    "        return self.state[ind]\n",
    "    \n",
    "    def isTerminal(self):\n",
    "        return self.terminal_length in self.state[:3]\n",
    "\n",
    "    def getHonestFork(self):\n",
    "        return self.state[-1]\n",
    "    \n",
    "    def __eq__(self, other):\n",
    "        return all(self.state == other.state)"
   ]
  },
  {
   "cell_type": "code",
   "execution_count": 3,
   "metadata": {},
   "outputs": [],
   "source": [
    "# returns possible next states\n",
    "def nextStates(cur_state):\n",
    "    new_states = []\n",
    "    \n",
    "    # mining on my fork\n",
    "    temp = copy.deepcopy(cur_state)\n",
    "    temp[0] += 1\n",
    "    temp[3] += 1\n",
    "\n",
    "    # new honest fork.\n",
    "    if any(temp[:3] > temp[temp.getHonestFork()]):\n",
    "        temp[-1] = np.argmax(temp[:3])\n",
    "\n",
    "    new_states.append(temp)\n",
    "    \n",
    "    # mining on the honest fork\n",
    "    temp = copy.deepcopy(cur_state)\n",
    "    temp[temp.getHonestFork()] += 1\n",
    "    temp[3+temp.getHonestFork()] += 1\n",
    "\n",
    "    # new honest fork.\n",
    "    if any(temp[:3] > temp[temp.getHonestFork()]):\n",
    "        temp[-1] = np.argmax(temp[:3])\n",
    "\n",
    "    new_states.append(temp)\n",
    "    \n",
    "    # them mining on honest.\n",
    "    temp = copy.deepcopy(cur_state)\n",
    "    temp[temp.getHonestFork()] += 1\n",
    "\n",
    "    # new honest fork.\n",
    "    if any(temp[:3] > temp[temp.getHonestFork()]):\n",
    "        temp[-1] = np.argmax(temp[:3])\n",
    "\n",
    "    new_states.append(temp)\n",
    "    \n",
    "    return new_states"
   ]
  },
  {
   "cell_type": "code",
   "execution_count": 4,
   "metadata": {},
   "outputs": [],
   "source": [
    "def checkIfInTotalStates(total_states, state):\n",
    "    for s in total_states:\n",
    "        if state == s:\n",
    "            return True\n",
    "    return False"
   ]
  },
  {
   "cell_type": "code",
   "execution_count": 27,
   "metadata": {},
   "outputs": [],
   "source": [
    "def printTransitions(transitions, rewards, si):\n",
    "    for i in range(len(total_states)):\n",
    "        print(si.s(i))\n",
    "        for j in range(len(total_states)):\n",
    "            if transitions[0,i,j] != 0:\n",
    "                print(\"    \", si.s(j), \" selfish, {:0.2f}, {:0.2f}\".format(\n",
    "                    transitions[0,i,j], rewards[0,i,j]))\n",
    "        for j in range(len(total_states)):\n",
    "            if transitions[1,i,j] != 0:\n",
    "                print(\"    \", si.s(j), \" honest, {:0.2f}, {:0.2f}\".format(\n",
    "                    transitions[1,i,j], rewards[1,i,j]))\n",
    "                \n",
    "def prettyPrintPolicy(policy, si):\n",
    "    for i in range(len(policy)):\n",
    "        print(si.s(i), end=' ')\n",
    "        if policy[i] == 0:\n",
    "            print('selfish')\n",
    "        else:\n",
    "            print('honest')"
   ]
  },
  {
   "cell_type": "code",
   "execution_count": 17,
   "metadata": {},
   "outputs": [],
   "source": [
    "# algorithm to enumerate possible states.\n",
    "init_state = State([0,0,0,0,0,0,0])\n",
    "oneblockstate0 = State([1,0,0,1,0,0,0])\n",
    "oneblockstate1 = State([0,1,0,0,0,0,1])\n",
    "oneblockstate2 = State([0,0,1,0,0,0,2])\n",
    "\n",
    "total_states = [init_state, oneblockstate0, oneblockstate1, oneblockstate2]\n",
    "states_to_process = [oneblockstate0, oneblockstate1, oneblockstate2]\n",
    "while states_to_process:\n",
    "    elem = states_to_process.pop()\n",
    "    next_states = nextStates(elem)\n",
    "    for s in next_states:\n",
    "        if not checkIfInTotalStates(total_states, s):\n",
    "            total_states.append(s)\n",
    "        if not s.isTerminal() and not checkIfInTotalStates(states_to_process, s):\n",
    "            states_to_process.append(s)"
   ]
  },
  {
   "cell_type": "code",
   "execution_count": 18,
   "metadata": {},
   "outputs": [
    {
     "name": "stdout",
     "output_type": "stream",
     "text": [
      "000,000,0\n",
      "100,100,0\n",
      "010,000,1\n",
      "001,000,2\n",
      "101,100,2\n",
      "   002,001,2\n",
      "   002,000,2\n",
      "   201,200,0\n",
      "   102,101,2\n",
      "   102,100,2\n",
      "110,100,1\n",
      "   020,010,1\n",
      "   020,000,1\n",
      "   210,200,0\n",
      "   120,110,1\n",
      "   120,100,1\n",
      "   200,200,0\n",
      "   200,100,0\n"
     ]
    }
   ],
   "source": [
    "for s in total_states:\n",
    "    if not s.isTerminal():\n",
    "        print(s)\n",
    "    else:\n",
    "        print('  ', s)"
   ]
  },
  {
   "cell_type": "code",
   "execution_count": 19,
   "metadata": {},
   "outputs": [],
   "source": [
    "class Ind:\n",
    "    def __init__(self, total_states):\n",
    "        self.stringToInd = {}\n",
    "        self.indToString = {}\n",
    "        for i in range(len(total_states)):\n",
    "            self.stringToInd[str(total_states[i])] = i\n",
    "            self.indToString[i] = str(total_states[i])\n",
    "    \n",
    "    def i(self, string):\n",
    "        return self.stringToInd[string]\n",
    "\n",
    "    def s(self, ind):\n",
    "        return self.indToString[ind]"
   ]
  },
  {
   "cell_type": "code",
   "execution_count": 20,
   "metadata": {},
   "outputs": [],
   "source": [
    "si = Ind(total_states)"
   ]
  },
  {
   "cell_type": "code",
   "execution_count": 79,
   "metadata": {},
   "outputs": [],
   "source": [
    "WHALE_REWARD = 2.00"
   ]
  },
  {
   "cell_type": "code",
   "execution_count": 80,
   "metadata": {},
   "outputs": [],
   "source": [
    "transitions = np.zeros((2, len(total_states), len(total_states)))\n",
    "rewards = np.zeros((2, len(total_states), len(total_states)))\n",
    "\n",
    "# selfish\n",
    "transitions[0, si.i('000,000,0'), si.i('100,100,0')] = 1/3\n",
    "transitions[0, si.i('000,000,0'), si.i('010,000,1')] = 1/3\n",
    "transitions[0, si.i('000,000,0'), si.i('001,000,2')] = 1/3\n",
    "rewards[0, si.i('000,000,0'), si.i('100,100,0')] = -1/3\n",
    "rewards[0, si.i('000,000,0'), si.i('010,000,1')] = -1/3\n",
    "rewards[0, si.i('000,000,0'), si.i('001,000,2')] = -1/3\n",
    "\n",
    "transitions[0, si.i('100,100,0'), si.i('200,200,0')] = 1/3\n",
    "transitions[0, si.i('100,100,0'), si.i('200,100,0')] = 2/3\n",
    "rewards[0, si.i('100,100,0'), si.i('200,200,0')] = WHALE_REWARD + 2 - 1/3\n",
    "rewards[0, si.i('100,100,0'), si.i('200,100,0')] = WHALE_REWARD + 1 - 1/3\n",
    "\n",
    "transitions[0, si.i('010,000,1'), si.i('110,100,1')] = 1/3\n",
    "transitions[0, si.i('010,000,1'), si.i('020,000,1')] = 2/3\n",
    "rewards[0, si.i('010,000,1'), si.i('110,100,1')] = -1/3\n",
    "rewards[0, si.i('010,000,1'), si.i('020,000,1')] = -1/3\n",
    "\n",
    "transitions[0, si.i('001,000,2'), si.i('101,100,2')] = 1/3\n",
    "transitions[0, si.i('001,000,2'), si.i('002,000,2')] = 2/3\n",
    "rewards[0, si.i('001,000,2'), si.i('101,100,2')] = -1/3\n",
    "rewards[0, si.i('001,000,2'), si.i('002,000,2')] = -1/3\n",
    "\n",
    "transitions[0, si.i('101,100,2'), si.i('201,200,0')] = 1/3\n",
    "transitions[0, si.i('101,100,2'), si.i('102,100,2')] = 2/3\n",
    "rewards[0, si.i('101,100,2'), si.i('201,200,0')] = WHALE_REWARD + 2 - 1/3\n",
    "rewards[0, si.i('101,100,2'), si.i('102,100,2')] = -1/3\n",
    "\n",
    "transitions[0, si.i('110,100,1'), si.i('210,200,0')] = 1/3\n",
    "transitions[0, si.i('110,100,1'), si.i('120,100,1')] = 2/3\n",
    "rewards[0, si.i('110,100,1'), si.i('210,200,0')] = WHALE_REWARD + 2 - 1/3\n",
    "rewards[0, si.i('110,100,1'), si.i('120,100,1')] = -1/3\n",
    "\n",
    "# honest\n",
    "transitions[1, si.i('000,000,0'), si.i('100,100,0')] = 1/3\n",
    "transitions[1, si.i('000,000,0'), si.i('010,000,1')] = 1/3\n",
    "transitions[1, si.i('000,000,0'), si.i('001,000,2')] = 1/3\n",
    "rewards[1, si.i('000,000,0'), si.i('100,100,0')] = -1/3\n",
    "rewards[1, si.i('000,000,0'), si.i('010,000,1')] = -1/3\n",
    "rewards[1, si.i('000,000,0'), si.i('001,000,2')] = -1/3\n",
    "\n",
    "transitions[1, si.i('100,100,0'), si.i('200,200,0')] = 1/3\n",
    "transitions[1, si.i('100,100,0'), si.i('200,100,0')] = 2/3\n",
    "rewards[1, si.i('100,100,0'), si.i('200,200,0')] = WHALE_REWARD + 2 - 1/3\n",
    "rewards[1, si.i('100,100,0'), si.i('200,100,0')] = WHALE_REWARD + 1 - 1/3\n",
    "\n",
    "transitions[1, si.i('010,000,1'), si.i('020,010,1')] = 1/3\n",
    "transitions[1, si.i('010,000,1'), si.i('020,000,1')] = 2/3\n",
    "rewards[1, si.i('010,000,1'), si.i('020,010,1')] = 2/3\n",
    "rewards[1, si.i('010,000,1'), si.i('020,000,1')] = -1/3\n",
    "\n",
    "transitions[1, si.i('001,000,2'), si.i('002,001,2')] = 1/3\n",
    "transitions[1, si.i('001,000,2'), si.i('002,000,2')] = 2/3\n",
    "rewards[1, si.i('001,000,2'), si.i('002,001,2')] = 2/3\n",
    "rewards[1, si.i('001,000,2'), si.i('002,000,2')] = -1/3\n",
    "\n",
    "transitions[1, si.i('101,100,2'), si.i('102,101,2')] = 1/3\n",
    "transitions[1, si.i('101,100,2'), si.i('102,100,2')] = 2/3\n",
    "rewards[1, si.i('101,100,2'), si.i('102,101,2')] = 2/3\n",
    "rewards[1, si.i('101,100,2'), si.i('102,100,2')] = -1/3\n",
    "\n",
    "transitions[1, si.i('110,100,1'), si.i('120,110,1')] = 1/3\n",
    "transitions[1, si.i('110,100,1'), si.i('120,100,1')] = 2/3\n",
    "rewards[1, si.i('110,100,1'), si.i('120,110,1')] = 2/3\n",
    "rewards[1, si.i('110,100,1'), si.i('120,100,1')] = -1/3\n",
    "\n",
    "for i in range(len(total_states)):\n",
    "    if total_states[i].isTerminal():\n",
    "        transitions[0,i,i] = 1\n",
    "        transitions[1,i,i] = 1"
   ]
  },
  {
   "cell_type": "code",
   "execution_count": 81,
   "metadata": {},
   "outputs": [
    {
     "data": {
      "text/plain": [
       "array([[1., 1., 1., 1., 1., 1., 1., 1., 1., 1., 1., 1., 1., 1., 1., 1.,\n",
       "        1., 1.],\n",
       "       [1., 1., 1., 1., 1., 1., 1., 1., 1., 1., 1., 1., 1., 1., 1., 1.,\n",
       "        1., 1.]])"
      ]
     },
     "execution_count": 81,
     "metadata": {},
     "output_type": "execute_result"
    }
   ],
   "source": [
    "np.sum(transitions, axis=2)"
   ]
  },
  {
   "cell_type": "code",
   "execution_count": 82,
   "metadata": {},
   "outputs": [
    {
     "name": "stdout",
     "output_type": "stream",
     "text": [
      "WARNING: check conditions of convergence. With no discount, convergence can not be assumed.\n"
     ]
    }
   ],
   "source": [
    "val_iter = mdpt.mdp.ValueIteration(transitions, rewards, discount=1)\n",
    "val_iter.run()\n",
    "policy = val_iter.policy"
   ]
  },
  {
   "cell_type": "code",
   "execution_count": 83,
   "metadata": {},
   "outputs": [
    {
     "name": "stdout",
     "output_type": "stream",
     "text": [
      "000,000,0 selfish\n",
      "100,100,0 selfish\n",
      "010,000,1 honest\n",
      "001,000,2 honest\n",
      "101,100,2 selfish\n",
      "002,001,2 selfish\n",
      "002,000,2 selfish\n",
      "201,200,0 selfish\n",
      "102,101,2 selfish\n",
      "102,100,2 selfish\n",
      "110,100,1 selfish\n",
      "020,010,1 selfish\n",
      "020,000,1 selfish\n",
      "210,200,0 selfish\n",
      "120,110,1 selfish\n",
      "120,100,1 selfish\n",
      "200,200,0 selfish\n",
      "200,100,0 selfish\n"
     ]
    }
   ],
   "source": [
    "prettyPrintPolicy(policy, si)"
   ]
  }
 ],
 "metadata": {
  "kernelspec": {
   "display_name": "Python 3",
   "language": "python",
   "name": "python3"
  },
  "language_info": {
   "codemirror_mode": {
    "name": "ipython",
    "version": 3
   },
   "file_extension": ".py",
   "mimetype": "text/x-python",
   "name": "python",
   "nbconvert_exporter": "python",
   "pygments_lexer": "ipython3",
   "version": "3.8.6"
  }
 },
 "nbformat": 4,
 "nbformat_minor": 4
}
