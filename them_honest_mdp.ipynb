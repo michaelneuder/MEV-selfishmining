{
 "cells": [
  {
   "cell_type": "code",
   "execution_count": 1,
   "metadata": {},
   "outputs": [],
   "source": [
    "import copy \n",
    "import matplotlib.pyplot as plt\n",
    "import mdptoolbox as mdpt\n",
    "import numpy as np\n",
    "from tqdm import tqdm\n",
    "import sys\n",
    "import os"
   ]
  },
  {
   "cell_type": "code",
   "execution_count": 2,
   "metadata": {},
   "outputs": [],
   "source": [
    "class FirstPersonState:\n",
    "    def __init__(self, state, length=2):\n",
    "        self.state = np.array(state)\n",
    "        self.terminal_length = length\n",
    "    \n",
    "    def __str__(self):\n",
    "        res = ''\n",
    "        for i in range(2):\n",
    "            res += str(self.state[i])\n",
    "        res += ','\n",
    "        for i in range(2,4):\n",
    "            res += str(self.state[i])\n",
    "        res += ','\n",
    "        res += str(self.state[4])\n",
    "        return res\n",
    "    \n",
    "    def __setitem__(self, ind, val):\n",
    "        self.state[ind] = val\n",
    "        \n",
    "    def __getitem__(self, ind):\n",
    "        return self.state[ind]\n",
    "    \n",
    "    def isTerminal(self):\n",
    "        return self.terminal_length in self.state[:2]\n",
    "\n",
    "    def getHonestFork(self):\n",
    "        return self.state[-1]\n",
    "\n",
    "    def updateHonestFork(self):\n",
    "        if any(self.state[:2] > self.state[self.getHonestFork()]):\n",
    "            self.state[-1] = np.argmax(self.state[:2])\n",
    "    \n",
    "    def __eq__(self, other):\n",
    "        return all(self.state == other.state)"
   ]
  },
  {
   "cell_type": "code",
   "execution_count": 3,
   "metadata": {},
   "outputs": [],
   "source": [
    "def nextFirstPersonStatesHonest(state):\n",
    "    new_states = []\n",
    "    \n",
    "    # honest mining for others.\n",
    "    temp = copy.deepcopy(state)\n",
    "    temp[temp.getHonestFork()] += 1\n",
    "    new_states.append(temp)\n",
    "    \n",
    "    # me mining honest\n",
    "    temp = copy.deepcopy(state)\n",
    "    temp[temp.getHonestFork()] += 1\n",
    "    temp[2+temp.getHonestFork()] += 1\n",
    "    new_states.append(temp)\n",
    "    \n",
    "    # me mining selfish\n",
    "    temp = copy.deepcopy(state)\n",
    "    temp[0] += 1\n",
    "    temp[2] += 1\n",
    "    temp.updateHonestFork()\n",
    "    new_states.append(temp)\n",
    "    \n",
    "    return new_states"
   ]
  },
  {
   "cell_type": "code",
   "execution_count": 4,
   "metadata": {},
   "outputs": [],
   "source": [
    "def printTransitions(transitions, rewards, si):\n",
    "    for i in range(len(total_states)):\n",
    "        print(si.s(i))\n",
    "        for j in range(len(total_states)):\n",
    "            if transitions[0,i,j] != 0:\n",
    "                print(\"    \", si.s(j), \" selfish, {:0.2f}, {:0.2f}\".format(\n",
    "                    transitions[0,i,j], rewards[0,i,j]))\n",
    "        for j in range(len(total_states)):\n",
    "            if transitions[1,i,j] != 0:\n",
    "                print(\"    \", si.s(j), \" honest, {:0.2f}, {:0.2f}\".format(\n",
    "                    transitions[1,i,j], rewards[1,i,j]))\n",
    "\n",
    "def prettyPrintPolicy(policy, si):\n",
    "    for i in range(len(policy)):\n",
    "        print(si.s(i), end=' ')\n",
    "        if policy[i] == 0:\n",
    "            print('selfish')\n",
    "        else:\n",
    "            print('honest')"
   ]
  },
  {
   "cell_type": "code",
   "execution_count": 5,
   "metadata": {},
   "outputs": [],
   "source": [
    "class Ind:\n",
    "    def __init__(self, total_states):\n",
    "        self.stringToInd = {}\n",
    "        self.indToString = {}\n",
    "        for i in range(len(total_states)):\n",
    "            self.stringToInd[str(total_states[i])] = i\n",
    "            self.indToString[i] = str(total_states[i])\n",
    "    \n",
    "    def i(self, string):\n",
    "        return self.stringToInd[string]\n",
    "\n",
    "    def s(self, ind):\n",
    "        return self.indToString[ind]"
   ]
  },
  {
   "cell_type": "code",
   "execution_count": 6,
   "metadata": {},
   "outputs": [],
   "source": [
    "def getTotalStates(length = 2):\n",
    "    init_state = FirstPersonState([0,0,0,0,0], length)\n",
    "    oneblock_state_a = FirstPersonState([1,0,1,0,0], length)\n",
    "    oneblock_state_b = FirstPersonState([0,1,0,0,1], length)\n",
    "    total_states = [init_state, oneblock_state_a, oneblock_state_b]\n",
    "    states_to_process = [oneblock_state_a, oneblock_state_b]\n",
    "    explored = [str(init_state)]\n",
    "    \n",
    "    count = 0\n",
    "    while states_to_process:\n",
    "        count += 1\n",
    "        elem = states_to_process.pop()\n",
    "        explored.append(str(elem))\n",
    "        next_states = nextFirstPersonStatesHonest(elem)\n",
    "        for s in next_states:\n",
    "            if s not in total_states:\n",
    "                total_states.append(s)\n",
    "            if not s.isTerminal() and str(s) not in explored:\n",
    "                states_to_process.append(s)\n",
    "    return total_states"
   ]
  },
  {
   "cell_type": "code",
   "execution_count": 7,
   "metadata": {},
   "outputs": [
    {
     "data": {
      "text/plain": [
       "11"
      ]
     },
     "execution_count": 7,
     "metadata": {},
     "output_type": "execute_result"
    }
   ],
   "source": [
    "total_states = getTotalStates(length=2)\n",
    "len(total_states)"
   ]
  },
  {
   "cell_type": "code",
   "execution_count": 8,
   "metadata": {},
   "outputs": [
    {
     "name": "stdout",
     "output_type": "stream",
     "text": [
      "00,00,0\n",
      "10,10,0\n",
      "01,00,1\n",
      "02,00,1\n",
      "02,01,1\n",
      "11,10,1\n",
      "12,10,1\n",
      "12,11,1\n",
      "21,20,0\n",
      "20,10,0\n",
      "20,20,0\n"
     ]
    }
   ],
   "source": [
    "for s in total_states:\n",
    "    print(s)"
   ]
  },
  {
   "cell_type": "code",
   "execution_count": 9,
   "metadata": {},
   "outputs": [],
   "source": [
    "def nextStates2(state, action):\n",
    "    new_states = []\n",
    "    \n",
    "    # honest mining for others.\n",
    "    temp = copy.deepcopy(state)\n",
    "    temp[temp.getHonestFork()] += 1\n",
    "    new_states.append(temp)\n",
    "    \n",
    "    if action == 1:\n",
    "        # me mining honest\n",
    "        temp = copy.deepcopy(state)\n",
    "        temp[temp.getHonestFork()] += 1\n",
    "        temp[2+temp.getHonestFork()] += 1\n",
    "        new_states.append(temp)\n",
    "    \n",
    "    else:\n",
    "        # me mining selfish\n",
    "        temp = copy.deepcopy(state)\n",
    "        temp[0] += 1\n",
    "        temp[2] += 1\n",
    "        temp.updateHonestFork()\n",
    "        new_states.append(temp)\n",
    "    \n",
    "    return new_states"
   ]
  },
  {
   "cell_type": "code",
   "execution_count": 10,
   "metadata": {},
   "outputs": [],
   "source": [
    "def getRewardState(state, p):\n",
    "    reward = -p\n",
    "    if state.isTerminal():\n",
    "        win_ind = np.argmax(state[:2])\n",
    "        if win_ind == 0:\n",
    "            reward += WHALE_REWARD + state[2]\n",
    "        else:\n",
    "            reward += state[3]\n",
    "    return reward"
   ]
  },
  {
   "cell_type": "code",
   "execution_count": 11,
   "metadata": {},
   "outputs": [],
   "source": [
    "def getTR(si, total_states, length=2, p=1/3):\n",
    "    t = np.zeros((2, len(total_states), len(total_states)))\n",
    "    r = np.zeros((2, len(total_states), len(total_states)))\n",
    "\n",
    "    init_state = FirstPersonState([0,0,0,0,0], length)\n",
    "    oneblock_state_a = FirstPersonState([1,0,1,0,0], length)\n",
    "    oneblock_state_b = FirstPersonState([0,1,0,0,1], length)\n",
    "    \n",
    "    t[0, si.i(str(init_state)), si.i(str(oneblock_state_a))] = p\n",
    "    t[0, si.i(str(init_state)), si.i(str(oneblock_state_b))] = 1-p\n",
    "    r[0, si.i(str(init_state)), si.i(str(oneblock_state_a))] = getRewardState(oneblock_state_a, p)\n",
    "    r[0, si.i(str(init_state)), si.i(str(oneblock_state_b))] = getRewardState(oneblock_state_b, p)\n",
    "    \n",
    "    t[1, si.i(str(init_state)), si.i(str(oneblock_state_a))] = p\n",
    "    t[1, si.i(str(init_state)), si.i(str(oneblock_state_b))] = 1-p\n",
    "    r[1, si.i(str(init_state)), si.i(str(oneblock_state_a))] = getRewardState(oneblock_state_a, p)\n",
    "    r[1, si.i(str(init_state)), si.i(str(oneblock_state_b))] = getRewardState(oneblock_state_b, p)\n",
    "    \n",
    "    states_to_process = [oneblock_state_a, oneblock_state_b]\n",
    "    explored = [str(init_state)]\n",
    "    \n",
    "    while states_to_process:\n",
    "        elem = states_to_process.pop()\n",
    "        explored.append(str(elem))\n",
    "        \n",
    "        curr_string = str(elem)\n",
    "        selfish_states = nextStates2(elem, 0)\n",
    "        \n",
    "        s = selfish_states[0]\n",
    "        t[0, si.i(curr_string), si.i(str(s))] = 1-p\n",
    "        r[0, si.i(curr_string), si.i(str(s))] = getRewardState(s, p)\n",
    "        \n",
    "        if not s.isTerminal() and str(s) not in explored:\n",
    "            states_to_process.append(s)\n",
    "            \n",
    "        s = selfish_states[1]\n",
    "        t[0, si.i(curr_string), si.i(str(s))] = p\n",
    "        r[0, si.i(curr_string), si.i(str(s))] = getRewardState(s, p)\n",
    "        \n",
    "        if not s.isTerminal() and str(s) not in explored:\n",
    "            states_to_process.append(s)\n",
    "            \n",
    "            \n",
    "        honest_states = nextStates2(elem, 1)\n",
    "        \n",
    "        h = honest_states[0]\n",
    "        t[1, si.i(curr_string), si.i(str(h))] = 1-p\n",
    "        r[1, si.i(curr_string), si.i(str(h))] = getRewardState(h, p)\n",
    "        \n",
    "        if not h.isTerminal() and str(h) not in explored:\n",
    "            states_to_process.append(h)\n",
    "            \n",
    "        h = honest_states[1]\n",
    "        t[1, si.i(curr_string), si.i(str(h))] = p\n",
    "        r[1, si.i(curr_string), si.i(str(h))] = getRewardState(h, p)\n",
    "        \n",
    "        if not h.isTerminal() and str(h) not in explored:\n",
    "            states_to_process.append(h)\n",
    "\n",
    "    for i in range(len(total_states)):\n",
    "        if total_states[i].isTerminal():\n",
    "            t[0,i,i] = 1\n",
    "            t[1,i,i] = 1\n",
    "    \n",
    "    return t, r"
   ]
  },
  {
   "cell_type": "code",
   "execution_count": 12,
   "metadata": {},
   "outputs": [],
   "source": [
    "si = Ind(total_states)"
   ]
  },
  {
   "cell_type": "code",
   "execution_count": 13,
   "metadata": {},
   "outputs": [],
   "source": [
    "WHALE_REWARD = 0\n",
    "t, r = getTR(si, total_states, length=2)"
   ]
  },
  {
   "cell_type": "code",
   "execution_count": 218,
   "metadata": {},
   "outputs": [],
   "source": [
    "# printTransitions(t, r, si)"
   ]
  },
  {
   "cell_type": "code",
   "execution_count": 291,
   "metadata": {},
   "outputs": [
    {
     "name": "stdout",
     "output_type": "stream",
     "text": [
      "WARNING: check conditions of convergence. With no discount, convergence can not be assumed.\n"
     ]
    }
   ],
   "source": [
    "WHALE_REWARD = 1.74\n",
    "p = 1/3\n",
    "total_states = getTotalStates(length=5)\n",
    "si = Ind(total_states)\n",
    "t, r = getTR(si, total_states, length=5, p=p)\n",
    "val_iter = mdpt.mdp.ValueIteration(t, r, discount=1)\n",
    "val_iter.run()\n",
    "policy = val_iter.policy"
   ]
  },
  {
   "cell_type": "code",
   "execution_count": 292,
   "metadata": {},
   "outputs": [
    {
     "name": "stdout",
     "output_type": "stream",
     "text": [
      "00,00,0 selfish\n",
      "10,10,0 selfish\n",
      "01,00,1 selfish\n",
      "02,00,1 honest\n",
      "02,01,1 honest\n",
      "11,10,1 selfish\n",
      "12,10,1 selfish\n",
      "12,11,1 honest\n",
      "21,20,0 selfish\n",
      "31,20,0 selfish\n",
      "31,30,0 selfish\n",
      "41,30,0 selfish\n",
      "41,40,0 selfish\n",
      "51,40,0 selfish\n",
      "51,50,0 selfish\n",
      "51,30,0 selfish\n",
      "41,20,0 selfish\n",
      "51,20,0 selfish\n",
      "13,11,1 honest\n",
      "13,12,1 honest\n",
      "22,21,1 selfish\n",
      "23,21,1 selfish\n",
      "23,22,1 honest\n",
      "32,31,0 selfish\n",
      "42,31,0 selfish\n",
      "42,41,0 selfish\n",
      "52,41,0 selfish\n",
      "52,51,0 selfish\n",
      "52,31,0 selfish\n",
      "24,22,1 honest\n",
      "24,23,1 honest\n",
      "33,32,1 selfish\n",
      "34,32,1 selfish\n",
      "34,33,1 honest\n",
      "43,42,0 selfish\n",
      "53,42,0 selfish\n",
      "53,52,0 selfish\n",
      "35,33,1 selfish\n",
      "35,34,1 selfish\n",
      "44,43,1 selfish\n",
      "45,43,1 selfish\n",
      "45,44,1 selfish\n",
      "54,53,0 selfish\n",
      "35,32,1 selfish\n",
      "44,42,1 selfish\n",
      "45,42,1 selfish\n",
      "54,52,0 selfish\n",
      "25,23,1 selfish\n",
      "25,24,1 selfish\n",
      "25,22,1 selfish\n",
      "24,21,1 honest\n",
      "33,31,1 selfish\n",
      "34,31,1 selfish\n",
      "43,41,0 selfish\n",
      "53,41,0 selfish\n",
      "53,51,0 selfish\n",
      "35,31,1 selfish\n",
      "44,41,1 selfish\n",
      "45,41,1 selfish\n",
      "54,51,0 selfish\n",
      "25,21,1 selfish\n",
      "14,12,1 honest\n",
      "14,13,1 honest\n",
      "15,13,1 selfish\n",
      "15,14,1 selfish\n",
      "15,12,1 selfish\n",
      "14,11,1 honest\n",
      "15,11,1 selfish\n",
      "13,10,1 honest\n",
      "22,20,1 selfish\n",
      "23,20,1 selfish\n",
      "32,30,0 selfish\n",
      "42,30,0 selfish\n",
      "42,40,0 selfish\n",
      "52,40,0 selfish\n",
      "52,50,0 selfish\n",
      "52,30,0 selfish\n",
      "24,20,1 honest\n",
      "33,30,1 selfish\n",
      "34,30,1 selfish\n",
      "43,40,0 selfish\n",
      "53,40,0 selfish\n",
      "53,50,0 selfish\n",
      "35,30,1 selfish\n",
      "44,40,1 selfish\n",
      "45,40,1 selfish\n",
      "54,50,0 selfish\n",
      "25,20,1 selfish\n",
      "14,10,1 honest\n",
      "15,10,1 selfish\n",
      "03,01,1 honest\n",
      "03,02,1 honest\n",
      "04,02,1 honest\n",
      "04,03,1 honest\n",
      "05,03,1 selfish\n",
      "05,04,1 selfish\n",
      "05,02,1 selfish\n",
      "04,01,1 honest\n",
      "05,01,1 selfish\n",
      "03,00,1 honest\n",
      "04,00,1 honest\n",
      "05,00,1 selfish\n",
      "20,10,0 selfish\n",
      "20,20,0 selfish\n",
      "30,20,0 selfish\n",
      "30,30,0 selfish\n",
      "40,30,0 selfish\n",
      "40,40,0 selfish\n",
      "50,40,0 selfish\n",
      "50,50,0 selfish\n",
      "50,30,0 selfish\n",
      "40,20,0 selfish\n",
      "50,20,0 selfish\n",
      "30,10,0 selfish\n",
      "40,10,0 selfish\n",
      "50,10,0 selfish\n"
     ]
    }
   ],
   "source": [
    "prettyPrintPolicy(policy, si)"
   ]
  },
  {
   "cell_type": "code",
   "execution_count": 123,
   "metadata": {},
   "outputs": [],
   "source": [
    "def getReachableStates(policy, si, t):\n",
    "    reachable_states = []\n",
    "    states_to_process = [0]\n",
    "    while states_to_process:\n",
    "        cur_state = states_to_process.pop()\n",
    "        cur_opt_action = int(policy[cur_state])\n",
    "        for next_state in np.nonzero(t[cur_opt_action, cur_state])[0]:\n",
    "            reachable_states.append(next_state)\n",
    "            if next_state not in states_to_process and '5' not in si.s(next_state)[:3]:\n",
    "                states_to_process.append(next_state)\n",
    "    reachable_states = list(set(reachable_states))\n",
    "    return reachable_states"
   ]
  },
  {
   "cell_type": "code",
   "execution_count": 171,
   "metadata": {},
   "outputs": [
    {
     "name": "stdout",
     "output_type": "stream",
     "text": [
      "10,10,0 selfish\n",
      "01,00,1 selfish\n",
      "02,00,1 honest\n",
      "11,10,1 selfish\n",
      "12,10,1 selfish\n",
      "21,20,0 selfish\n",
      "31,20,0 selfish\n",
      "31,30,0 selfish\n",
      "41,30,0 selfish\n",
      "41,40,0 selfish\n",
      "41,20,0 selfish\n",
      "14,11,1 honest\n",
      "13,10,1 honest\n",
      "22,20,1 selfish\n",
      "23,20,1 selfish\n",
      "32,30,0 selfish\n",
      "42,30,0 selfish\n",
      "42,40,0 selfish\n",
      "24,20,1 honest\n",
      "33,30,1 selfish\n",
      "34,30,1 selfish\n",
      "43,40,0 selfish\n",
      "44,40,1 selfish\n",
      "14,10,1 honest\n",
      "03,01,1 honest\n",
      "04,02,1 honest\n",
      "04,01,1 honest\n",
      "03,00,1 honest\n",
      "04,00,1 honest\n",
      "20,10,0 selfish\n",
      "20,20,0 selfish\n",
      "30,20,0 selfish\n",
      "30,30,0 selfish\n",
      "40,30,0 selfish\n",
      "40,40,0 selfish\n",
      "40,20,0 selfish\n",
      "30,10,0 selfish\n",
      "40,10,0 selfish\n"
     ]
    }
   ],
   "source": [
    "rs = getReachableStates(policy, si, t)\n",
    "for i in rs:\n",
    "    if '5' not in si.s(i)[:3]:\n",
    "        print(si.s(i), end=' ')\n",
    "        if policy[i] == 0:\n",
    "            print('selfish')\n",
    "        else:\n",
    "            print('honest')"
   ]
  },
  {
   "cell_type": "code",
   "execution_count": 147,
   "metadata": {},
   "outputs": [
    {
     "data": {
      "text/plain": [
       "array([0, 2, 1])"
      ]
     },
     "execution_count": 147,
     "metadata": {},
     "output_type": "execute_result"
    }
   ],
   "source": [
    "np.argsort([156,14,15])[::-1]"
   ]
  },
  {
   "cell_type": "code",
   "execution_count": 257,
   "metadata": {},
   "outputs": [],
   "source": [
    "def getState(state, honest_fork, ind):    \n",
    "    lens = np.sum(state, axis=0)\n",
    "    order = np.argsort(lens)[::-1]\n",
    "    other_ind = order[0] if order[0] != ind else order[1]\n",
    "    res = '{}{},{}{},{}'.format(\n",
    "            lens[ind], lens[other_ind], state[ind,ind], state[ind, other_ind], honest_fork)\n",
    "    return res"
   ]
  },
  {
   "cell_type": "code",
   "execution_count": 285,
   "metadata": {},
   "outputs": [
    {
     "name": "stderr",
     "output_type": "stream",
     "text": [
      "100%|██████████| 100000/100000 [00:18<00:00, 5422.11it/s]\n"
     ]
    }
   ],
   "source": [
    "# sim.\n",
    "WHALE_REWARD = 1\n",
    "rewards = []\n",
    "iters = int(1e5)\n",
    "for _ in tqdm(range(iters)):\n",
    "    state = np.array([\n",
    "        [0,0,0],\n",
    "        [0,0,0],\n",
    "        [0,0,0]])\n",
    "    init_block = np.random.choice([0,1,2])\n",
    "    state[init_block, init_block] = 1\n",
    "    honest_fork = init_block\n",
    "    lens = np.sum(state, axis=0)\n",
    "    while 5 not in lens:\n",
    "        # print(lens, honest_fork)\n",
    "        actions = []\n",
    "        max_len = lens[honest_fork]\n",
    "        for i in range(3):\n",
    "            # behind by at least 2.\n",
    "            if lens[i] < max_len - 1:\n",
    "                actions.append(honest_fork)\n",
    "            else:\n",
    "                actions.append(i)\n",
    "        next_agent = np.random.choice([0,1,2])\n",
    "        # print('    next block created by {} on fork {}'.format(next_agent, actions[next_agent]))\n",
    "        state[next_agent, actions[next_agent]] += 1\n",
    "        lens = np.sum(state, axis=0)\n",
    "        if any(lens > lens[honest_fork]):\n",
    "            honest_fork = np.argmax(lens)\n",
    "    winning_fork = np.argmax(lens)\n",
    "    assert(lens[winning_fork] == 5)\n",
    "    if winning_fork == 0:\n",
    "        rewards.append(state[0, 0] + WHALE_REWARD)\n",
    "    else:\n",
    "        rewards.append(state[0, winning_fork])\n",
    "rewards = np.asarray(rewards)"
   ]
  },
  {
   "cell_type": "code",
   "execution_count": 286,
   "metadata": {},
   "outputs": [
    {
     "data": {
      "text/plain": [
       "(1.66148, 1.4660846529447062)"
      ]
     },
     "execution_count": 286,
     "metadata": {},
     "output_type": "execute_result"
    }
   ],
   "source": [
    "np.mean(rewards), np.std(rewards)"
   ]
  },
  {
   "cell_type": "code",
   "execution_count": 287,
   "metadata": {},
   "outputs": [
    {
     "name": "stderr",
     "output_type": "stream",
     "text": [
      "100%|██████████| 100000/100000 [00:16<00:00, 6213.50it/s]\n"
     ]
    }
   ],
   "source": [
    "# sim honest.\n",
    "WHALE_REWARD = 1\n",
    "rewards = []\n",
    "iters = int(1e5)\n",
    "for _ in tqdm(range(iters)):\n",
    "    state = np.array([\n",
    "        [0,0,0],\n",
    "        [0,0,0],\n",
    "        [0,0,0]])\n",
    "    init_block = np.random.choice([0,1,2])\n",
    "    state[init_block, init_block] = 1\n",
    "    honest_fork = init_block\n",
    "    lens = np.sum(state, axis=0)\n",
    "    while 5 not in lens:\n",
    "        # print(lens, honest_fork)\n",
    "        actions = []\n",
    "        max_len = lens[honest_fork]\n",
    "        actions.append(honest_fork) # force zero to be honest\n",
    "        for i in range(1,3):\n",
    "            # behind by at least 2.\n",
    "            if lens[i] < max_len - 1:\n",
    "                actions.append(honest_fork)\n",
    "            else:\n",
    "                actions.append(i)\n",
    "        next_agent = np.random.choice([0,1,2])\n",
    "        # print('    next block created by {} on fork {}'.format(next_agent, actions[next_agent]))\n",
    "        state[next_agent, actions[next_agent]] += 1\n",
    "        lens = np.sum(state, axis=0)\n",
    "        if any(lens > lens[honest_fork]):\n",
    "            honest_fork = np.argmax(lens)\n",
    "    winning_fork = np.argmax(lens)\n",
    "    assert(lens[winning_fork] == 5)\n",
    "    if winning_fork == 0:\n",
    "        rewards.append(state[0, 0] + WHALE_REWARD)\n",
    "    else:\n",
    "        rewards.append(state[0, winning_fork])\n",
    "rewards = np.asarray(rewards)"
   ]
  },
  {
   "cell_type": "code",
   "execution_count": 288,
   "metadata": {},
   "outputs": [
    {
     "data": {
      "text/plain": [
       "(1.72436, 1.1575243368499861)"
      ]
     },
     "execution_count": 288,
     "metadata": {},
     "output_type": "execute_result"
    }
   ],
   "source": [
    "np.mean(rewards), np.std(rewards)"
   ]
  },
  {
   "cell_type": "code",
   "execution_count": null,
   "metadata": {},
   "outputs": [],
   "source": []
  },
  {
   "cell_type": "code",
   "execution_count": 297,
   "metadata": {},
   "outputs": [
    {
     "data": {
      "text/plain": [
       "array([0.   , 0.125, 0.25 , 0.375, 0.5  , 0.625, 0.75 , 0.875, 1.   ,\n",
       "       1.125, 1.25 , 1.375, 1.5  , 1.625, 1.75 , 1.875])"
      ]
     },
     "execution_count": 297,
     "metadata": {},
     "output_type": "execute_result"
    }
   ],
   "source": [
    "whales = np.arange(0, 2, 0.125)\n",
    "whales"
   ]
  },
  {
   "cell_type": "code",
   "execution_count": 299,
   "metadata": {},
   "outputs": [
    {
     "name": "stderr",
     "output_type": "stream",
     "text": [
      "100%|██████████| 100000/100000 [00:18<00:00, 5470.71it/s]\n",
      "100%|██████████| 100000/100000 [00:15<00:00, 6256.25it/s]\n",
      "100%|██████████| 100000/100000 [00:18<00:00, 5376.84it/s]\n",
      "100%|██████████| 100000/100000 [00:15<00:00, 6304.81it/s]\n",
      "100%|██████████| 100000/100000 [00:18<00:00, 5498.00it/s]\n",
      "100%|██████████| 100000/100000 [00:15<00:00, 6264.30it/s]\n",
      "100%|██████████| 100000/100000 [00:18<00:00, 5489.48it/s]\n",
      "100%|██████████| 100000/100000 [00:17<00:00, 5868.24it/s]\n",
      "100%|██████████| 100000/100000 [00:18<00:00, 5443.02it/s]\n",
      "100%|██████████| 100000/100000 [00:16<00:00, 6161.26it/s]\n",
      "100%|██████████| 100000/100000 [00:19<00:00, 5199.72it/s]\n",
      "100%|██████████| 100000/100000 [00:16<00:00, 6093.79it/s]\n",
      "100%|██████████| 100000/100000 [00:18<00:00, 5427.87it/s]\n",
      "100%|██████████| 100000/100000 [00:15<00:00, 6315.55it/s]\n",
      "100%|██████████| 100000/100000 [00:18<00:00, 5426.53it/s]\n",
      "100%|██████████| 100000/100000 [00:16<00:00, 6097.05it/s]\n",
      "100%|██████████| 100000/100000 [00:18<00:00, 5359.99it/s]\n",
      "100%|██████████| 100000/100000 [00:16<00:00, 6212.36it/s]\n",
      "100%|██████████| 100000/100000 [00:18<00:00, 5461.13it/s]\n",
      "100%|██████████| 100000/100000 [00:16<00:00, 6162.76it/s]\n",
      "100%|██████████| 100000/100000 [00:18<00:00, 5426.66it/s]\n",
      "100%|██████████| 100000/100000 [00:16<00:00, 6218.80it/s]\n",
      "100%|██████████| 100000/100000 [00:19<00:00, 5150.00it/s]\n",
      "100%|██████████| 100000/100000 [00:15<00:00, 6259.95it/s]\n",
      "100%|██████████| 100000/100000 [00:18<00:00, 5458.84it/s]\n",
      "100%|██████████| 100000/100000 [00:16<00:00, 6182.61it/s]\n",
      "100%|██████████| 100000/100000 [00:18<00:00, 5330.31it/s]\n",
      "100%|██████████| 100000/100000 [00:15<00:00, 6274.87it/s]\n",
      "100%|██████████| 100000/100000 [00:18<00:00, 5401.31it/s]\n",
      "100%|██████████| 100000/100000 [00:15<00:00, 6259.90it/s]\n",
      "100%|██████████| 100000/100000 [00:18<00:00, 5467.81it/s]\n",
      "100%|██████████| 100000/100000 [00:16<00:00, 6199.15it/s]\n"
     ]
    }
   ],
   "source": [
    "res_total = []\n",
    "# sim.\n",
    "for W in whales:\n",
    "    WHALE_REWARD = W\n",
    "    rewards = []\n",
    "    iters = int(1e5)\n",
    "    for _ in tqdm(range(iters)):\n",
    "        state = np.array([\n",
    "            [0,0,0],\n",
    "            [0,0,0],\n",
    "            [0,0,0]])\n",
    "        init_block = np.random.choice([0,1,2])\n",
    "        state[init_block, init_block] = 1\n",
    "        honest_fork = init_block\n",
    "        lens = np.sum(state, axis=0)\n",
    "        while 5 not in lens:\n",
    "            # print(lens, honest_fork)\n",
    "            actions = []\n",
    "            max_len = lens[honest_fork]\n",
    "            for i in range(3):\n",
    "                # behind by at least 2.\n",
    "                if lens[i] < max_len - 1:\n",
    "                    actions.append(honest_fork)\n",
    "                else:\n",
    "                    actions.append(i)\n",
    "            next_agent = np.random.choice([0,1,2])\n",
    "            # print('    next block created by {} on fork {}'.format(next_agent, actions[next_agent]))\n",
    "            state[next_agent, actions[next_agent]] += 1\n",
    "            lens = np.sum(state, axis=0)\n",
    "            if any(lens > lens[honest_fork]):\n",
    "                honest_fork = np.argmax(lens)\n",
    "        winning_fork = np.argmax(lens)\n",
    "        assert(lens[winning_fork] == 5)\n",
    "        if winning_fork == 0:\n",
    "            rewards.append(state[0, 0] + WHALE_REWARD)\n",
    "        else:\n",
    "            rewards.append(state[0, winning_fork])\n",
    "    rewards = np.asarray(rewards)\n",
    "    res_total.append((np.mean(rewards), np.std(rewards)))\n",
    "\n",
    "    # sim honest.\n",
    "    WHALE_REWARD = W\n",
    "    rewards = []\n",
    "    iters = int(1e5)\n",
    "    for _ in tqdm(range(iters)):\n",
    "        state = np.array([\n",
    "            [0,0,0],\n",
    "            [0,0,0],\n",
    "            [0,0,0]])\n",
    "        init_block = np.random.choice([0,1,2])\n",
    "        state[init_block, init_block] = 1\n",
    "        honest_fork = init_block\n",
    "        lens = np.sum(state, axis=0)\n",
    "        while 5 not in lens:\n",
    "            # print(lens, honest_fork)\n",
    "            actions = []\n",
    "            max_len = lens[honest_fork]\n",
    "            actions.append(honest_fork) # force zero to be honest\n",
    "            for i in range(1,3):\n",
    "                # behind by at least 2.\n",
    "                if lens[i] < max_len - 1:\n",
    "                    actions.append(honest_fork)\n",
    "                else:\n",
    "                    actions.append(i)\n",
    "            next_agent = np.random.choice([0,1,2])\n",
    "            # print('    next block created by {} on fork {}'.format(next_agent, actions[next_agent]))\n",
    "            state[next_agent, actions[next_agent]] += 1\n",
    "            lens = np.sum(state, axis=0)\n",
    "            if any(lens > lens[honest_fork]):\n",
    "                honest_fork = np.argmax(lens)\n",
    "        winning_fork = np.argmax(lens)\n",
    "        assert(lens[winning_fork] == 5)\n",
    "        if winning_fork == 0:\n",
    "            rewards.append(state[0, 0] + WHALE_REWARD)\n",
    "        else:\n",
    "            rewards.append(state[0, winning_fork])\n",
    "    rewards = np.asarray(rewards)\n",
    "    res_total.append((np.mean(rewards), np.std(rewards)))"
   ]
  },
  {
   "cell_type": "code",
   "execution_count": 305,
   "metadata": {},
   "outputs": [
    {
     "data": {
      "text/plain": [
       "(32, 2)"
      ]
     },
     "execution_count": 305,
     "metadata": {},
     "output_type": "execute_result"
    }
   ],
   "source": [
    "res_total = np.array(res_total)\n",
    "res_total.shape"
   ]
  },
  {
   "cell_type": "code",
   "execution_count": 310,
   "metadata": {},
   "outputs": [
    {
     "data": {
      "text/plain": [
       "array([1.66556   , 1.71654125, 1.7490525 , 1.7981675 , 1.829155  ,\n",
       "       1.87327125, 1.9209025 , 1.9388475 , 2.01132   , 2.03895625,\n",
       "       2.083945  , 2.122625  , 2.17082   , 2.20430625, 2.2428075 ,\n",
       "       2.2857725 ])"
      ]
     },
     "execution_count": 310,
     "metadata": {},
     "output_type": "execute_result"
    }
   ],
   "source": [
    "res_total[::2][:,0]"
   ]
  },
  {
   "cell_type": "code",
   "execution_count": 320,
   "metadata": {},
   "outputs": [
    {
     "data": {
      "image/png": "[encoded data removed]",
      "text/plain": [
       "<Figure size 504x360 with 1 Axes>"
      ]
     },
     "metadata": {
      "needs_background": "light"
     },
     "output_type": "display_data"
    }
   ],
   "source": [
    "f, ax = plt.subplots(figsize=(7,5))\n",
    "\n",
    "\n",
    "ax.plot(whales, res_total[::2][:,0], marker='s', color='k', label='selfish', fillstyle='none',\n",
    "        linewidth=0.3)\n",
    "ax.plot(whales, res_total[1::2][:,0], marker='o', color='r', label='honest', fillstyle='none',\n",
    "        linewidth=0.3)\n",
    "ax.axvline(1.73, linewidth=3, color='b', alpha=0.3, label='Maximum stable W')\n",
    "ax.grid(alpha=0.1)\n",
    "\n",
    "ax.set_xlabel(r'$W$', size=14)\n",
    "ax.set_ylabel(r'$Reward$', size=14)\n",
    "\n",
    "plt.legend()\n",
    "plt.show()"
   ]
  },
  {
   "cell_type": "code",
   "execution_count": null,
   "metadata": {},
   "outputs": [],
   "source": []
  },
  {
   "cell_type": "code",
   "execution_count": 267,
   "metadata": {},
   "outputs": [
    {
     "data": {
      "text/plain": [
       "0"
      ]
     },
     "execution_count": 267,
     "metadata": {},
     "output_type": "execute_result"
    }
   ],
   "source": [
    "policy[2]"
   ]
  },
  {
   "cell_type": "code",
   "execution_count": 271,
   "metadata": {},
   "outputs": [
    {
     "data": {
      "text/plain": [
       "array([ True,  True,  True])"
      ]
     },
     "execution_count": 271,
     "metadata": {},
     "output_type": "execute_result"
    }
   ],
   "source": [
    "np.array(policy[:3]) == 0"
   ]
  },
  {
   "cell_type": "code",
   "execution_count": 261,
   "metadata": {},
   "outputs": [
    {
     "data": {
      "text/plain": [
       "1.0090000000000003"
      ]
     },
     "execution_count": 261,
     "metadata": {},
     "output_type": "execute_result"
    }
   ],
   "source": [
    "val_iter.V[0]"
   ]
  },
  {
   "cell_type": "code",
   "execution_count": 262,
   "metadata": {},
   "outputs": [
    {
     "data": {
      "text/plain": [
       "1.0"
      ]
     },
     "execution_count": 262,
     "metadata": {},
     "output_type": "execute_result"
    }
   ],
   "source": [
    "WHALE_REWARD * p"
   ]
  },
  {
   "cell_type": "code",
   "execution_count": 231,
   "metadata": {
    "scrolled": true
   },
   "outputs": [
    {
     "name": "stdout",
     "output_type": "stream",
     "text": [
      "WARNING: check conditions of convergence. With no discount, convergence can not be assumed.\n",
      "WARNING: check conditions of convergence. With no discount, convergence can not be assumed.\n",
      "WARNING: check conditions of convergence. With no discount, convergence can not be assumed.\n",
      "WARNING: check conditions of convergence. With no discount, convergence can not be assumed.\n",
      "WARNING: check conditions of convergence. With no discount, convergence can not be assumed.\n",
      "WARNING: check conditions of convergence. With no discount, convergence can not be assumed.\n",
      "WARNING: check conditions of convergence. With no discount, convergence can not be assumed.\n",
      "WARNING: check conditions of convergence. With no discount, convergence can not be assumed.\n",
      "WARNING: check conditions of convergence. With no discount, convergence can not be assumed.\n",
      "WARNING: check conditions of convergence. With no discount, convergence can not be assumed.\n",
      "WARNING: check conditions of convergence. With no discount, convergence can not be assumed.\n",
      "WARNING: check conditions of convergence. With no discount, convergence can not be assumed.\n",
      "WARNING: check conditions of convergence. With no discount, convergence can not be assumed.\n",
      "WARNING: check conditions of convergence. With no discount, convergence can not be assumed.\n",
      "WARNING: check conditions of convergence. With no discount, convergence can not be assumed.\n",
      "WARNING: check conditions of convergence. With no discount, convergence can not be assumed.\n",
      "WARNING: check conditions of convergence. With no discount, convergence can not be assumed.\n",
      "WARNING: check conditions of convergence. With no discount, convergence can not be assumed.\n",
      "WARNING: check conditions of convergence. With no discount, convergence can not be assumed.\n",
      "WARNING: check conditions of convergence. With no discount, convergence can not be assumed.\n",
      "WARNING: check conditions of convergence. With no discount, convergence can not be assumed.\n",
      "WARNING: check conditions of convergence. With no discount, convergence can not be assumed.\n",
      "WARNING: check conditions of convergence. With no discount, convergence can not be assumed.\n",
      "WARNING: check conditions of convergence. With no discount, convergence can not be assumed.\n",
      "WARNING: check conditions of convergence. With no discount, convergence can not be assumed.\n",
      "WARNING: check conditions of convergence. With no discount, convergence can not be assumed.\n",
      "WARNING: check conditions of convergence. With no discount, convergence can not be assumed.\n",
      "WARNING: check conditions of convergence. With no discount, convergence can not be assumed.\n",
      "WARNING: check conditions of convergence. With no discount, convergence can not be assumed.\n",
      "WARNING: check conditions of convergence. With no discount, convergence can not be assumed.\n",
      "WARNING: check conditions of convergence. With no discount, convergence can not be assumed.\n",
      "WARNING: check conditions of convergence. With no discount, convergence can not be assumed.\n",
      "WARNING: check conditions of convergence. With no discount, convergence can not be assumed.\n",
      "WARNING: check conditions of convergence. With no discount, convergence can not be assumed.\n",
      "WARNING: check conditions of convergence. With no discount, convergence can not be assumed.\n",
      "WARNING: check conditions of convergence. With no discount, convergence can not be assumed.\n",
      "WARNING: check conditions of convergence. With no discount, convergence can not be assumed.\n",
      "WARNING: check conditions of convergence. With no discount, convergence can not be assumed.\n",
      "WARNING: check conditions of convergence. With no discount, convergence can not be assumed.\n",
      "WARNING: check conditions of convergence. With no discount, convergence can not be assumed.\n",
      "WARNING: check conditions of convergence. With no discount, convergence can not be assumed.\n",
      "WARNING: check conditions of convergence. With no discount, convergence can not be assumed.\n",
      "WARNING: check conditions of convergence. With no discount, convergence can not be assumed.\n",
      "WARNING: check conditions of convergence. With no discount, convergence can not be assumed.\n",
      "WARNING: check conditions of convergence. With no discount, convergence can not be assumed.\n",
      "WARNING: check conditions of convergence. With no discount, convergence can not be assumed.\n",
      "WARNING: check conditions of convergence. With no discount, convergence can not be assumed.\n",
      "WARNING: check conditions of convergence. With no discount, convergence can not be assumed.\n",
      "WARNING: check conditions of convergence. With no discount, convergence can not be assumed.\n",
      "WARNING: check conditions of convergence. With no discount, convergence can not be assumed.\n",
      "WARNING: check conditions of convergence. With no discount, convergence can not be assumed.\n",
      "WARNING: check conditions of convergence. With no discount, convergence can not be assumed.\n",
      "WARNING: check conditions of convergence. With no discount, convergence can not be assumed.\n",
      "WARNING: check conditions of convergence. With no discount, convergence can not be assumed.\n",
      "WARNING: check conditions of convergence. With no discount, convergence can not be assumed.\n",
      "WARNING: check conditions of convergence. With no discount, convergence can not be assumed.\n",
      "WARNING: check conditions of convergence. With no discount, convergence can not be assumed.\n",
      "WARNING: check conditions of convergence. With no discount, convergence can not be assumed.\n",
      "WARNING: check conditions of convergence. With no discount, convergence can not be assumed.\n",
      "WARNING: check conditions of convergence. With no discount, convergence can not be assumed.\n"
     ]
    }
   ],
   "source": [
    "results = []\n",
    "whales = np.linspace(0,10,20)\n",
    "total_states = getTotalStates(length=8)\n",
    "si = Ind(total_states)\n",
    "for p in [1/9, 2/9, 1/3]:\n",
    "    temp = []\n",
    "    for w in whales:\n",
    "        WHALE_REWARD = w\n",
    "        t, r = getTR(si, total_states, length=8, p=p)\n",
    "        val_iter = mdpt.mdp.ValueIteration(t, r, discount=1)\n",
    "        val_iter.run()\n",
    "        temp.append(val_iter.V[0])\n",
    "    results.append(temp)\n",
    "results = np.asarray(results)"
   ]
  },
  {
   "cell_type": "code",
   "execution_count": 232,
   "metadata": {},
   "outputs": [
    {
     "data": {
      "image/png": "[encoded data removed]",
      "text/plain": [
       "<Figure size 792x216 with 3 Axes>"
      ]
     },
     "metadata": {
      "needs_background": "light"
     },
     "output_type": "display_data"
    }
   ],
   "source": [
    "f, axarr = plt.subplots(ncols=3, figsize=(11,3))\n",
    "\n",
    "axarr[0].plot(whales, results[0], marker='o', fillstyle='none', color='k', linewidth=0.3,\n",
    "              label='optimal')\n",
    "axarr[0].plot(whales, whales* 1/9 , marker='s', fillstyle='none', color='r', linewidth=0.3,\n",
    "              label='honest')\n",
    "\n",
    "axarr[1].plot(whales, results[1], marker='o', fillstyle='none', color='k', linewidth=0.3,\n",
    "              label='optimal')\n",
    "axarr[1].plot(whales, whales* 2/9 , marker='s', fillstyle='none', color='r', linewidth=0.3,\n",
    "              label='honest')\n",
    "\n",
    "axarr[2].plot(whales, results[2], marker='o', fillstyle='none', color='k', linewidth=0.3,\n",
    "              label='optimal')\n",
    "axarr[2].plot(whales, whales* 3/9 , marker='s', fillstyle='none', color='r', linewidth=0.3,\n",
    "              label='honest')\n",
    "\n",
    "\n",
    "for ax in axarr:\n",
    "    ax.legend()\n",
    "    ax.set_xlabel(r'$W$', size = 13)\n",
    "    ax.set_ylabel(r'$\\mathbb{E}[R]$', size = 13)\n",
    "    ax.grid(alpha=0.1)\n",
    "    \n",
    "axarr[0].set_title(r'$\\alpha=1/9$', size=15)\n",
    "axarr[1].set_title(r'$\\alpha=2/9$', size=15)\n",
    "axarr[2].set_title(r'$\\alpha=1/3$', size=15)\n",
    "\n",
    "plt.subplots_adjust(wspace=0.26)\n",
    "plt.show()"
   ]
  },
  {
   "cell_type": "code",
   "execution_count": 240,
   "metadata": {},
   "outputs": [
    {
     "data": {
      "text/plain": [
       "'01,00,1'"
      ]
     },
     "execution_count": 240,
     "metadata": {},
     "output_type": "execute_result"
    }
   ],
   "source": [
    "si.s(2)"
   ]
  },
  {
   "cell_type": "code",
   "execution_count": 281,
   "metadata": {},
   "outputs": [
    {
     "name": "stdout",
     "output_type": "stream",
     "text": [
      "p=0.10, w=8.92\n",
      "p=0.12, w=7.21\n",
      "p=0.14, w=5.99\n",
      "p=0.16, w=5.07\n",
      "p=0.18, w=4.37\n",
      "p=0.20, w=3.81\n",
      "p=0.22, w=3.31\n",
      "p=0.24, w=2.91\n",
      "p=0.26, w=2.59\n",
      "p=0.28, w=2.28\n",
      "p=0.31, w=2.04\n",
      "p=0.33, w=1.82\n",
      "p=0.35, w=1.62\n",
      "p=0.37, w=1.44\n",
      "p=0.39, w=1.30\n",
      "p=0.41, w=1.16\n",
      "p=0.43, w=1.04\n",
      "p=0.45, w=0.92\n",
      "p=0.47, w=0.82\n",
      "p=0.49, w=0.72\n"
     ]
    }
   ],
   "source": [
    "results = []\n",
    "whales = np.linspace(0,10,500)\n",
    "total_states = getTotalStates(length=8)\n",
    "si = Ind(total_states)\n",
    "ps = np.linspace(0.1, 0.49, 20)\n",
    "old_stdout = sys.stdout # backup current stdout\n",
    "policies = []\n",
    "for p in ps:\n",
    "    min_W = 0\n",
    "    sys.stdout = open(os.devnull, 'w')\n",
    "    for w in whales:\n",
    "        WHALE_REWARD = w\n",
    "        t, r = getTR(si, total_states, length=8, p=p)\n",
    "        val_iter = mdpt.mdp.ValueIteration(t, r, discount=1)\n",
    "        val_iter.run()\n",
    "        if np.all(np.array(val_iter.policy[:3]) == 0):\n",
    "            sys.stdout = old_stdout\n",
    "            print('p={:0.2f}, w={:0.2f}'.format(p, w))\n",
    "            min_W = w\n",
    "            policies.append((p, w, val_iter.policy))\n",
    "            break\n",
    "    results.append(min_W)\n",
    "results = np.asarray(results)"
   ]
  },
  {
   "cell_type": "code",
   "execution_count": 287,
   "metadata": {},
   "outputs": [
    {
     "data": {
      "text/plain": [
       "(0.1, 8.917835671342685)"
      ]
     },
     "execution_count": 287,
     "metadata": {},
     "output_type": "execute_result"
    }
   ],
   "source": [
    "p, w"
   ]
  },
  {
   "cell_type": "code",
   "execution_count": 350,
   "metadata": {},
   "outputs": [
    {
     "name": "stderr",
     "output_type": "stream",
     "text": [
      "100%|██████████| 10000/10000 [00:02<00:00, 3372.92it/s]\n",
      "  3%|▎         | 337/10000 [00:00<00:02, 3369.70it/s]"
     ]
    },
    {
     "name": "stdout",
     "output_type": "stream",
     "text": [
      "p=0.10, prob_reorg=0.009\n"
     ]
    },
    {
     "name": "stderr",
     "output_type": "stream",
     "text": [
      "100%|██████████| 10000/10000 [00:02<00:00, 3400.90it/s]\n",
      "  3%|▎         | 336/10000 [00:00<00:02, 3353.93it/s]"
     ]
    },
    {
     "name": "stdout",
     "output_type": "stream",
     "text": [
      "p=0.12, prob_reorg=0.016\n"
     ]
    },
    {
     "name": "stderr",
     "output_type": "stream",
     "text": [
      "100%|██████████| 10000/10000 [00:02<00:00, 3416.24it/s]\n",
      "  3%|▎         | 340/10000 [00:00<00:02, 3396.97it/s]"
     ]
    },
    {
     "name": "stdout",
     "output_type": "stream",
     "text": [
      "p=0.14, prob_reorg=0.018\n"
     ]
    },
    {
     "name": "stderr",
     "output_type": "stream",
     "text": [
      "100%|██████████| 10000/10000 [00:02<00:00, 3414.14it/s]\n",
      "  0%|          | 0/10000 [00:00<?, ?it/s]"
     ]
    },
    {
     "name": "stdout",
     "output_type": "stream",
     "text": [
      "p=0.16, prob_reorg=0.025\n"
     ]
    },
    {
     "name": "stderr",
     "output_type": "stream",
     "text": [
      "100%|██████████| 10000/10000 [00:02<00:00, 3390.69it/s]\n",
      "  3%|▎         | 339/10000 [00:00<00:02, 3382.04it/s]"
     ]
    },
    {
     "name": "stdout",
     "output_type": "stream",
     "text": [
      "p=0.18, prob_reorg=0.036\n"
     ]
    },
    {
     "name": "stderr",
     "output_type": "stream",
     "text": [
      "100%|██████████| 10000/10000 [00:02<00:00, 3436.34it/s]\n",
      "  3%|▎         | 344/10000 [00:00<00:02, 3430.95it/s]"
     ]
    },
    {
     "name": "stdout",
     "output_type": "stream",
     "text": [
      "p=0.20, prob_reorg=0.036\n"
     ]
    },
    {
     "name": "stderr",
     "output_type": "stream",
     "text": [
      "100%|██████████| 10000/10000 [00:02<00:00, 3437.51it/s]\n",
      "  0%|          | 0/10000 [00:00<?, ?it/s]"
     ]
    },
    {
     "name": "stdout",
     "output_type": "stream",
     "text": [
      "p=0.22, prob_reorg=0.048\n"
     ]
    },
    {
     "name": "stderr",
     "output_type": "stream",
     "text": [
      "100%|██████████| 10000/10000 [00:02<00:00, 3481.87it/s]\n",
      "  4%|▎         | 356/10000 [00:00<00:02, 3550.56it/s]"
     ]
    },
    {
     "name": "stdout",
     "output_type": "stream",
     "text": [
      "p=0.24, prob_reorg=0.057\n"
     ]
    },
    {
     "name": "stderr",
     "output_type": "stream",
     "text": [
      "100%|██████████| 10000/10000 [00:03<00:00, 3323.90it/s]\n",
      "  0%|          | 0/10000 [00:00<?, ?it/s]"
     ]
    },
    {
     "name": "stdout",
     "output_type": "stream",
     "text": [
      "p=0.26, prob_reorg=0.062\n"
     ]
    },
    {
     "name": "stderr",
     "output_type": "stream",
     "text": [
      "100%|██████████| 10000/10000 [00:03<00:00, 2853.06it/s]\n",
      "  0%|          | 0/10000 [00:00<?, ?it/s]"
     ]
    },
    {
     "name": "stdout",
     "output_type": "stream",
     "text": [
      "p=0.28, prob_reorg=0.075\n"
     ]
    },
    {
     "name": "stderr",
     "output_type": "stream",
     "text": [
      "100%|██████████| 10000/10000 [00:03<00:00, 2541.58it/s]\n",
      "  3%|▎         | 342/10000 [00:00<00:02, 3413.76it/s]"
     ]
    },
    {
     "name": "stdout",
     "output_type": "stream",
     "text": [
      "p=0.31, prob_reorg=0.080\n"
     ]
    },
    {
     "name": "stderr",
     "output_type": "stream",
     "text": [
      "100%|██████████| 10000/10000 [00:03<00:00, 3319.50it/s]\n",
      "  0%|          | 0/10000 [00:00<?, ?it/s]"
     ]
    },
    {
     "name": "stdout",
     "output_type": "stream",
     "text": [
      "p=0.33, prob_reorg=0.093\n"
     ]
    },
    {
     "name": "stderr",
     "output_type": "stream",
     "text": [
      "100%|██████████| 10000/10000 [00:02<00:00, 3387.94it/s]\n",
      "  7%|▋         | 700/10000 [00:00<00:02, 3501.85it/s]"
     ]
    },
    {
     "name": "stdout",
     "output_type": "stream",
     "text": [
      "p=0.35, prob_reorg=0.103\n"
     ]
    },
    {
     "name": "stderr",
     "output_type": "stream",
     "text": [
      "100%|██████████| 10000/10000 [00:02<00:00, 3373.40it/s]\n",
      "  3%|▎         | 302/10000 [00:00<00:03, 3010.91it/s]"
     ]
    },
    {
     "name": "stdout",
     "output_type": "stream",
     "text": [
      "p=0.37, prob_reorg=0.109\n"
     ]
    },
    {
     "name": "stderr",
     "output_type": "stream",
     "text": [
      "100%|██████████| 10000/10000 [00:03<00:00, 3063.13it/s]\n",
      "  3%|▎         | 332/10000 [00:00<00:02, 3317.35it/s]"
     ]
    },
    {
     "name": "stdout",
     "output_type": "stream",
     "text": [
      "p=0.39, prob_reorg=0.121\n"
     ]
    },
    {
     "name": "stderr",
     "output_type": "stream",
     "text": [
      "100%|██████████| 10000/10000 [00:02<00:00, 3582.78it/s]\n",
      "  7%|▋         | 729/10000 [00:00<00:02, 3643.03it/s]"
     ]
    },
    {
     "name": "stdout",
     "output_type": "stream",
     "text": [
      "p=0.41, prob_reorg=0.132\n"
     ]
    },
    {
     "name": "stderr",
     "output_type": "stream",
     "text": [
      "100%|██████████| 10000/10000 [00:02<00:00, 3626.69it/s]\n",
      "  0%|          | 0/10000 [00:00<?, ?it/s]"
     ]
    },
    {
     "name": "stdout",
     "output_type": "stream",
     "text": [
      "p=0.43, prob_reorg=0.139\n"
     ]
    },
    {
     "name": "stderr",
     "output_type": "stream",
     "text": [
      "100%|██████████| 10000/10000 [00:02<00:00, 3555.00it/s]\n",
      "  4%|▎         | 351/10000 [00:00<00:02, 3504.96it/s]"
     ]
    },
    {
     "name": "stdout",
     "output_type": "stream",
     "text": [
      "p=0.45, prob_reorg=0.146\n"
     ]
    },
    {
     "name": "stderr",
     "output_type": "stream",
     "text": [
      "100%|██████████| 10000/10000 [00:03<00:00, 3104.92it/s]\n",
      "  5%|▌         | 530/10000 [00:00<00:03, 2647.93it/s]"
     ]
    },
    {
     "name": "stdout",
     "output_type": "stream",
     "text": [
      "p=0.47, prob_reorg=0.155\n"
     ]
    },
    {
     "name": "stderr",
     "output_type": "stream",
     "text": [
      "100%|██████████| 10000/10000 [00:03<00:00, 2953.99it/s]\n"
     ]
    },
    {
     "name": "stdout",
     "output_type": "stream",
     "text": [
      "p=0.49, prob_reorg=0.167\n"
     ]
    }
   ],
   "source": [
    "# estimate prob of reorg\n",
    "iters = int(1e4)\n",
    "length = 8\n",
    "\n",
    "probs_of_reorg = []\n",
    "for p, w, policy in policies:\n",
    "    reorgs = 0\n",
    "    t, r = getTR(si, total_states, length=8, p=p)\n",
    "\n",
    "    for _ in tqdm(range(iters)):\n",
    "        cur_state = 0\n",
    "        while True:\n",
    "            opt_action = policy[cur_state]\n",
    "            next_states = np.nonzero(t[opt_action, cur_state])[0]\n",
    "            probs = t[opt_action, cur_state][next_states]\n",
    "            new_state = np.random.choice(next_states, p=probs)\n",
    "            if si.s(cur_state)[-1] != si.s(new_state)[-1] and cur_state != 0:\n",
    "                reorgs += 1\n",
    "                break\n",
    "            cur_state = new_state\n",
    "            if str(length) in si.s(cur_state)[:2]:\n",
    "                break\n",
    "    print('p={:0.2f}, prob_reorg={:0.3f}'.format(p, reorgs / iters))\n",
    "    probs_of_reorg.append(reorgs / iters)"
   ]
  },
  {
   "cell_type": "code",
   "execution_count": 351,
   "metadata": {},
   "outputs": [
    {
     "data": {
      "image/png": "[encoded data removed]",
      "text/plain": [
       "<Figure size 576x216 with 2 Axes>"
      ]
     },
     "metadata": {
      "needs_background": "light"
     },
     "output_type": "display_data"
    }
   ],
   "source": [
    "f, axarr = plt.subplots(ncols = 2, figsize=(8,3))\n",
    "\n",
    "axarr[0].plot(ps, results, marker='o', fillstyle='none', color='k', linewidth=0.3)\n",
    "axarr[1].plot(ps, probs_of_reorg, marker='s', fillstyle='none', color='r', linewidth=0.3)\n",
    "\n",
    "axarr[1].set_yticks([0.02, 0.06, 0.10, 0.14])\n",
    "\n",
    "for ax in axarr:\n",
    "    ax.set_xlabel(r'$\\alpha$', size = 15)\n",
    "    ax.grid(alpha=0.1)\n",
    "    \n",
    "axarr[0].set_title('Minimum selfish W', size=15)\n",
    "axarr[1].set_title('Prob. of reorg', size=15)\n",
    "\n",
    "axarr[0].set_ylabel(r'$W$', size=13)\n",
    "axarr[1].set_ylabel(r'$Pr$', size=13)\n",
    "\n",
    "plt.subplots_adjust(wspace=0.26)\n",
    "plt.show()"
   ]
  }
 ],
 "metadata": {
  "kernelspec": {
   "display_name": "Python 3",
   "language": "python",
   "name": "python3"
  },
  "language_info": {
   "codemirror_mode": {
    "name": "ipython",
    "version": 3
   },
   "file_extension": ".py",
   "mimetype": "text/x-python",
   "name": "python",
   "nbconvert_exporter": "python",
   "pygments_lexer": "ipython3",
   "version": "3.8.6"
  }
 },
 "nbformat": 4,
 "nbformat_minor": 4
}
