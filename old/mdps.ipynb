{
 "cells": [
  {
   "cell_type": "code",
   "execution_count": 16,
   "metadata": {},
   "outputs": [],
   "source": [
    "import copy \n",
    "import matplotlib.pyplot as plt\n",
    "import mdptoolbox as mdpt\n",
    "import numpy as np"
   ]
  },
  {
   "cell_type": "code",
   "execution_count": 219,
   "metadata": {},
   "outputs": [],
   "source": [
    "class State:\n",
    "    def __init__(self, state, length=2):\n",
    "        self.state = np.array(state)\n",
    "        self.terminal_length = length\n",
    "    \n",
    "    def __str__(self):\n",
    "        res = ''\n",
    "        for i in range(3):\n",
    "            res += str(self.state[i])\n",
    "        res += ','\n",
    "        for i in range(3,6):\n",
    "            res += str(self.state[i])\n",
    "        res += ','\n",
    "        res += str(self.state[6])\n",
    "        return res\n",
    "    \n",
    "    def __setitem__(self, ind, val):\n",
    "        self.state[ind] = val\n",
    "        \n",
    "    def __getitem__(self, ind):\n",
    "        return self.state[ind]\n",
    "    \n",
    "    def isTerminal(self):\n",
    "        return self.terminal_length in self.state[:3]\n",
    "\n",
    "    def getHonestFork(self):\n",
    "        return self.state[-1]\n",
    "    \n",
    "    def __eq__(self, other):\n",
    "        return all(self.state == other.state)"
   ]
  },
  {
   "cell_type": "code",
   "execution_count": 220,
   "metadata": {},
   "outputs": [
    {
     "data": {
      "text/plain": [
       "('021,000,2', True)"
      ]
     },
     "execution_count": 220,
     "metadata": {},
     "output_type": "execute_result"
    }
   ],
   "source": [
    "init_state = State([0,2,1,0,0,0,2])\n",
    "str(init_state), init_state.isTerminal()"
   ]
  },
  {
   "cell_type": "code",
   "execution_count": 221,
   "metadata": {},
   "outputs": [],
   "source": [
    "# returns possible next states, given an action\n",
    "def nextStates(cur_state, action):\n",
    "    new_states = []\n",
    "    if action == 'selfish':\n",
    "        for i in range(3):\n",
    "            temp = copy.deepcopy(cur_state)\n",
    "            temp[i] += 1\n",
    "            if i == 0:\n",
    "                temp[3] += 1\n",
    "                \n",
    "            # new honest fork.\n",
    "            if any(temp[:3] > temp[temp.getHonestFork()]):\n",
    "                temp[-1] = np.argmax(temp[:3])\n",
    "                \n",
    "            new_states.append(temp)\n",
    "        \n",
    "    else: # action == 'honest'\n",
    "        for i in range(3):\n",
    "            temp = copy.deepcopy(cur_state)\n",
    "            if i == 0:\n",
    "                temp[cur_state[-1]] += 1\n",
    "                temp[3+cur_state[-1]] += 1\n",
    "            else:\n",
    "                temp[i] += 1\n",
    "            new_states.append(temp)\n",
    "            \n",
    "            # new honest fork.\n",
    "            if any(temp[:3] > temp[temp.getHonestFork()]):\n",
    "                temp[-1] = np.argmax(temp[:3])\n",
    "            \n",
    "    return new_states"
   ]
  },
  {
   "cell_type": "code",
   "execution_count": 232,
   "metadata": {},
   "outputs": [],
   "source": [
    "init_state = State([0,1,1,0,0,0,2])\n",
    "res = nextStates(init_state, 'selfish')"
   ]
  },
  {
   "cell_type": "code",
   "execution_count": 233,
   "metadata": {},
   "outputs": [
    {
     "data": {
      "text/plain": [
       "('111,100,2', '021,000,1', '012,000,2')"
      ]
     },
     "execution_count": 233,
     "metadata": {},
     "output_type": "execute_result"
    }
   ],
   "source": [
    "str(res[0]), str(res[1]), str(res[2]) "
   ]
  },
  {
   "cell_type": "code",
   "execution_count": 234,
   "metadata": {},
   "outputs": [],
   "source": [
    "def checkIfInTotalStates(total_states, state):\n",
    "    for s in total_states:\n",
    "        if state == s:\n",
    "            return True\n",
    "    return False"
   ]
  },
  {
   "cell_type": "code",
   "execution_count": 292,
   "metadata": {},
   "outputs": [],
   "source": [
    "# algorithm to enumerate possible states.\n",
    "init_state = State([0,0,0,0,0,0,0], length=2)\n",
    "\n",
    "total_states = [init_state]\n",
    "states_to_process = [init_state]\n",
    "while states_to_process:\n",
    "    elem = states_to_process.pop()\n",
    "    next_states = nextStates(elem, 'selfish')\n",
    "    next_states.extend(nextStates(elem, 'honest'))\n",
    "    for s in next_states:\n",
    "        if not checkIfInTotalStates(total_states, s):\n",
    "            total_states.append(s)\n",
    "        if not s.isTerminal() and not checkIfInTotalStates(states_to_process, s):\n",
    "            states_to_process.append(s)"
   ]
  },
  {
   "cell_type": "code",
   "execution_count": 293,
   "metadata": {},
   "outputs": [
    {
     "name": "stdout",
     "output_type": "stream",
     "text": [
      "000,000,0\n",
      "100,100,0\n",
      "010,000,1\n",
      "001,000,2\n",
      "101,100,2\n",
      "011,000,2\n",
      "002,000,2\n",
      "002,001,2\n",
      "111,100,2\n",
      "021,000,1\n",
      "012,000,2\n",
      "012,001,2\n",
      "211,200,0\n",
      "121,100,1\n",
      "112,100,2\n",
      "112,101,2\n",
      "201,200,0\n",
      "102,100,2\n",
      "102,101,2\n",
      "110,100,1\n",
      "020,000,1\n",
      "011,000,1\n",
      "020,010,1\n",
      "111,100,1\n",
      "021,010,1\n",
      "121,110,1\n",
      "210,200,0\n",
      "120,100,1\n",
      "120,110,1\n",
      "200,200,0\n",
      "110,100,0\n",
      "101,100,0\n",
      "111,100,0\n"
     ]
    }
   ],
   "source": [
    "for s in total_states:\n",
    "    print(s)"
   ]
  },
  {
   "cell_type": "code",
   "execution_count": 295,
   "metadata": {},
   "outputs": [],
   "source": [
    "class StateIndex:\n",
    "    def __init__(self, total_states):\n",
    "        self.stringToInd = {}\n",
    "        self.indToString = {}\n",
    "        for i in range(len(total_states)):\n",
    "            self.stringToInd[str(total_states[i])] = i\n",
    "            self.indToString[i] = str(total_states[i])\n",
    "    \n",
    "    def getIndex(self, string):\n",
    "        return self.stringToInd[string]\n",
    "\n",
    "    def getString(self, ind):\n",
    "        return self.indToString[ind]"
   ]
  },
  {
   "cell_type": "code",
   "execution_count": 296,
   "metadata": {},
   "outputs": [],
   "source": [
    "def getTerminalReward(state, whale_reward=1.5):\n",
    "    assert(state.isTerminal())\n",
    "    reward = state[3+np.argmax(state[:3])]\n",
    "    if np.argmax(state[:3]) == 0:    \n",
    "        reward += whale_reward\n",
    "    return reward"
   ]
  },
  {
   "cell_type": "code",
   "execution_count": 309,
   "metadata": {},
   "outputs": [],
   "source": [
    "def prettyPrintPolicy(policy, state_ind):\n",
    "    for i in range(len(policy)):\n",
    "        print(state_ind.getString(i), end=' ')\n",
    "        if policy[i] == 0:\n",
    "            print('selfish')\n",
    "        else:\n",
    "            print('honest')"
   ]
  },
  {
   "cell_type": "code",
   "execution_count": 297,
   "metadata": {},
   "outputs": [],
   "source": [
    "state_ind = StateIndex(total_states)"
   ]
  },
  {
   "cell_type": "code",
   "execution_count": 298,
   "metadata": {},
   "outputs": [],
   "source": [
    "transitions = np.zeros((2, len(total_states), len(total_states)))\n",
    "rewards = np.zeros((2, len(total_states), len(total_states)))"
   ]
  },
  {
   "cell_type": "code",
   "execution_count": 310,
   "metadata": {},
   "outputs": [],
   "source": [
    "# algorithm to construct transition and reward matrices.\n",
    "init_state = State([0,0,0,0,0,0,0], length=2)\n",
    "\n",
    "states_to_process = [init_state]\n",
    "while states_to_process:\n",
    "    elem = states_to_process.pop()\n",
    "    selfish_states = nextStates(elem, 'selfish')\n",
    "    start_ind = state_ind.getIndex(str(elem))\n",
    "    for i in range(3):\n",
    "        next_ind = state_ind.getIndex(str(selfish_states[i]))\n",
    "        transitions[0, start_ind, next_ind] = 1/3\n",
    "        rewards[0, start_ind, next_ind] = -1/3\n",
    "        if selfish_states[i].isTerminal():\n",
    "            \n",
    "            rewards[0, start_ind, next_ind] += getTerminalReward(selfish_states[i], whale_reward=2)\n",
    "\n",
    "    honest_states = nextStates(elem, 'honest')\n",
    "    start_ind = state_ind.getIndex(str(elem))\n",
    "    for i in range(3):\n",
    "        next_ind = state_ind.getIndex(str(honest_states[i]))\n",
    "        transitions[1, start_ind, next_ind] = 1/3\n",
    "        rewards[1, start_ind, next_ind] = -1/3\n",
    "        if honest_states[i].isTerminal():\n",
    "            rewards[1, start_ind, next_ind] += getTerminalReward(honest_states[i], whale_reward=2)\n",
    "        \n",
    "    next_states = selfish_states + honest_states\n",
    "    for s in next_states:\n",
    "        if not s.isTerminal() and not checkIfInTotalStates(states_to_process, s):\n",
    "            states_to_process.append(s)\n",
    "        if s.isTerminal():\n",
    "            index = state_ind.getIndex(str(s))\n",
    "            transitions[0, index, index] = 1\n",
    "            transitions[1, index, index] = 1"
   ]
  },
  {
   "cell_type": "code",
   "execution_count": 311,
   "metadata": {},
   "outputs": [
    {
     "data": {
      "text/plain": [
       "array([[1., 1., 1., 1., 1., 1., 1., 1., 1., 1., 1., 1., 1., 1., 1., 1.,\n",
       "        1., 1., 1., 1., 1., 1., 1., 1., 1., 1., 1., 1., 1., 1., 1., 1.,\n",
       "        1.],\n",
       "       [1., 1., 1., 1., 1., 1., 1., 1., 1., 1., 1., 1., 1., 1., 1., 1.,\n",
       "        1., 1., 1., 1., 1., 1., 1., 1., 1., 1., 1., 1., 1., 1., 1., 1.,\n",
       "        1.]])"
      ]
     },
     "execution_count": 311,
     "metadata": {},
     "output_type": "execute_result"
    }
   ],
   "source": [
    "np.sum(transitions, axis=2)"
   ]
  },
  {
   "cell_type": "code",
   "execution_count": 312,
   "metadata": {},
   "outputs": [
    {
     "name": "stdout",
     "output_type": "stream",
     "text": [
      "WARNING: check conditions of convergence. With no discount, convergence can not be assumed.\n"
     ]
    }
   ],
   "source": [
    "val_iter = mdpt.mdp.ValueIteration(transitions, rewards, discount=1)\n",
    "val_iter.run()"
   ]
  },
  {
   "cell_type": "code",
   "execution_count": 313,
   "metadata": {},
   "outputs": [
    {
     "data": {
      "text/plain": [
       "(0.3703703703703701,\n",
       " 1.8888888888888884,\n",
       " 0.111111111111111,\n",
       " 0.111111111111111,\n",
       " 1.333333333333333,\n",
       " 2.7755575615628914e-17,\n",
       " 0.0,\n",
       " 0.0,\n",
       " 0.9999999999999998,\n",
       " 0.0,\n",
       " 0.0,\n",
       " 0.0,\n",
       " 0.0,\n",
       " 0.0,\n",
       " 0.0,\n",
       " 0.0,\n",
       " 0.0,\n",
       " 0.0,\n",
       " 0.0,\n",
       " 1.333333333333333,\n",
       " 0.0,\n",
       " 2.7755575615628914e-17,\n",
       " 0.0,\n",
       " 0.9999999999999998,\n",
       " 0.0,\n",
       " 0.0,\n",
       " 0.0,\n",
       " 0.0,\n",
       " 0.0,\n",
       " 0.0,\n",
       " 1.333333333333333,\n",
       " 1.333333333333333,\n",
       " 0.9999999999999998)"
      ]
     },
     "execution_count": 313,
     "metadata": {},
     "output_type": "execute_result"
    }
   ],
   "source": [
    "val_iter.V"
   ]
  },
  {
   "cell_type": "code",
   "execution_count": 314,
   "metadata": {
    "scrolled": false
   },
   "outputs": [
    {
     "name": "stdout",
     "output_type": "stream",
     "text": [
      "000,000,0 selfish\n",
      "100,100,0 selfish\n",
      "010,000,1 selfish\n",
      "001,000,2 selfish\n",
      "101,100,2 selfish\n",
      "011,000,2 honest\n",
      "002,000,2 selfish\n",
      "002,001,2 selfish\n",
      "111,100,2 selfish\n",
      "021,000,1 selfish\n",
      "012,000,2 selfish\n",
      "012,001,2 selfish\n",
      "211,200,0 selfish\n",
      "121,100,1 selfish\n",
      "112,100,2 selfish\n",
      "112,101,2 selfish\n",
      "201,200,0 selfish\n",
      "102,100,2 selfish\n",
      "102,101,2 selfish\n",
      "110,100,1 selfish\n",
      "020,000,1 selfish\n",
      "011,000,1 honest\n",
      "020,010,1 selfish\n",
      "111,100,1 selfish\n",
      "021,010,1 selfish\n",
      "121,110,1 selfish\n",
      "210,200,0 selfish\n",
      "120,100,1 selfish\n",
      "120,110,1 selfish\n",
      "200,200,0 selfish\n",
      "110,100,0 selfish\n",
      "101,100,0 selfish\n",
      "111,100,0 selfish\n"
     ]
    }
   ],
   "source": [
    "prettyPrintPolicy(val_iter.policy, state_ind)"
   ]
  },
  {
   "cell_type": "code",
   "execution_count": 317,
   "metadata": {},
   "outputs": [],
   "source": [
    "policy = val_iter.policy"
   ]
  },
  {
   "cell_type": "code",
   "execution_count": 427,
   "metadata": {},
   "outputs": [],
   "source": [
    "class MinerBlocks:\n",
    "    def __init__(self):\n",
    "        self.miner_blocks = np.array([\n",
    "            [0,0,0],\n",
    "            [0,0,0],\n",
    "            [0,0,0]\n",
    "        ])\n",
    "        self.honest_fork = 0\n",
    "    \n",
    "    def getState(self, miner_ind):\n",
    "        if np.sum(self.miner_blocks) == 0:\n",
    "            return np.array([0,0,0,0,0,0,0])\n",
    "        \n",
    "        fork_lens = np.sum(self.miner_blocks, axis=0)\n",
    "        fork_lens[0], fork_lens[miner_ind] = fork_lens[miner_ind], fork_lens[0]\n",
    "        \n",
    "        miner_lens = copy.deepcopy(self.miner_blocks[miner_ind])\n",
    "        miner_lens[0], miner_lens[miner_ind] = miner_lens[miner_ind], miner_lens[0]\n",
    "        \n",
    "        return np.concatenate((fork_lens, miner_lens, [self.getHonestFork(miner_ind)]))\n",
    "    \n",
    "    def getHonestFork(self, miner_ind):\n",
    "        if self.honest_fork == miner_ind:\n",
    "            return 0\n",
    "        elif self.honest_fork == 0:\n",
    "            return miner_ind\n",
    "        return self.honest_fork\n",
    "\n",
    "    def isTerminal(self):\n",
    "        return np.max(self.miner_blocks) == 2\n",
    "    \n",
    "    def __eq__(self, other):\n",
    "        if np.all(self.miner_blocks == other.miner_blocks) and self.honest_fork == other.honest_fork:\n",
    "            return True\n",
    "        return False\n",
    "    \n",
    "def checkForDuplicates(current_set, candidate):\n",
    "    for s in current_set:\n",
    "        if candidate == s:\n",
    "            return True\n",
    "    return False"
   ]
  },
  {
   "cell_type": "code",
   "execution_count": 408,
   "metadata": {},
   "outputs": [
    {
     "name": "stdout",
     "output_type": "stream",
     "text": [
      "000,000,0\n"
     ]
    }
   ],
   "source": [
    "mb = MinerBlocks()\n",
    "print(State(mb.getState(1)))"
   ]
  },
  {
   "cell_type": "code",
   "execution_count": 457,
   "metadata": {},
   "outputs": [
    {
     "ename": "KeyError",
     "evalue": "'201,100,0'",
     "output_type": "error",
     "traceback": [
      "\u001b[0;31m---------------------------------------------------------------------------\u001b[0m",
      "\u001b[0;31mKeyError\u001b[0m                                  Traceback (most recent call last)",
      "\u001b[0;32m<ipython-input-457-19193ee3a966>\u001b[0m in \u001b[0;36m<module>\u001b[0;34m\u001b[0m\n\u001b[1;32m     31\u001b[0m             \u001b[0mtemp_state\u001b[0m\u001b[0;34m.\u001b[0m\u001b[0mhonest_fork\u001b[0m \u001b[0;34m=\u001b[0m \u001b[0mnp\u001b[0m\u001b[0;34m.\u001b[0m\u001b[0margmax\u001b[0m\u001b[0;34m(\u001b[0m\u001b[0mfork_lens\u001b[0m\u001b[0;34m)\u001b[0m\u001b[0;34m\u001b[0m\u001b[0;34m\u001b[0m\u001b[0m\n\u001b[1;32m     32\u001b[0m         \u001b[0mcur_state_ind\u001b[0m \u001b[0;34m=\u001b[0m \u001b[0mstate_ind\u001b[0m\u001b[0;34m.\u001b[0m\u001b[0mgetIndex\u001b[0m\u001b[0;34m(\u001b[0m\u001b[0mstr\u001b[0m\u001b[0;34m(\u001b[0m\u001b[0mState\u001b[0m\u001b[0;34m(\u001b[0m\u001b[0melem\u001b[0m\u001b[0;34m.\u001b[0m\u001b[0mgetState\u001b[0m\u001b[0;34m(\u001b[0m\u001b[0;36m0\u001b[0m\u001b[0;34m)\u001b[0m\u001b[0;34m)\u001b[0m\u001b[0;34m)\u001b[0m\u001b[0;34m)\u001b[0m\u001b[0;34m\u001b[0m\u001b[0;34m\u001b[0m\u001b[0m\n\u001b[0;32m---> 33\u001b[0;31m         \u001b[0mnext_state_ind\u001b[0m \u001b[0;34m=\u001b[0m \u001b[0mstate_ind\u001b[0m\u001b[0;34m.\u001b[0m\u001b[0mgetIndex\u001b[0m\u001b[0;34m(\u001b[0m\u001b[0mstr\u001b[0m\u001b[0;34m(\u001b[0m\u001b[0mState\u001b[0m\u001b[0;34m(\u001b[0m\u001b[0mtemp_state\u001b[0m\u001b[0;34m.\u001b[0m\u001b[0mgetState\u001b[0m\u001b[0;34m(\u001b[0m\u001b[0;36m0\u001b[0m\u001b[0;34m)\u001b[0m\u001b[0;34m)\u001b[0m\u001b[0;34m)\u001b[0m\u001b[0;34m)\u001b[0m\u001b[0;34m\u001b[0m\u001b[0;34m\u001b[0m\u001b[0m\n\u001b[0m\u001b[1;32m     34\u001b[0m         \u001b[0mnew_transitions\u001b[0m\u001b[0;34m[\u001b[0m\u001b[0;36m0\u001b[0m\u001b[0;34m,\u001b[0m \u001b[0mcur_state_ind\u001b[0m\u001b[0;34m,\u001b[0m \u001b[0mnext_state_ind\u001b[0m\u001b[0;34m]\u001b[0m \u001b[0;34m=\u001b[0m \u001b[0;36m1\u001b[0m\u001b[0;34m/\u001b[0m\u001b[0;36m3\u001b[0m\u001b[0;34m\u001b[0m\u001b[0;34m\u001b[0m\u001b[0m\n\u001b[1;32m     35\u001b[0m         \u001b[0mnew_transitions\u001b[0m\u001b[0;34m[\u001b[0m\u001b[0;36m1\u001b[0m\u001b[0;34m,\u001b[0m \u001b[0mcur_state_ind\u001b[0m\u001b[0;34m,\u001b[0m \u001b[0mnext_state_ind\u001b[0m\u001b[0;34m]\u001b[0m \u001b[0;34m=\u001b[0m \u001b[0;36m1\u001b[0m\u001b[0;34m/\u001b[0m\u001b[0;36m3\u001b[0m\u001b[0;34m\u001b[0m\u001b[0;34m\u001b[0m\u001b[0m\n",
      "\u001b[0;32m<ipython-input-295-93c4acbf4854>\u001b[0m in \u001b[0;36mgetIndex\u001b[0;34m(self, string)\u001b[0m\n\u001b[1;32m      8\u001b[0m \u001b[0;34m\u001b[0m\u001b[0m\n\u001b[1;32m      9\u001b[0m     \u001b[0;32mdef\u001b[0m \u001b[0mgetIndex\u001b[0m\u001b[0;34m(\u001b[0m\u001b[0mself\u001b[0m\u001b[0;34m,\u001b[0m \u001b[0mstring\u001b[0m\u001b[0;34m)\u001b[0m\u001b[0;34m:\u001b[0m\u001b[0;34m\u001b[0m\u001b[0;34m\u001b[0m\u001b[0m\n\u001b[0;32m---> 10\u001b[0;31m         \u001b[0;32mreturn\u001b[0m \u001b[0mself\u001b[0m\u001b[0;34m.\u001b[0m\u001b[0mstringToInd\u001b[0m\u001b[0;34m[\u001b[0m\u001b[0mstring\u001b[0m\u001b[0;34m]\u001b[0m\u001b[0;34m\u001b[0m\u001b[0;34m\u001b[0m\u001b[0m\n\u001b[0m\u001b[1;32m     11\u001b[0m \u001b[0;34m\u001b[0m\u001b[0m\n\u001b[1;32m     12\u001b[0m     \u001b[0;32mdef\u001b[0m \u001b[0mgetString\u001b[0m\u001b[0;34m(\u001b[0m\u001b[0mself\u001b[0m\u001b[0;34m,\u001b[0m \u001b[0mind\u001b[0m\u001b[0;34m)\u001b[0m\u001b[0;34m:\u001b[0m\u001b[0;34m\u001b[0m\u001b[0;34m\u001b[0m\u001b[0m\n",
      "\u001b[0;31mKeyError\u001b[0m: '201,100,0'"
     ]
    }
   ],
   "source": [
    "# construct MDP from optimal policy.\n",
    "init_state = MinerBlocks()\n",
    "\n",
    "new_transitions = np.zeros((2, len(total_states), len(total_states)))\n",
    "new_rewards = np.zeros((2, len(total_states), len(total_states)))\n",
    "\n",
    "states_to_process = [init_state]\n",
    "while states_to_process:\n",
    "    elem = states_to_process.pop()\n",
    "    \n",
    "    actions = []\n",
    "    # get actions of other 2 agents, from the policy.\n",
    "    for i in range(1,3):\n",
    "        temp_state = State(elem.getState(i))\n",
    "        policy_action = policy[state_ind.getIndex(str(temp_state))]\n",
    "        if policy_action == 0: # selfish\n",
    "            actions.append((i,i))\n",
    "        else: # honest\n",
    "            actions.append((i,elem.honest_fork))\n",
    "    \n",
    "    \n",
    "    # other agents actions, given the policy.\n",
    "    for act in actions:\n",
    "        agent, fork = act\n",
    "        temp_state = copy.deepcopy(elem)\n",
    "        temp_state.miner_blocks[(agent, fork)] += 1\n",
    "        \n",
    "        # new honest fork.\n",
    "        fork_lens = np.sum(temp_state.miner_blocks, axis=0)\n",
    "        if any(fork_lens > fork_lens[temp_state.honest_fork]):\n",
    "            temp_state.honest_fork = np.argmax(fork_lens)\n",
    "        cur_state_ind = state_ind.getIndex(str(State(elem.getState(0))))\n",
    "        next_state_ind = state_ind.getIndex(str(State(temp_state.getState(0))))\n",
    "        new_transitions[0, cur_state_ind, next_state_ind] = 1/3\n",
    "        new_transitions[1, cur_state_ind, next_state_ind] = 1/3\n",
    "        \n",
    "        if not temp_state.isTerminal() and not checkForDuplicates(states_to_process, temp_state):\n",
    "            states_to_process.append(temp_state)\n",
    "    \n",
    "    # We win block.\n",
    "    for fork in [0, elem.honest_fork]:\n",
    "        temp_state = copy.deepcopy(elem)\n",
    "        temp_state.miner_blocks[(0, fork)] += 1\n",
    "        \n",
    "        # new honest fork.\n",
    "        fork_lens = np.sum(temp_state.miner_blocks, axis=0)\n",
    "        if any(fork_lens > fork_lens[temp_state.honest_fork]):\n",
    "            temp_state.honest_fork = np.argmax(fork_lens)\n",
    "        cur_state_ind = state_ind.getIndex(str(State(elem.getState(0))))\n",
    "        next_state_ind = state_ind.getIndex(str(State(temp_state.getState(0))))\n",
    "        new_transitions[0, cur_state_ind, next_state_ind] = 1/3\n",
    "        new_transitions[1, cur_state_ind, next_state_ind] = 1/3\n",
    "        \n",
    "        if not temp_state.isTerminal() and not checkForDuplicates(states_to_process, temp_state):\n",
    "            states_to_process.append(temp_state)"
   ]
  },
  {
   "cell_type": "code",
   "execution_count": 453,
   "metadata": {},
   "outputs": [],
   "source": [
    "def printTransitions(transitions):\n",
    "    for i in range(len(total_states)):\n",
    "        print(state_ind.getString(i))\n",
    "        for j in range(len(total_states)):\n",
    "            if transitions[0,i,j] != 0:\n",
    "                print(\"    \", state_ind.getString(j), \" selfish, {:0.2f}\".format(transitions[0,i,j]))\n",
    "        for j in range(len(total_states)):\n",
    "            if transitions[1,i,j] != 0:\n",
    "                print(\"    \", state_ind.getString(j), \" honest, {:0.2f}\".format(transitions[1,i,j]))"
   ]
  },
  {
   "cell_type": "code",
   "execution_count": 454,
   "metadata": {},
   "outputs": [
    {
     "name": "stdout",
     "output_type": "stream",
     "text": [
      "000,000,0\n",
      "     010,000,1  selfish, 0.33\n",
      "     001,000,2  selfish, 0.33\n",
      "     010,000,1  honest, 0.33\n",
      "     001,000,2  honest, 0.33\n",
      "100,100,0\n",
      "010,000,1\n",
      "     020,000,1  selfish, 0.33\n",
      "     011,000,1  selfish, 0.33\n",
      "     020,000,1  honest, 0.33\n",
      "     011,000,1  honest, 0.33\n",
      "001,000,2\n",
      "     011,000,2  selfish, 0.33\n",
      "     002,000,2  selfish, 0.33\n",
      "     011,000,2  honest, 0.33\n",
      "     002,000,2  honest, 0.33\n",
      "101,100,2\n",
      "011,000,2\n",
      "     021,000,1  selfish, 0.33\n",
      "     012,000,2  selfish, 0.33\n",
      "     021,000,1  honest, 0.33\n",
      "     012,000,2  honest, 0.33\n",
      "002,000,2\n",
      "002,001,2\n",
      "111,100,2\n",
      "021,000,1\n",
      "012,000,2\n",
      "012,001,2\n",
      "211,200,0\n",
      "121,100,1\n",
      "112,100,2\n",
      "112,101,2\n",
      "201,200,0\n",
      "102,100,2\n",
      "102,101,2\n",
      "110,100,1\n",
      "020,000,1\n",
      "011,000,1\n",
      "     021,000,1  selfish, 0.33\n",
      "     012,000,2  selfish, 0.33\n",
      "     021,000,1  honest, 0.33\n",
      "     012,000,2  honest, 0.33\n",
      "020,010,1\n",
      "111,100,1\n",
      "021,010,1\n",
      "121,110,1\n",
      "210,200,0\n",
      "120,100,1\n",
      "120,110,1\n",
      "200,200,0\n",
      "110,100,0\n",
      "101,100,0\n",
      "111,100,0\n"
     ]
    }
   ],
   "source": [
    "printTransitions(new_transitions)"
   ]
  },
  {
   "cell_type": "code",
   "execution_count": null,
   "metadata": {},
   "outputs": [],
   "source": []
  }
 ],
 "metadata": {
  "kernelspec": {
   "display_name": "Python 3",
   "language": "python",
   "name": "python3"
  },
  "language_info": {
   "codemirror_mode": {
    "name": "ipython",
    "version": 3
   },
   "file_extension": ".py",
   "mimetype": "text/x-python",
   "name": "python",
   "nbconvert_exporter": "python",
   "pygments_lexer": "ipython3",
   "version": "3.8.6"
  }
 },
 "nbformat": 4,
 "nbformat_minor": 4
}
