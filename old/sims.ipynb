{
 "cells": [
  {
   "cell_type": "code",
   "execution_count": 155,
   "metadata": {},
   "outputs": [],
   "source": [
    "import matplotlib.pyplot as plt\n",
    "import numpy as np\n",
    "from tqdm import tqdm"
   ]
  },
  {
   "cell_type": "markdown",
   "metadata": {},
   "source": [
    "# all selfish"
   ]
  },
  {
   "cell_type": "code",
   "execution_count": 66,
   "metadata": {},
   "outputs": [
    {
     "name": "stderr",
     "output_type": "stream",
     "text": [
      "100%|██████████| 100000/100000 [00:02<00:00, 43043.87it/s]\n"
     ]
    }
   ],
   "source": [
    "results = { 'wins' : [], 'losses' : []}\n",
    "for _ in tqdm(range(int(1e5))):\n",
    "    state = np.array([0, 0, 1])\n",
    "    steps = 0\n",
    "    while 2 not in state:\n",
    "        ind = np.random.randint(3)\n",
    "        state[ind] += 1\n",
    "        steps += 1\n",
    "    if state[0] == 2:\n",
    "        results['wins'].append(steps)\n",
    "    else:\n",
    "        results['losses'].append(steps)"
   ]
  },
  {
   "cell_type": "code",
   "execution_count": 67,
   "metadata": {},
   "outputs": [
    {
     "data": {
      "text/plain": [
       "(0.18461, 2.4026325767834895)"
      ]
     },
     "execution_count": 67,
     "metadata": {},
     "output_type": "execute_result"
    }
   ],
   "source": [
    "len(results['wins']) / int(1e5), np.mean(results['wins'])"
   ]
  },
  {
   "cell_type": "code",
   "execution_count": 68,
   "metadata": {},
   "outputs": [
    {
     "data": {
      "text/plain": [
       "(0.81539, 1.774500545751113)"
      ]
     },
     "execution_count": 68,
     "metadata": {},
     "output_type": "execute_result"
    }
   ],
   "source": [
    "len(results['losses']) / int(1e5), np.mean(results['losses'])"
   ]
  },
  {
   "cell_type": "code",
   "execution_count": 108,
   "metadata": {},
   "outputs": [],
   "source": [
    "def doAllSelfish(length=2, iters=int(1e5)):\n",
    "    results = { 'wins' : [], 'losses' : []}\n",
    "    for _ in tqdm(range(iters)):\n",
    "        state = np.array([0, 0, 1])\n",
    "        steps = 0\n",
    "        while length not in state:\n",
    "            ind = np.random.randint(3)\n",
    "            state[ind] += 1\n",
    "            steps += 1\n",
    "        if state[0] == length:\n",
    "            results['wins'].append(steps)\n",
    "        else:\n",
    "            results['losses'].append(steps)\n",
    "\n",
    "    pwin = len(results['wins']) / iters\n",
    "    lenwin = np.mean(results['wins'])\n",
    "    \n",
    "    plose = len(results['losses']) / iters\n",
    "    lenlose = np.mean(results['losses'])\n",
    "    \n",
    "    return 1/3*lenwin - length + 1/pwin * 1/3 * plose * lenlose"
   ]
  },
  {
   "cell_type": "code",
   "execution_count": 114,
   "metadata": {},
   "outputs": [
    {
     "name": "stderr",
     "output_type": "stream",
     "text": [
      "100%|██████████| 100000/100000 [00:09<00:00, 10483.23it/s]\n"
     ]
    },
    {
     "data": {
      "text/plain": [
       "8.15642252950413"
      ]
     },
     "execution_count": 114,
     "metadata": {},
     "output_type": "execute_result"
    }
   ],
   "source": [
    "doAllSelfish(length=6)"
   ]
  },
  {
   "cell_type": "markdown",
   "metadata": {},
   "source": [
    "# one selfish"
   ]
  },
  {
   "cell_type": "code",
   "execution_count": 40,
   "metadata": {},
   "outputs": [
    {
     "name": "stderr",
     "output_type": "stream",
     "text": [
      "100%|██████████| 100000/100000 [00:01<00:00, 55210.42it/s]\n"
     ]
    }
   ],
   "source": [
    "results = { 'wins' : [], 'losses' : []}\n",
    "for _ in tqdm(range(int(1e5))):\n",
    "    state = np.array([0, 1])\n",
    "    steps = 0\n",
    "    while 2 not in state:\n",
    "        ind = np.random.randint(3)\n",
    "        if ind == 0:\n",
    "            state[0] += 1\n",
    "        else:\n",
    "            state[1] += 1 \n",
    "        steps += 1\n",
    "    if state[0] == 2:\n",
    "        results['wins'].append(steps)\n",
    "    else:\n",
    "        results['losses'].append(steps)"
   ]
  },
  {
   "cell_type": "code",
   "execution_count": 41,
   "metadata": {},
   "outputs": [
    {
     "data": {
      "text/plain": [
       "(0.11189, 2.0)"
      ]
     },
     "execution_count": 41,
     "metadata": {},
     "output_type": "execute_result"
    }
   ],
   "source": [
    "len(results['wins']) / int(1e5), np.mean(results['wins'])"
   ]
  },
  {
   "cell_type": "code",
   "execution_count": 42,
   "metadata": {},
   "outputs": [
    {
     "data": {
      "text/plain": [
       "(0.88811, 1.2491583249822658)"
      ]
     },
     "execution_count": 42,
     "metadata": {},
     "output_type": "execute_result"
    }
   ],
   "source": [
    "len(results['losses']) / int(1e5), np.mean(results['losses'])"
   ]
  },
  {
   "cell_type": "code",
   "execution_count": 45,
   "metadata": {},
   "outputs": [
    {
     "data": {
      "text/plain": [
       "10.0"
      ]
     },
     "execution_count": 45,
     "metadata": {},
     "output_type": "execute_result"
    }
   ],
   "source": [
    "1.25 * 8 /9 *9"
   ]
  },
  {
   "cell_type": "code",
   "execution_count": 107,
   "metadata": {},
   "outputs": [],
   "source": [
    "def doOneSelfish(length=2, iters=int(1e5)):\n",
    "    results = { 'wins' : [], 'losses' : []}\n",
    "    for _ in tqdm(range(iters)):\n",
    "        state = np.array([0, 1])\n",
    "        steps = 0\n",
    "        while length not in state:\n",
    "            ind = np.random.randint(3)\n",
    "            if ind == 0:\n",
    "                state[0] += 1\n",
    "            else:\n",
    "                state[1] += 1 \n",
    "            steps += 1\n",
    "        if state[0] == length:\n",
    "            results['wins'].append(steps)\n",
    "        else:\n",
    "            results['losses'].append(steps)\n",
    "    pwin = len(results['wins']) / iters\n",
    "    lenwin = np.mean(results['wins'])\n",
    "    \n",
    "    plose = len(results['losses']) / iters\n",
    "    lenlose = np.mean(results['losses'])\n",
    "    \n",
    "    return 1/3*lenwin - length + 1/pwin * 1/3 * plose * lenlose"
   ]
  },
  {
   "cell_type": "code",
   "execution_count": 119,
   "metadata": {},
   "outputs": [
    {
     "name": "stderr",
     "output_type": "stream",
     "text": [
      "100%|██████████| 100000/100000 [00:06<00:00, 14799.86it/s]\n"
     ]
    },
    {
     "data": {
      "text/plain": [
       "25.913096802452912"
      ]
     },
     "execution_count": 119,
     "metadata": {},
     "output_type": "execute_result"
    }
   ],
   "source": [
    "doOneSelfish(length=6)"
   ]
  },
  {
   "cell_type": "markdown",
   "metadata": {},
   "source": [
    "# n-player "
   ]
  },
  {
   "cell_type": "code",
   "execution_count": 120,
   "metadata": {},
   "outputs": [],
   "source": [
    "def doAllSelfishNplayers(players=3, length=2, iters=int(1e5)):\n",
    "    results = { 'wins' : [], 'losses' : []}\n",
    "    for _ in tqdm(range(iters)):\n",
    "        state = np.zeros(players)\n",
    "        state[-1] = 1\n",
    "        steps = 0\n",
    "        while length not in state:\n",
    "            ind = np.random.randint(players)\n",
    "            state[ind] += 1\n",
    "            steps += 1\n",
    "        if state[0] == length:\n",
    "            results['wins'].append(steps)\n",
    "        else:\n",
    "            results['losses'].append(steps)\n",
    "\n",
    "    pwin = len(results['wins']) / iters\n",
    "    lenwin = np.mean(results['wins'])\n",
    "    \n",
    "    plose = len(results['losses']) / iters\n",
    "    lenlose = np.mean(results['losses'])\n",
    "    \n",
    "    return 1/players*lenwin - length + 1/pwin * 1/players * plose * lenlose"
   ]
  },
  {
   "cell_type": "code",
   "execution_count": 145,
   "metadata": {},
   "outputs": [
    {
     "name": "stderr",
     "output_type": "stream",
     "text": [
      "100%|██████████| 100000/100000 [00:14<00:00, 6834.44it/s]\n"
     ]
    },
    {
     "data": {
      "text/plain": [
       "13.444071428571426"
      ]
     },
     "execution_count": 145,
     "metadata": {},
     "output_type": "execute_result"
    }
   ],
   "source": [
    "doAllSelfishNplayers(players=5, length=6)"
   ]
  },
  {
   "cell_type": "code",
   "execution_count": 139,
   "metadata": {},
   "outputs": [],
   "source": [
    "def doOneSelfishNplayers(players=3, length=2, iters=int(1e5)):\n",
    "    results = { 'wins' : [], 'losses' : []}\n",
    "    for _ in tqdm(range(iters)):\n",
    "        state = np.array([0, 1])\n",
    "        steps = 0\n",
    "        while length not in state:\n",
    "            ind = np.random.randint(players)\n",
    "            if ind == 0:\n",
    "                state[0] += 1\n",
    "            else:\n",
    "                state[1] += 1 \n",
    "            steps += 1\n",
    "        if state[0] == length:\n",
    "            results['wins'].append(steps)\n",
    "        else:\n",
    "            results['losses'].append(steps)\n",
    "    pwin = len(results['wins']) / iters\n",
    "    lenwin = np.mean(results['wins'])\n",
    "    \n",
    "    plose = len(results['losses']) / iters\n",
    "    lenlose = np.mean(results['losses'])\n",
    "    return 1/players*lenwin - length + 1/pwin * 1/players * plose * lenlose"
   ]
  },
  {
   "cell_type": "code",
   "execution_count": 150,
   "metadata": {},
   "outputs": [
    {
     "name": "stderr",
     "output_type": "stream",
     "text": [
      "100%|██████████| 100000/100000 [00:05<00:00, 17559.89it/s]\n"
     ]
    },
    {
     "data": {
      "text/plain": [
       "193.13652312599677"
      ]
     },
     "execution_count": 150,
     "metadata": {},
     "output_type": "execute_result"
    }
   ],
   "source": [
    "doOneSelfishNplayers(players=5, length=6)"
   ]
  },
  {
   "cell_type": "code",
   "execution_count": 151,
   "metadata": {},
   "outputs": [],
   "source": [
    "# plotting"
   ]
  },
  {
   "cell_type": "code",
   "execution_count": 170,
   "metadata": {},
   "outputs": [],
   "source": [
    "data3p = np.array([[1.39, 1.99],\n",
    "                     [2.98, 5.32],\n",
    "                     [4.67, 9.99],\n",
    "                     [6.15, 16.81],\n",
    "                     [8.16, 25.91]])\n",
    "\n",
    "\n",
    "data4p = np.array([\n",
    "    [1.78,3.03],\n",
    "    [3.82,9.60],\n",
    "    [6.07,22.49],\n",
    "    [8.42,43.44],\n",
    "    [10.68,77.69],\n",
    "])\n",
    "\n",
    "data5p = np.array([\n",
    "    [2.00,4.12],\n",
    "    [4.66,15.05],\n",
    "    [7.44,38.57],\n",
    "    [10.36,94.22],\n",
    "    [13.44,193.13]\n",
    "])"
   ]
  },
  {
   "cell_type": "code",
   "execution_count": 173,
   "metadata": {},
   "outputs": [
    {
     "data": {
      "image/png": "[encoded data removed]",
      "text/plain": [
       "<Figure size 792x216 with 3 Axes>"
      ]
     },
     "metadata": {
      "needs_background": "light"
     },
     "output_type": "display_data"
    }
   ],
   "source": [
    "f, axarr = plt.subplots(ncols=3, figsize=(11,3))\n",
    "\n",
    "lengths = np.arange(2,7)\n",
    "axarr[0].plot(lengths, data3p[:,0], marker='s', color='k', linewidth=0.3, label='All selfish')\n",
    "axarr[0].plot(lengths, data3p[:,1], marker='o', color='r', linewidth=0.3, label='Single selfish')\n",
    "\n",
    "axarr[1].plot(lengths, data4p[:,0], marker='s', color='k', linewidth=0.3, label='All selfish')\n",
    "axarr[1].plot(lengths, data4p[:,1], marker='o', color='r', linewidth=0.3, label='Single selfish')\n",
    "\n",
    "axarr[2].plot(lengths, data5p[:,0], marker='s', color='k', linewidth=0.3, label='All selfish')\n",
    "axarr[2].plot(lengths, data5p[:,1], marker='o', color='r', linewidth=0.3, label='Single selfish')\n",
    "\n",
    "\n",
    "axarr[0].set_title('3 player', size=17)\n",
    "axarr[1].set_title('4 player', size=17)\n",
    "axarr[2].set_title('5 player', size=17)\n",
    "for ax in axarr:\n",
    "    ax.set_xlabel('lengths', size=14)\n",
    "    ax.set_ylabel(r'$W$', size=14)\n",
    "    ax.legend()\n",
    "plt.subplots_adjust(wspace=0.4)\n",
    "plt.show()"
   ]
  },
  {
   "cell_type": "code",
   "execution_count": 179,
   "metadata": {},
   "outputs": [
    {
     "data": {
      "text/plain": [
       "array([1.39, 1.99])"
      ]
     },
     "execution_count": 179,
     "metadata": {},
     "output_type": "execute_result"
    }
   ],
   "source": []
  },
  {
   "cell_type": "code",
   "execution_count": 185,
   "metadata": {},
   "outputs": [
    {
     "data": {
      "image/png": "[encoded data removed]",
      "text/plain": [
       "<Figure size 576x216 with 2 Axes>"
      ]
     },
     "metadata": {
      "needs_background": "light"
     },
     "output_type": "display_data"
    }
   ],
   "source": [
    "f, axarr = plt.subplots(ncols=2, figsize=(8,3))\n",
    "\n",
    "lengths = np.arange(2,7)\n",
    "\n",
    "axarr[0].plot(lengths, data3p[:,0], color='g', linewidth=0.3, marker='^', label='3 player')\n",
    "axarr[0].plot(lengths, data4p[:,0], color='b', linewidth=0.3, marker='v', label='4 player')\n",
    "axarr[0].plot(lengths, data5p[:,0], color='y', linewidth=0.3, marker='*', label='5 player')\n",
    "\n",
    "axarr[1].plot(lengths, data3p[:,1], color='g', linewidth=0.3, marker='^', label='3 player')\n",
    "axarr[1].plot(lengths, data4p[:,1], color='b', linewidth=0.3, marker='v', label='4 player')\n",
    "axarr[1].plot(lengths, data5p[:,1], color='y', linewidth=0.3, marker='*', label='5 player')\n",
    "\n",
    "\n",
    "axarr[0].set_title('All selfish', size=17)\n",
    "axarr[1].set_title('Single selfish', size=17)\n",
    "\n",
    "for ax in axarr:\n",
    "    ax.set_xlabel('lengths', size=13)\n",
    "    ax.set_ylabel(r'$W$', size=13)\n",
    "    ax.legend()\n",
    "    \n",
    "plt.subplots_adjust(wspace=0.3)\n",
    "plt.show()"
   ]
  },
  {
   "cell_type": "markdown",
   "metadata": {},
   "source": [
    "# next experiments"
   ]
  },
  {
   "cell_type": "markdown",
   "metadata": {},
   "source": [
    "Consider the case where there are three agents. We start in state (0,0,1). Let's say we are agent A. Given agents B & C are going to mine selfishly until a chain reaches length 2. Let's compare the reward for minins selfishly vs mining honestly for agent C. "
   ]
  },
  {
   "cell_type": "code",
   "execution_count": 188,
   "metadata": {},
   "outputs": [],
   "source": [
    "iters = int(1e5)\n",
    "length = 2\n",
    "players = 3"
   ]
  },
  {
   "cell_type": "code",
   "execution_count": 189,
   "metadata": {},
   "outputs": [
    {
     "name": "stderr",
     "output_type": "stream",
     "text": [
      "100%|██████████| 100000/100000 [00:02<00:00, 42075.32it/s]\n"
     ]
    },
    {
     "data": {
      "text/plain": [
       "1.3887126548022302"
      ]
     },
     "execution_count": 189,
     "metadata": {},
     "output_type": "execute_result"
    }
   ],
   "source": [
    "results = { 'wins' : [], 'losses' : []}\n",
    "for _ in tqdm(range(iters)):\n",
    "    state = np.array([0, 0, 1])\n",
    "    steps = 0\n",
    "    while length not in state:\n",
    "        ind = np.random.randint(players)\n",
    "        state[ind] += 1\n",
    "        steps += 1\n",
    "    if state[0] == length:\n",
    "        results['wins'].append(steps)\n",
    "    else:\n",
    "        results['losses'].append(steps)\n",
    "pwin = len(results['wins']) / iters\n",
    "lenwin = np.mean(results['wins'])\n",
    "\n",
    "plose = len(results['losses']) / iters\n",
    "lenlose = np.mean(results['losses'])\n",
    "\n",
    "1/3*lenwin - 2 + plose/pwin * 1/3 * lenlose"
   ]
  },
  {
   "cell_type": "code",
   "execution_count": 190,
   "metadata": {},
   "outputs": [],
   "source": [
    "WHALE_REWARD = 1.5"
   ]
  },
  {
   "cell_type": "code",
   "execution_count": 193,
   "metadata": {},
   "outputs": [
    {
     "name": "stderr",
     "output_type": "stream",
     "text": [
      "100%|██████████| 100000/100000 [00:02<00:00, 43069.88it/s]\n"
     ]
    }
   ],
   "source": [
    "# simulate rewards for playing selfishly\n",
    "rewards = []\n",
    "for _ in tqdm(range(iters)):\n",
    "    state = np.array([0, 0, 1])\n",
    "    steps = 0\n",
    "    while length not in state:\n",
    "        ind = np.random.randint(players)\n",
    "        state[ind] += 1\n",
    "        steps += 1\n",
    "    if state[0] == length:\n",
    "        rewards.append(WHALE_REWARD + 2 - 1/3 * steps)\n",
    "    else:\n",
    "        rewards.append(-1/3 * steps)\n",
    "rewards = np.asarray(rewards)"
   ]
  },
  {
   "cell_type": "code",
   "execution_count": 194,
   "metadata": {},
   "outputs": [
    {
     "data": {
      "text/plain": [
       "0.017791666666666702"
      ]
     },
     "execution_count": 194,
     "metadata": {},
     "output_type": "execute_result"
    }
   ],
   "source": [
    "rewards.mean()"
   ]
  },
  {
   "cell_type": "code",
   "execution_count": 195,
   "metadata": {},
   "outputs": [
    {
     "name": "stderr",
     "output_type": "stream",
     "text": [
      "100%|██████████| 100000/100000 [00:01<00:00, 53192.99it/s]\n"
     ]
    }
   ],
   "source": [
    "# simulate rewards for playing honestly\n",
    "rewards = []\n",
    "for _ in tqdm(range(iters)):\n",
    "    state = np.array([0, 0, 1])\n",
    "    steps = 0\n",
    "    honest_blocks = 0\n",
    "    while length not in state:\n",
    "        ind = np.random.randint(players)\n",
    "        if ind == 1:\n",
    "            state[1] += 1\n",
    "        elif ind == 0:\n",
    "            state[2] += 1\n",
    "            honest_blocks += 1\n",
    "        else:\n",
    "            state[2] += 1\n",
    "        steps += 1\n",
    "    if state[2] == length:\n",
    "        rewards.append(honest_blocks - 1/3 * steps)\n",
    "    else:\n",
    "        rewards.append(-1/3 * steps)\n",
    "rewards = np.asarray(rewards)"
   ]
  },
  {
   "cell_type": "code",
   "execution_count": 196,
   "metadata": {},
   "outputs": [
    {
     "data": {
      "text/plain": [
       "-0.0026399999999999492"
      ]
     },
     "execution_count": 196,
     "metadata": {},
     "output_type": "execute_result"
    }
   ],
   "source": [
    "rewards.mean()"
   ]
  },
  {
   "cell_type": "markdown",
   "metadata": {},
   "source": [
    "So we can say that given everyone else is selfish mining, if we can only mine honestly or selfishly, it is better for us to mine honestly. We can also find our optimal policy by solving the MDP."
   ]
  },
  {
   "cell_type": "code",
   "execution_count": 283,
   "metadata": {},
   "outputs": [],
   "source": [
    "import mdptoolbox"
   ]
  },
  {
   "cell_type": "markdown",
   "metadata": {},
   "source": [
    "0 = (0,0,1,0,0,0)\n",
    "1 = (0,1,1,0,0,0)\n",
    "2 = (1,0,1,1,0,0)\n",
    "3 = (1,1,1,1,0,0)\n",
    "4 = (0,0,2,0,0,0)\n",
    "5 = (0,0,2,0,0,1)\n",
    "6 = (0,1,2,0,0,0)\n",
    "7 = (0,1,2,0,0,1)\n",
    "8 = (1,0,2,1,0,0)\n",
    "9 = (1,0,2,1,0,1)\n",
    "0 = (1,1,2,1,0,0)\n",
    "1 = (1,1,2,1,0,1)\n",
    "2 = (0,2,1,0,0,0)\n",
    "3 = (1,2,1,1,0,0)\n",
    "4 = (2,0,1,2,0,0)\n",
    "5 = (2,1,1,2,0,0)"
   ]
  },
  {
   "cell_type": "code",
   "execution_count": 292,
   "metadata": {},
   "outputs": [],
   "source": [
    "mapping = {\n",
    "    0 : (0,0,1,0,0,0),\n",
    "    1 : (0,1,1,0,0,0),\n",
    "    2 : (1,0,1,1,0,0),\n",
    "    3 : (1,1,1,1,0,0),\n",
    "    4 : (0,0,2,0,0,0),\n",
    "    5 : (0,0,2,0,0,1),\n",
    "    6 : (0,1,2,0,0,0),\n",
    "    7 : (0,1,2,0,0,1),\n",
    "    8 : (1,0,2,1,0,0),\n",
    "    9 : (1,0,2,1,0,1),\n",
    "    10 : (1,1,2,1,0,0),\n",
    "    11 : (1,1,2,1,0,1),\n",
    "    12 : (0,2,1,0,0,0),\n",
    "    13 : (1,2,1,1,0,0),\n",
    "    14 : (2,0,1,2,0,0),\n",
    "    15 : (2,1,1,2,0,0),\n",
    "}"
   ]
  },
  {
   "cell_type": "code",
   "execution_count": 284,
   "metadata": {},
   "outputs": [],
   "source": [
    "WHALE_REWARD = 0"
   ]
  },
  {
   "cell_type": "code",
   "execution_count": 308,
   "metadata": {},
   "outputs": [],
   "source": [
    "# actions = my fork(0), longest fork (1) \n",
    "transitions = np.zeros((2,16,16))\n",
    "rewards = np.zeros((2,16,16))\n",
    "\n",
    "transitions[0,0,1] = 1/3\n",
    "transitions[0,0,2] = 1/3\n",
    "transitions[0,0,4] = 1/3\n",
    "rewards[0,0,1] = -1/3\n",
    "rewards[0,0,2] = -1/3\n",
    "rewards[0,0,4] = -1/3\n",
    "\n",
    "transitions[1,0,1] = 1/3\n",
    "transitions[1,0,5] = 1/3\n",
    "transitions[1,0,4] = 1/3\n",
    "rewards[1,0,1] = -1/3\n",
    "rewards[1,0,5] = 2/3\n",
    "rewards[1,0,4] = -1/3\n",
    "\n",
    "transitions[0,1,3] = 1/3\n",
    "transitions[0,1,12] = 1/3\n",
    "transitions[0,1,6] = 1/3\n",
    "rewards[0,1,3] = -1/3\n",
    "rewards[0,1,12] = -1/3\n",
    "rewards[0,1,6] = -1/3\n",
    "\n",
    "transitions[1,1,6] = 1/3\n",
    "transitions[1,1,7] = 1/3\n",
    "transitions[1,1,12] = 1/3\n",
    "rewards[1,1,6] = -1/3\n",
    "rewards[1,1,7] = 2/3\n",
    "rewards[1,1,12] = -1/3\n",
    "\n",
    "transitions[0,2,3] = 1/3\n",
    "transitions[0,2,8] = 1/3\n",
    "transitions[0,2,14] = 1/3\n",
    "rewards[0,2,3] = -1/3\n",
    "rewards[0,2,8] = -1/3\n",
    "rewards[0,2,14] = WHALE_REWARD + 2 - 1/3\n",
    "\n",
    "transitions[1,2,3] = 1/3\n",
    "transitions[1,2,8] = 1/3\n",
    "transitions[1,2,9] = 1/3\n",
    "rewards[1,2,3] = -1/3\n",
    "rewards[1,2,8] = -1/3\n",
    "rewards[1,2,9] = 2/3\n",
    "\n",
    "transitions[0,3,15] = 1/3\n",
    "transitions[0,3,13] = 1/3\n",
    "transitions[0,3,10] = 1/3\n",
    "rewards[0,3,15] = WHALE_REWARD + 2 - 1/3\n",
    "rewards[0,3,13] = -1/3\n",
    "rewards[0,3,10] = -1/3\n",
    "\n",
    "transitions[1,3,11] = 1/3\n",
    "transitions[1,3,10] = 1/3\n",
    "transitions[1,3,13] = 1/3\n",
    "rewards[1,3,11] = 2/3\n",
    "rewards[1,3,10] = -1/3\n",
    "rewards[1,3,13] = -1/3"
   ]
  },
  {
   "cell_type": "code",
   "execution_count": 309,
   "metadata": {},
   "outputs": [],
   "source": [
    "for i in range(4,16):\n",
    "    transitions[0,i,i] = 1\n",
    "    transitions[1,i,i] = 1"
   ]
  },
  {
   "cell_type": "code",
   "execution_count": 310,
   "metadata": {
    "scrolled": false
   },
   "outputs": [
    {
     "name": "stdout",
     "output_type": "stream",
     "text": [
      "(0, 0, 1, 0, 0, 0)  ->  (0, 1, 1, 0, 0, 0)  rew= -0.3333333333333333\n",
      "(0, 0, 1, 0, 0, 0)  ->  (0, 0, 2, 0, 0, 0)  rew= -0.3333333333333333\n",
      "(0, 0, 1, 0, 0, 0)  ->  (0, 0, 2, 0, 0, 1)  rew= 0.6666666666666666\n",
      "(0, 1, 1, 0, 0, 0)  ->  (0, 1, 2, 0, 0, 0)  rew= -0.3333333333333333\n",
      "(0, 1, 1, 0, 0, 0)  ->  (0, 1, 2, 0, 0, 1)  rew= 0.6666666666666666\n",
      "(0, 1, 1, 0, 0, 0)  ->  (0, 2, 1, 0, 0, 0)  rew= -0.3333333333333333\n",
      "(1, 0, 1, 1, 0, 0)  ->  (1, 1, 1, 1, 0, 0)  rew= -0.3333333333333333\n",
      "(1, 0, 1, 1, 0, 0)  ->  (1, 0, 2, 1, 0, 0)  rew= -0.3333333333333333\n",
      "(1, 0, 1, 1, 0, 0)  ->  (1, 0, 2, 1, 0, 1)  rew= 0.6666666666666666\n",
      "(1, 1, 1, 1, 0, 0)  ->  (1, 1, 2, 1, 0, 0)  rew= -0.3333333333333333\n",
      "(1, 1, 1, 1, 0, 0)  ->  (1, 1, 2, 1, 0, 1)  rew= 0.6666666666666666\n",
      "(1, 1, 1, 1, 0, 0)  ->  (1, 2, 1, 1, 0, 0)  rew= -0.3333333333333333\n",
      "(0, 0, 2, 0, 0, 0)  ->  (0, 0, 2, 0, 0, 0)  rew= 0.0\n",
      "(0, 0, 2, 0, 0, 1)  ->  (0, 0, 2, 0, 0, 1)  rew= 0.0\n",
      "(0, 1, 2, 0, 0, 0)  ->  (0, 1, 2, 0, 0, 0)  rew= 0.0\n",
      "(0, 1, 2, 0, 0, 1)  ->  (0, 1, 2, 0, 0, 1)  rew= 0.0\n",
      "(1, 0, 2, 1, 0, 0)  ->  (1, 0, 2, 1, 0, 0)  rew= 0.0\n",
      "(1, 0, 2, 1, 0, 1)  ->  (1, 0, 2, 1, 0, 1)  rew= 0.0\n",
      "(1, 1, 2, 1, 0, 0)  ->  (1, 1, 2, 1, 0, 0)  rew= 0.0\n",
      "(1, 1, 2, 1, 0, 1)  ->  (1, 1, 2, 1, 0, 1)  rew= 0.0\n",
      "(0, 2, 1, 0, 0, 0)  ->  (0, 2, 1, 0, 0, 0)  rew= 0.0\n",
      "(1, 2, 1, 1, 0, 0)  ->  (1, 2, 1, 1, 0, 0)  rew= 0.0\n",
      "(2, 0, 1, 2, 0, 0)  ->  (2, 0, 1, 2, 0, 0)  rew= 0.0\n",
      "(2, 1, 1, 2, 0, 0)  ->  (2, 1, 1, 2, 0, 0)  rew= 0.0\n"
     ]
    }
   ],
   "source": [
    "for i in range(16):\n",
    "    for j in range(16):\n",
    "        if transitions[1,i,j] != 0:\n",
    "            print(mapping[i], ' -> ', mapping[j], ' rew=', rewards[1,i,j])"
   ]
  },
  {
   "cell_type": "code",
   "execution_count": 287,
   "metadata": {},
   "outputs": [
    {
     "data": {
      "text/plain": [
       "1.6666666666666667"
      ]
     },
     "execution_count": 287,
     "metadata": {},
     "output_type": "execute_result"
    }
   ],
   "source": [
    "np.max(rewards)"
   ]
  },
  {
   "cell_type": "code",
   "execution_count": 311,
   "metadata": {},
   "outputs": [
    {
     "data": {
      "text/plain": [
       "array([[1., 1., 1., 1., 1., 1., 1., 1., 1., 1., 1., 1., 1., 1., 1., 1.],\n",
       "       [1., 1., 1., 1., 1., 1., 1., 1., 1., 1., 1., 1., 1., 1., 1., 1.]])"
      ]
     },
     "execution_count": 311,
     "metadata": {},
     "output_type": "execute_result"
    }
   ],
   "source": [
    "np.sum(transitions, axis=2)"
   ]
  },
  {
   "cell_type": "code",
   "execution_count": 312,
   "metadata": {},
   "outputs": [
    {
     "name": "stdout",
     "output_type": "stream",
     "text": [
      "WARNING: check conditions of convergence. With no discount, convergence can not be assumed.\n"
     ]
    }
   ],
   "source": [
    "val_iter = mdptoolbox.mdp.ValueIteration(transitions, rewards, discount=1)\n",
    "val_iter.run()"
   ]
  },
  {
   "cell_type": "code",
   "execution_count": 313,
   "metadata": {},
   "outputs": [
    {
     "data": {
      "text/plain": [
       "(1, 1, 0, 0, 0, 0, 0, 0, 0, 0, 0, 0, 0, 0, 0, 0)"
      ]
     },
     "execution_count": 313,
     "metadata": {},
     "output_type": "execute_result"
    }
   ],
   "source": [
    "val_iter.policy"
   ]
  },
  {
   "cell_type": "code",
   "execution_count": 314,
   "metadata": {},
   "outputs": [
    {
     "data": {
      "text/plain": [
       "(0.0,\n",
       " 0.0,\n",
       " 0.4444444444444445,\n",
       " 0.33333333333333337,\n",
       " 0.0,\n",
       " 0.0,\n",
       " 0.0,\n",
       " 0.0,\n",
       " 0.0,\n",
       " 0.0,\n",
       " 0.0,\n",
       " 0.0,\n",
       " 0.0,\n",
       " 0.0,\n",
       " 0.0,\n",
       " 0.0)"
      ]
     },
     "execution_count": 314,
     "metadata": {},
     "output_type": "execute_result"
    }
   ],
   "source": [
    "val_iter.V"
   ]
  },
  {
   "cell_type": "markdown",
   "metadata": {},
   "source": [
    "if everyone is playing the above policy, then we have"
   ]
  },
  {
   "cell_type": "code",
   "execution_count": 262,
   "metadata": {},
   "outputs": [],
   "source": [
    "# actions = my fork(0), longest fork (1) \n",
    "transitions = np.zeros((2,16,16))\n",
    "rewards = np.zeros((2,16,16))\n",
    "\n",
    "transitions[0,0,1] = 1/3\n",
    "transitions[0,0,2] = 1/3\n",
    "transitions[0,0,4] = 1/3\n",
    "rewards[0,0,1] = -1/3\n",
    "rewards[0,0,2] = -1/3\n",
    "rewards[0,0,4] = -1/3\n",
    "\n",
    "transitions[1,0,1] = 1/3\n",
    "transitions[1,0,5] = 1/3\n",
    "transitions[1,0,4] = 1/3\n",
    "rewards[1,0,1] = -1/3\n",
    "rewards[1,0,5] = -1/3\n",
    "rewards[1,0,4] = -1/3\n",
    "\n",
    "transitions[0,1,3] = 1/3\n",
    "transitions[0,1,12] = 1/3\n",
    "transitions[0,1,6] = 1/3\n",
    "rewards[0,1,3] = -1/3\n",
    "rewards[0,1,12] = -1/3\n",
    "rewards[0,1,6] = -1/3\n",
    "\n",
    "transitions[1,1,6] = 1/3\n",
    "transitions[1,1,7] = 1/3\n",
    "transitions[1,1,12] = 1/3\n",
    "rewards[1,1,6] = -1/3\n",
    "rewards[1,1,6] = 2/3\n",
    "rewards[1,1,12] = -1/3\n",
    "\n",
    "transitions[0,2,8] = 2/3\n",
    "transitions[0,2,14] = 1/3\n",
    "rewards[0,2,8] = -1/3\n",
    "rewards[0,2,14] = WHALE_REWARD + 2 - 1/3\n",
    "\n",
    "transitions[1,2,8] = 2/3\n",
    "transitions[1,2,9] = 1/3\n",
    "rewards[1,2,8] = -1/3\n",
    "rewards[1,2,9] = 2/3\n",
    "\n",
    "transitions[0,3,15] = 1/3\n",
    "transitions[0,3,13] = 1/3\n",
    "transitions[0,3,10] = 1/3\n",
    "rewards[0,3,15] = WHALE_REWARD + 2 - 1/3\n",
    "rewards[0,3,13] = -1/3\n",
    "rewards[0,3,10] = -1/3\n",
    "\n",
    "transitions[1,3,11] = 1/3\n",
    "transitions[1,3,10] = 1/3\n",
    "transitions[1,3,13] = 1/3\n",
    "rewards[1,3,11] = 2/3\n",
    "rewards[1,3,11] = -1/3\n",
    "rewards[1,3,11] = -1/3"
   ]
  },
  {
   "cell_type": "code",
   "execution_count": 263,
   "metadata": {},
   "outputs": [],
   "source": [
    "for i in range(4,16):\n",
    "    transitions[0,i,i] = 1\n",
    "    transitions[1,i,i] = 1"
   ]
  },
  {
   "cell_type": "code",
   "execution_count": 264,
   "metadata": {},
   "outputs": [
    {
     "data": {
      "text/plain": [
       "array([[1., 1., 1., 1., 1., 1., 1., 1., 1., 1., 1., 1., 1., 1., 1., 1.],\n",
       "       [1., 1., 1., 1., 1., 1., 1., 1., 1., 1., 1., 1., 1., 1., 1., 1.]])"
      ]
     },
     "execution_count": 264,
     "metadata": {},
     "output_type": "execute_result"
    }
   ],
   "source": [
    "np.sum(transitions, axis=2)"
   ]
  },
  {
   "cell_type": "code",
   "execution_count": 267,
   "metadata": {},
   "outputs": [
    {
     "name": "stdout",
     "output_type": "stream",
     "text": [
      "WARNING: check conditions of convergence. With no discount, convergence can not be assumed.\n"
     ]
    }
   ],
   "source": [
    "val_iter = mdptoolbox.mdp.ValueIteration(transitions, rewards, discount=1)\n",
    "val_iter.run()"
   ]
  },
  {
   "cell_type": "code",
   "execution_count": 270,
   "metadata": {},
   "outputs": [
    {
     "data": {
      "text/plain": [
       "(0, 1, 0, 0, 0, 0, 0, 0, 0, 0, 0, 0, 0, 0, 0, 0)"
      ]
     },
     "execution_count": 270,
     "metadata": {},
     "output_type": "execute_result"
    }
   ],
   "source": [
    "val_iter.policy"
   ]
  },
  {
   "cell_type": "code",
   "execution_count": 271,
   "metadata": {},
   "outputs": [
    {
     "data": {
      "text/plain": [
       "(-0.0185185185185186,\n",
       " 0.1111111111111111,\n",
       " 0.8333333333333331,\n",
       " 0.833333333333333,\n",
       " 0.0,\n",
       " 0.0,\n",
       " 0.0,\n",
       " 0.0,\n",
       " 0.0,\n",
       " 0.0,\n",
       " 0.0,\n",
       " 0.0,\n",
       " 0.0,\n",
       " 0.0,\n",
       " 0.0,\n",
       " 0.0)"
      ]
     },
     "execution_count": 271,
     "metadata": {},
     "output_type": "execute_result"
    }
   ],
   "source": [
    "val_iter.V"
   ]
  }
 ],
 "metadata": {
  "kernelspec": {
   "display_name": "Python 3",
   "language": "python",
   "name": "python3"
  },
  "language_info": {
   "codemirror_mode": {
    "name": "ipython",
    "version": 3
   },
   "file_extension": ".py",
   "mimetype": "text/x-python",
   "name": "python",
   "nbconvert_exporter": "python",
   "pygments_lexer": "ipython3",
   "version": "3.8.6"
  }
 },
 "nbformat": 4,
 "nbformat_minor": 4
}
