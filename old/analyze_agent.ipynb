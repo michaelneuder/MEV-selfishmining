{
 "cells": [
  {
   "cell_type": "code",
   "execution_count": 17,
   "metadata": {},
   "outputs": [],
   "source": [
    "import random\n",
    "import numpy as np\n",
    "from collections import deque\n",
    "from keras.models import Sequential\n",
    "from keras.layers import Dense\n",
    "from keras.optimizers import Adam\n",
    "import copy\n",
    "\n",
    "from dqn import Environment, DQNAgent"
   ]
  },
  {
   "cell_type": "code",
   "execution_count": 59,
   "metadata": {},
   "outputs": [],
   "source": [
    "env = Environment(num_players=3)\n",
    "env.reset()\n",
    "\n",
    "# Initialize DQN agent.\n",
    "state_size = env.state_size\n",
    "action_size = env.num_actions\n",
    "agent = DQNAgent(state_size, action_size)\n",
    "\n",
    "agent.load('trained.model')"
   ]
  },
  {
   "cell_type": "code",
   "execution_count": 78,
   "metadata": {},
   "outputs": [],
   "source": [
    "test_state = np.reshape(np.array([0,0,1,0,0,0]), (1,6))"
   ]
  },
  {
   "cell_type": "code",
   "execution_count": 79,
   "metadata": {},
   "outputs": [
    {
     "data": {
      "text/plain": [
       "array([[ 0.40762836, -0.39025888, -2.165325  ]], dtype=float32)"
      ]
     },
     "execution_count": 79,
     "metadata": {},
     "output_type": "execute_result"
    }
   ],
   "source": [
    "agent.model.predict(test_state)"
   ]
  },
  {
   "cell_type": "code",
   "execution_count": 108,
   "metadata": {},
   "outputs": [],
   "source": [
    "agent.load('trained_len3.model')"
   ]
  },
  {
   "cell_type": "code",
   "execution_count": 113,
   "metadata": {},
   "outputs": [],
   "source": [
    "test_state = np.reshape(np.array([0,0,1,0,0,0]), (1,6))"
   ]
  },
  {
   "cell_type": "code",
   "execution_count": 114,
   "metadata": {},
   "outputs": [
    {
     "data": {
      "text/plain": [
       "array([[-2.7672195, -2.6553907, -2.6042368]], dtype=float32)"
      ]
     },
     "execution_count": 114,
     "metadata": {},
     "output_type": "execute_result"
    }
   ],
   "source": [
    "agent.model.predict(test_state)"
   ]
  },
  {
   "cell_type": "code",
   "execution_count": 152,
   "metadata": {},
   "outputs": [],
   "source": [
    "agent.load('trained_len3_w10_e200.model')"
   ]
  },
  {
   "cell_type": "code",
   "execution_count": 159,
   "metadata": {},
   "outputs": [],
   "source": [
    "test_state = np.reshape(np.array([0,1,1,0,1,0]), (1,6))"
   ]
  },
  {
   "cell_type": "code",
   "execution_count": 160,
   "metadata": {},
   "outputs": [
    {
     "data": {
      "text/plain": [
       "array([[-1.0001947, -2.1183486, -3.0007298]], dtype=float32)"
      ]
     },
     "execution_count": 160,
     "metadata": {},
     "output_type": "execute_result"
    }
   ],
   "source": [
    "agent.model.predict(test_state)"
   ]
  },
  {
   "cell_type": "code",
   "execution_count": null,
   "metadata": {},
   "outputs": [],
   "source": [
    "0 = (0,0,1,0,0,0)\n",
    "1 = (0,1,1,0,0,0)\n",
    "2 = (1,0,1,1,0,0)\n",
    "3 = (1,1,1,1,0,0)\n",
    "4 = (0,0,2,0,0,0)\n",
    "5 = (0,0,2,0,0,1)\n",
    "6 = (0,1,2,0,0,0)\n",
    "7 = (0,1,2,0,0,1)\n",
    "8 = (1,0,2,1,0,0)\n",
    "9 = (1,0,2,1,0,1)\n",
    "0 = (1,1,2,1,0,0)\n",
    "1 = (1,1,2,1,0,1)\n",
    "2 = (0,2,1,0,0,0)\n",
    "3 = (1,2,1,1,0,0)\n",
    "4 = (2,0,1,2,0,0)\n",
    "5 = (2,1,1,2,0,0)"
   ]
  }
 ],
 "metadata": {
  "kernelspec": {
   "display_name": "Python 3",
   "language": "python",
   "name": "python3"
  },
  "language_info": {
   "codemirror_mode": {
    "name": "ipython",
    "version": 3
   },
   "file_extension": ".py",
   "mimetype": "text/x-python",
   "name": "python",
   "nbconvert_exporter": "python",
   "pygments_lexer": "ipython3",
   "version": "3.8.6"
  }
 },
 "nbformat": 4,
 "nbformat_minor": 4
}
