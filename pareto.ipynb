{
 "cells": [
  {
   "cell_type": "code",
   "execution_count": 2,
   "metadata": {},
   "outputs": [],
   "source": [
    "import copy \n",
    "import matplotlib.pyplot as plt\n",
    "import mdptoolbox as mdpt\n",
    "import numpy as np\n",
    "from tqdm import tqdm"
   ]
  },
  {
   "cell_type": "code",
   "execution_count": 4,
   "metadata": {},
   "outputs": [],
   "source": [
    "def updateHonestFork(state, honest_fork):\n",
    "    if any(state[:3] > state[honest_fork]):\n",
    "        return np.argmax(state[:3])\n",
    "    return honest_fork\n",
    "\n",
    "def getReward(state, length):\n",
    "    assert(length in state[:3])\n",
    "    reward = -1/3 * np.sum(state[:3])\n",
    "    \n",
    "    win_ind = np.argmax(state[:3])\n",
    "    if win_ind == 0: # we get whale.\n",
    "        reward += WHALE_REWARD    \n",
    "    reward += state[3+win_ind]\n",
    "    return reward"
   ]
  },
  {
   "cell_type": "code",
   "execution_count": 86,
   "metadata": {},
   "outputs": [
    {
     "name": "stderr",
     "output_type": "stream",
     "text": [
      "100%|██████████| 100000/100000 [00:07<00:00, 13402.08it/s]\n"
     ]
    }
   ],
   "source": [
    "# all honest.\n",
    "\n",
    "rewards = []\n",
    "iters = int(1e5)\n",
    "length = 2\n",
    "WHALE_REWARD = 3\n",
    "\n",
    "for _ in tqdm(range(iters)):  \n",
    "    state = np.zeros(6)\n",
    "    \n",
    "    # initialize random first block.\n",
    "    honest_fork = np.random.choice([0,1,2])\n",
    "    state[honest_fork] += 1\n",
    "    if honest_fork == 0:\n",
    "        state[3] += 1\n",
    "    \n",
    "    while length not in state[:3]:\n",
    "        block_creator = np.random.choice([0, 1], p=[1/3, 2/3])\n",
    "        if block_creator == 0: # our block\n",
    "            state[honest_fork] += 1\n",
    "            state[3+honest_fork] += 1\n",
    "        else: # their block\n",
    "            state[honest_fork] += 1\n",
    "        honest_fork = updateHonestFork(state, honest_fork)\n",
    "        \n",
    "    \n",
    "    rewards.append(getReward(state, length))\n",
    "\n",
    "rewards = np.asarray(rewards)    "
   ]
  },
  {
   "cell_type": "code",
   "execution_count": null,
   "metadata": {},
   "outputs": [],
   "source": [
    "# them honest, me barely-selfish"
   ]
  },
  {
   "cell_type": "code",
   "execution_count": 87,
   "metadata": {},
   "outputs": [
    {
     "data": {
      "text/plain": [
       "0.9995333333333337"
      ]
     },
     "execution_count": 87,
     "metadata": {},
     "output_type": "execute_result"
    }
   ],
   "source": [
    "np.mean(rewards)"
   ]
  }
 ],
 "metadata": {
  "kernelspec": {
   "display_name": "Python 3",
   "language": "python",
   "name": "python3"
  },
  "language_info": {
   "codemirror_mode": {
    "name": "ipython",
    "version": 3
   },
   "file_extension": ".py",
   "mimetype": "text/x-python",
   "name": "python",
   "nbconvert_exporter": "python",
   "pygments_lexer": "ipython3",
   "version": "3.8.6"
  }
 },
 "nbformat": 4,
 "nbformat_minor": 4
}
