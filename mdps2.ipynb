{
 "cells": [
  {
   "cell_type": "code",
   "execution_count": 2,
   "metadata": {},
   "outputs": [],
   "source": [
    "import copy \n",
    "import matplotlib.pyplot as plt\n",
    "import mdptoolbox as mdpt\n",
    "import numpy as np"
   ]
  },
  {
   "cell_type": "code",
   "execution_count": 3,
   "metadata": {},
   "outputs": [],
   "source": [
    "class State:\n",
    "    def __init__(self, state, length=2):\n",
    "        self.state = np.array(state)\n",
    "        self.terminal_length = length\n",
    "    \n",
    "    def __str__(self):\n",
    "        res = ''\n",
    "        for i in range(3):\n",
    "            res += str(self.state[i])\n",
    "        res += ','\n",
    "        for i in range(3,6):\n",
    "            res += str(self.state[i])\n",
    "        res += ','\n",
    "        res += str(self.state[6])\n",
    "        return res\n",
    "    \n",
    "    def __setitem__(self, ind, val):\n",
    "        self.state[ind] = val\n",
    "        \n",
    "    def __getitem__(self, ind):\n",
    "        return self.state[ind]\n",
    "    \n",
    "    def isTerminal(self):\n",
    "        return self.terminal_length in self.state[:3]\n",
    "\n",
    "    def getHonestFork(self):\n",
    "        return self.state[-1]\n",
    "    \n",
    "    def __eq__(self, other):\n",
    "        return all(self.state == other.state)"
   ]
  },
  {
   "cell_type": "code",
   "execution_count": 6,
   "metadata": {},
   "outputs": [],
   "source": [
    "# returns possible next states, given an action\n",
    "def nextStates(cur_state):\n",
    "    new_states = []\n",
    "    \n",
    "    # anyone mining on own fork.\n",
    "    for i in range(3):\n",
    "        temp = copy.deepcopy(cur_state)\n",
    "        temp[i] += 1\n",
    "        if i == 0:\n",
    "            temp[3] += 1\n",
    "\n",
    "        # new honest fork.\n",
    "        if any(temp[:3] > temp[temp.getHonestFork()]):\n",
    "            temp[-1] = np.argmax(temp[:3])\n",
    "\n",
    "        new_states.append(temp)\n",
    "    \n",
    "    # anyone mining on another fork.\n",
    "    for i in range(3):\n",
    "        if cur_state[i] != 0:\n",
    "            for j in range(3):\n",
    "                if j != i:\n",
    "                    temp = copy.deepcopy(cur_state)\n",
    "                    temp[i] += 1\n",
    "                    if j == 0:\n",
    "                        temp[3+i] += 1\n",
    "\n",
    "                    # new honest fork.\n",
    "                    if any(temp[:3] > temp[temp.getHonestFork()]):\n",
    "                        temp[-1] = np.argmax(temp[:3])\n",
    "\n",
    "                    new_states.append(temp)\n",
    "    return new_states"
   ]
  },
  {
   "cell_type": "code",
   "execution_count": 5,
   "metadata": {},
   "outputs": [],
   "source": [
    "def checkIfInTotalStates(total_states, state):\n",
    "    for s in total_states:\n",
    "        if state == s:\n",
    "            return True\n",
    "    return False"
   ]
  },
  {
   "cell_type": "code",
   "execution_count": 7,
   "metadata": {},
   "outputs": [],
   "source": [
    "# algorithm to enumerate possible states.\n",
    "init_state = State([0,0,0,0,0,0,0], length=2)\n",
    "\n",
    "total_states = [init_state]\n",
    "states_to_process = [init_state]\n",
    "while states_to_process:\n",
    "    elem = states_to_process.pop()\n",
    "    next_states = nextStates(elem)\n",
    "    for s in next_states:\n",
    "        if not checkIfInTotalStates(total_states, s):\n",
    "            total_states.append(s)\n",
    "        if not s.isTerminal() and not checkIfInTotalStates(states_to_process, s):\n",
    "            states_to_process.append(s)"
   ]
  },
  {
   "cell_type": "code",
   "execution_count": 15,
   "metadata": {},
   "outputs": [
    {
     "name": "stdout",
     "output_type": "stream",
     "text": [
      "000,000,0\n",
      "100,100,0\n",
      "010,000,1\n",
      "001,000,2\n",
      "101,100,2\n",
      "011,000,2\n",
      "111,100,2\n",
      "110,100,1\n",
      "011,000,1\n",
      "111,100,1\n",
      "110,100,0\n",
      "101,100,0\n",
      "111,100,0\n"
     ]
    }
   ],
   "source": [
    "for s in total_states:\n",
    "    if not s.isTerminal():\n",
    "        print(s)"
   ]
  },
  {
   "cell_type": "code",
   "execution_count": 9,
   "metadata": {},
   "outputs": [
    {
     "data": {
      "text/plain": [
       "37"
      ]
     },
     "execution_count": 9,
     "metadata": {},
     "output_type": "execute_result"
    }
   ],
   "source": [
    "len(total_states)"
   ]
  },
  {
   "cell_type": "code",
   "execution_count": 10,
   "metadata": {},
   "outputs": [],
   "source": [
    "class StateIndex:\n",
    "    def __init__(self, total_states):\n",
    "        self.stringToInd = {}\n",
    "        self.indToString = {}\n",
    "        for i in range(len(total_states)):\n",
    "            self.stringToInd[str(total_states[i])] = i\n",
    "            self.indToString[i] = str(total_states[i])\n",
    "    \n",
    "    def getIndex(self, string):\n",
    "        return self.stringToInd[string]\n",
    "\n",
    "    def getString(self, ind):\n",
    "        return self.indToString[ind]"
   ]
  },
  {
   "cell_type": "code",
   "execution_count": 11,
   "metadata": {},
   "outputs": [],
   "source": [
    "def getTerminalReward(state, whale_reward=1.5):\n",
    "    assert(state.isTerminal())\n",
    "    reward = state[3+np.argmax(state[:3])]\n",
    "    if np.argmax(state[:3]) == 0:    \n",
    "        reward += whale_reward\n",
    "    return reward"
   ]
  },
  {
   "cell_type": "code",
   "execution_count": 12,
   "metadata": {},
   "outputs": [],
   "source": [
    "state_ind = StateIndex(total_states)"
   ]
  },
  {
   "cell_type": "code",
   "execution_count": 13,
   "metadata": {},
   "outputs": [],
   "source": [
    "transitions = np.zeros((2, len(total_states), len(total_states)))\n",
    "rewards = np.zeros((2, len(total_states), len(total_states)))"
   ]
  },
  {
   "cell_type": "code",
   "execution_count": 24,
   "metadata": {},
   "outputs": [],
   "source": [
    "def isHonestState(state):\n",
    "    lens = state[:3]\n",
    "    if np.count_nonzero(lens) == 2 and lens.sum() == 2:\n",
    "        return True\n",
    "    return False"
   ]
  },
  {
   "cell_type": "code",
   "execution_count": 33,
   "metadata": {},
   "outputs": [
    {
     "name": "stdout",
     "output_type": "stream",
     "text": [
      "011,000,2 0\n",
      "101,100,2 1\n",
      "011,000,1 0\n",
      "110,100,1 2\n",
      "101,100,0 1\n",
      "110,100,0 2\n"
     ]
    }
   ],
   "source": [
    "# algorithm to construct transition and reward matrices.\n",
    "init_state = State([0,0,0,0,0,0,0], length=2)\n",
    "\n",
    "states_to_process = [init_state]\n",
    "while states_to_process:\n",
    "    elem = states_to_process.pop()\n",
    "    next_states = nextStates(elem)\n",
    "    start_ind = state_ind.getIndex(str(elem))\n",
    "    if isHonestState(elem):\n",
    "        honest_ind = np.argmin(elem[:3])\n",
    "        next_ind_honest = \n",
    "        \n",
    "    else:\n",
    "        for i in range(3):\n",
    "            next_ind = state_ind.getIndex(str(next_states[i]))\n",
    "            transitions[0, start_ind, next_ind] = 1/3\n",
    "            rewards[0, start_ind, next_ind] = -1/3\n",
    "            if next_states[i].isTerminal():\n",
    "                rewards[0, start_ind, next_ind] += getTerminalReward(next_states[i], whale_reward=2)\n",
    "    for s in next_states:\n",
    "        if not s.isTerminal() and not checkIfInTotalStates(states_to_process, s):\n",
    "            states_to_process.append(s)\n",
    "        if s.isTerminal():\n",
    "            index = state_ind.getIndex(str(s))\n",
    "            transitions[0, index, index] = 1\n",
    "            transitions[1, index, index] = 1"
   ]
  },
  {
   "cell_type": "code",
   "execution_count": null,
   "metadata": {},
   "outputs": [],
   "source": [
    "def printTransitions(transitions):\n",
    "    for i in range(len(total_states)):\n",
    "        print(state_ind.getString(i))\n",
    "        for j in range(len(total_states)):\n",
    "            if transitions[0,i,j] != 0:\n",
    "                print(\"    \", state_ind.getString(j), \" selfish, {:0.2f}\".format(transitions[0,i,j]))\n",
    "        for j in range(len(total_states)):\n",
    "            if transitions[1,i,j] != 0:\n",
    "                print(\"    \", state_ind.getString(j), \" honest, {:0.2f}\".format(transitions[1,i,j]))"
   ]
  }
 ],
 "metadata": {
  "kernelspec": {
   "display_name": "Python 3",
   "language": "python",
   "name": "python3"
  },
  "language_info": {
   "codemirror_mode": {
    "name": "ipython",
    "version": 3
   },
   "file_extension": ".py",
   "mimetype": "text/x-python",
   "name": "python",
   "nbconvert_exporter": "python",
   "pygments_lexer": "ipython3",
   "version": "3.8.6"
  }
 },
 "nbformat": 4,
 "nbformat_minor": 4
}
