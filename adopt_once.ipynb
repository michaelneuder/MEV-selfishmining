{
 "cells": [
  {
   "cell_type": "code",
   "execution_count": 1,
   "metadata": {},
   "outputs": [],
   "source": [
    "import copy \n",
    "import matplotlib.pyplot as plt\n",
    "import mdptoolbox as mdpt\n",
    "import numpy as np"
   ]
  },
  {
   "cell_type": "code",
   "execution_count": 159,
   "metadata": {},
   "outputs": [],
   "source": [
    "class State:\n",
    "    def __init__(self, num_agents, length=2):\n",
    "        self.num_agents = num_agents\n",
    "        self.blocks = np.zeros((num_agents, num_agents), dtype=int)\n",
    "        self.honest_fork = 0\n",
    "        self.length = length\n",
    "        self.adopted = np.zeros(num_agents, dtype=int) # bit vector indicating if an agent has adopted\n",
    "        \n",
    "    # Creates the first block and updates the honest fork.\n",
    "    def initializeState(self):\n",
    "        first_block = np.random.randint(self.num_agents)\n",
    "        self.blocks[first_block, first_block] = 1\n",
    "        self.honest_fork = first_block\n",
    "        \n",
    "    # returns the state from the perspective of the agent.\n",
    "    # the state is a string with the following format:\n",
    "    # XXX,XXX,X,X. \n",
    "    # - The first 3 numbers are the forks lengths\n",
    "    # - The next 3 numbers are the amount of blocks owned in each fork\n",
    "    # - The next number is the honest fork\n",
    "    # - The last is a bit indicating if the agent has adopted (1) or not (0)\n",
    "    def getState(self, agent_index):\n",
    "        lens = np.sum(self.blocks, axis=0)\n",
    "        temp_blocks = copy.deepcopy(self.blocks[agent_index])\n",
    "        \n",
    "        # update the lens and the blocks so agent_index is seen as zero index.\n",
    "        lens[0], lens[agent_index] = lens[agent_index], lens[0]\n",
    "        temp_blocks[0], temp_blocks[agent_index] = temp_blocks[agent_index], temp_blocks[0]\n",
    "        \n",
    "        # get honest fork from perspective of agent index.\n",
    "        if self.honest_fork == 0:\n",
    "            temp_honest_fork = agent_index\n",
    "        elif self.honest_fork == agent_index:\n",
    "            temp_honest_fork = 0\n",
    "        else:\n",
    "            temp_honest_fork = self.honest_fork\n",
    "        \n",
    "        return '{}{}{},{}{}{},{},{}'.format(\n",
    "            *lens, *temp_blocks, temp_honest_fork, self.adopted[agent_index])\n",
    "    \n",
    "    def updateHonestFork(self):\n",
    "        lens = np.sum(self.blocks, axis=0)\n",
    "        if any(lens > lens[self.honest_fork]):\n",
    "            self.honest_fork = np.argmax(lens)\n",
    "\n",
    "    # Prints state from perspective of agent_index in human readable form.\n",
    "    def prettyPrintState(self, agent_index):\n",
    "        temp_state = self.getState(agent_index)\n",
    "        print('fork lengths={}'.format(temp_state[:3]))\n",
    "        print('owned blocks={}'.format(temp_state[4:7]))\n",
    "        print('honest fork={}'.format(temp_state[8]))\n",
    "        print('adopted={}'.format(bool(int(temp_state[10]))))\n",
    "        \n",
    "    # Define equality operator.\n",
    "    def __eq__(self, other):\n",
    "        eq = True\n",
    "        if not np.all(self.blocks == other.blocks):\n",
    "            eq = False\n",
    "        if not np.all(self.adopted == other.adopted):\n",
    "            eq = False\n",
    "        if not self.honest_fork == other.honest_fork:\n",
    "            eq = False\n",
    "        return eq\n",
    "    \n",
    "    # Determines if the state is terminal.\n",
    "    def isTerminal(self):\n",
    "        lens = np.sum(self.blocks, axis=0)\n",
    "        return self.length in lens"
   ]
  },
  {
   "cell_type": "code",
   "execution_count": 160,
   "metadata": {},
   "outputs": [
    {
     "name": "stdout",
     "output_type": "stream",
     "text": [
      "fork lengths=010\n",
      "owned blocks=000\n",
      "honest fork=1\n",
      "adopted=False\n",
      "\n",
      "fork lengths=100\n",
      "owned blocks=100\n",
      "honest fork=0\n",
      "adopted=False\n",
      "\n",
      "fork lengths=010\n",
      "owned blocks=000\n",
      "honest fork=1\n",
      "adopted=False\n",
      "\n"
     ]
    },
    {
     "data": {
      "text/plain": [
       "('010,000,1,0', '100,100,0,0', '010,000,1,0')"
      ]
     },
     "execution_count": 160,
     "metadata": {},
     "output_type": "execute_result"
    }
   ],
   "source": [
    "state = State(num_agents=3)\n",
    "state.initializeState()\n",
    "state.prettyPrintState(0)\n",
    "print()\n",
    "state.prettyPrintState(1)\n",
    "print()\n",
    "state.prettyPrintState(2)\n",
    "print()\n",
    "state.getState(0), state.getState(1), state.getState(2)"
   ]
  },
  {
   "cell_type": "code",
   "execution_count": 161,
   "metadata": {},
   "outputs": [],
   "source": [
    "# How to construct T and R from a set of policies for agents 1 & 2. agent 0 will optimize based on T, R\n",
    "#\n",
    "# 1. Get total possible states.\n",
    "# 2. Get reachable states given agents 1 & 2 policies.\n",
    "# 3. Construct T and R based on the size of the reachable states.\n",
    "# 4. Find the probabilities of transitioning to each state."
   ]
  },
  {
   "cell_type": "code",
   "execution_count": 162,
   "metadata": {},
   "outputs": [],
   "source": [
    "# Helper class to enumerate all possible first person states.\n",
    "class FirstPersonState:\n",
    "    def __init__(self, state, length=2):\n",
    "        self.state = np.array(state)\n",
    "        self.terminal_length = length\n",
    "    \n",
    "    def __str__(self):\n",
    "        res = ''\n",
    "        for i in range(3):\n",
    "            res += str(self.state[i])\n",
    "        res += ','\n",
    "        for i in range(3,6):\n",
    "            res += str(self.state[i])\n",
    "        res += ','\n",
    "        res += str(self.state[6])\n",
    "        res += ','\n",
    "        res += str(self.state[7])\n",
    "        return res\n",
    "    \n",
    "    def __setitem__(self, ind, val):\n",
    "        self.state[ind] = val\n",
    "        \n",
    "    def __getitem__(self, ind):\n",
    "        return self.state[ind]\n",
    "    \n",
    "    def isTerminal(self):\n",
    "        return self.terminal_length in self.state[:3]\n",
    "\n",
    "    def getHonestFork(self):\n",
    "        return self.state[-2]\n",
    "    \n",
    "    def getAdopted(self):\n",
    "        return self.state[-1]\n",
    "\n",
    "    def updateHonestFork(self):\n",
    "        if any(self.state[:3] > self.state[self.getHonestFork()]):\n",
    "            self.state[-2] = np.argmax(self.state[:3])\n",
    "    \n",
    "    def __eq__(self, other):\n",
    "        return all(self.state == other.state)"
   ]
  },
  {
   "cell_type": "code",
   "execution_count": 163,
   "metadata": {},
   "outputs": [],
   "source": [
    "# Helper function to enumerate next states given a specific first person state.\n",
    "def nextFirstPersonStates(state):\n",
    "    new_states = []\n",
    "    \n",
    "    if state[-1] == 0:\n",
    "        # me mining on my own fork\n",
    "        temp = copy.deepcopy(state)\n",
    "        temp[0] += 1\n",
    "        temp[3] += 1\n",
    "        temp.updateHonestFork()\n",
    "        new_states.append(temp)\n",
    "        \n",
    "        # me adopting onto one of the other forks.\n",
    "        for i in range(1,3):\n",
    "            temp = copy.deepcopy(state)\n",
    "            temp[i] += 1\n",
    "            temp[3+i] += 1\n",
    "            temp[-1] = 1\n",
    "            temp.updateHonestFork()\n",
    "            new_states.append(temp)\n",
    "    else: # i already adopted, so only can mine on one of the other forks.\n",
    "        for i in range(1,3):\n",
    "            temp = copy.deepcopy(state)\n",
    "            temp[i] += 1\n",
    "            temp[3+i] += 1\n",
    "            temp.updateHonestFork()\n",
    "            new_states.append(temp)\n",
    "    \n",
    "    # anyone else mining on their own fork\n",
    "    for i in range(1,3):\n",
    "        temp = copy.deepcopy(state)\n",
    "        temp[i] += 1\n",
    "        temp.updateHonestFork()\n",
    "        new_states.append(temp)\n",
    "        \n",
    "    # anyone else mining on another fork.\n",
    "    for i in range(3):\n",
    "        if state[i] != 0:\n",
    "            for j in range(1,3):\n",
    "                if j != i:\n",
    "                    temp = copy.deepcopy(state)\n",
    "                    temp[i] += 1\n",
    "                    temp.updateHonestFork()\n",
    "                    new_states.append(temp)\n",
    "    return new_states"
   ]
  },
  {
   "cell_type": "code",
   "execution_count": 164,
   "metadata": {},
   "outputs": [],
   "source": [
    "# Function to get all first person states possible for a given length.\n",
    "def getAllPossibleFirstPersonStates(num_players=3, length=2):\n",
    "    # initial 4 states.\n",
    "    init_state = FirstPersonState([0,0,0,0,0,0,0,0], length)\n",
    "    oneblock_state_a = FirstPersonState([1,0,0,1,0,0,0,0], length)\n",
    "    oneblock_state_b = FirstPersonState([0,1,0,0,0,0,1,0], length)\n",
    "    oneblock_state_c = FirstPersonState([0,0,1,0,0,0,2,0], length)\n",
    "    \n",
    "    # Setting up standard BFS.\n",
    "    total_states = [init_state, oneblock_state_a, oneblock_state_b, oneblock_state_c]\n",
    "    states_to_process = [oneblock_state_a, oneblock_state_b, oneblock_state_c]\n",
    "    explored = [str(init_state)]\n",
    "    \n",
    "    while states_to_process:\n",
    "        elem = states_to_process.pop()\n",
    "        explored.append(str(elem))\n",
    "        next_states = nextFirstPersonStates(elem)\n",
    "        for s in next_states:\n",
    "            if s not in total_states:\n",
    "                total_states.append(s)\n",
    "            if not s.isTerminal() and str(s) not in explored:\n",
    "                states_to_process.append(s)\n",
    "    return total_states"
   ]
  },
  {
   "cell_type": "code",
   "execution_count": 165,
   "metadata": {},
   "outputs": [],
   "source": [
    "total_states = getAllPossibleFirstPersonStates()"
   ]
  },
  {
   "cell_type": "code",
   "execution_count": 166,
   "metadata": {},
   "outputs": [
    {
     "data": {
      "text/plain": [
       "67"
      ]
     },
     "execution_count": 166,
     "metadata": {},
     "output_type": "execute_result"
    }
   ],
   "source": [
    "len(total_states)"
   ]
  },
  {
   "cell_type": "code",
   "execution_count": 167,
   "metadata": {},
   "outputs": [],
   "source": [
    "# Helper class to map state strings to indeces. \n",
    "class Ind:\n",
    "    def __init__(self, total_states):\n",
    "        self.stringToInd = {}\n",
    "        self.indToString = {}\n",
    "        for i in range(len(total_states)):\n",
    "            self.stringToInd[str(total_states[i])] = i\n",
    "            self.indToString[i] = str(total_states[i])\n",
    "    \n",
    "    def i(self, string):\n",
    "        return self.stringToInd[string]\n",
    "\n",
    "    def s(self, ind):\n",
    "        return self.indToString[ind]"
   ]
  },
  {
   "cell_type": "code",
   "execution_count": 168,
   "metadata": {},
   "outputs": [],
   "source": [
    "si = Ind(total_states)"
   ]
  },
  {
   "cell_type": "code",
   "execution_count": 169,
   "metadata": {},
   "outputs": [],
   "source": [
    "# Now define fully selfish policy. \n",
    "selfish = np.ones(len(total_states))"
   ]
  },
  {
   "cell_type": "code",
   "execution_count": 174,
   "metadata": {},
   "outputs": [],
   "source": [
    "# Finding reachable states for agent 0, given both agents 1 and 2 policies.\n",
    "\n",
    "# initial 4 states.\n",
    "init_state = State(num_agents=3)\n",
    "oneblock_state_a = State(num_agents=3)\n",
    "oneblock_state_a.blocks[0,0] = 1\n",
    "oneblock_state_a.updateHonestFork()\n",
    "oneblock_state_b = State(num_agents=3)\n",
    "oneblock_state_b.blocks[1,1] = 1\n",
    "oneblock_state_b.updateHonestFork()\n",
    "oneblock_state_c = State(num_agents=3)\n",
    "oneblock_state_c.blocks[2,2] = 1\n",
    "oneblock_state_c.updateHonestFork()"
   ]
  },
  {
   "cell_type": "code",
   "execution_count": 182,
   "metadata": {},
   "outputs": [],
   "source": [
    "# Setting up standard BFS.\n",
    "reachable_states = [init_state.getState(0), oneblock_state_a.getState(0), \n",
    "                   oneblock_state_b.getState(0), oneblock_state_c.getState(0)]\n",
    "states_to_process = [oneblock_state_a, oneblock_state_b, oneblock_state_c]\n",
    "explored = [init_state]"
   ]
  },
  {
   "cell_type": "code",
   "execution_count": 183,
   "metadata": {},
   "outputs": [
    {
     "name": "stdout",
     "output_type": "stream",
     "text": [
      "[0 0 0]\n",
      "[1 0 0]\n",
      "[0 0 0]\n",
      "[1 0 0]\n",
      "[0 0 0]\n",
      "[1 0 0]\n",
      "[0 0 0]\n",
      "[1 0 0]\n",
      "[0 0 0]\n",
      "[1 0 0]\n",
      "[0 0 0]\n",
      "[1 0 0]\n",
      "[0 0 0]\n",
      "[1 0 0]\n",
      "[0 0 0]\n",
      "[1 0 0]\n",
      "[0 0 0]\n",
      "[1 0 0]\n",
      "[0 0 0]\n",
      "[1 0 0]\n"
     ]
    }
   ],
   "source": [
    "while states_to_process:\n",
    "    cur_state = states_to_process.pop(0)\n",
    "    explored.append(cur_state)\n",
    "    reachable_states.append(cur_state.getState(0))\n",
    "\n",
    "    # Determine agents 1 and 2 actions. In this case they will only be selfish\n",
    "    actions = [(1,1), (2,2)]\n",
    "    \n",
    "    actions.append((0, cur_state.honest_fork))\n",
    "    if cur_state.adopted[0] == 0: # not adopted\n",
    "        # Agent 0 can be selfish.\n",
    "        actions.append((0,0))\n",
    "        \n",
    "    next_states = []\n",
    "    for a in actions:\n",
    "        tmp_state = copy.deepcopy(cur_state)\n",
    "        tmp_state.blocks[a] += 1\n",
    "        tmp_state.updateHonestFork()\n",
    "        if a[0] != a[1]: # adopting\n",
    "            print(tmp_state.adopted)\n",
    "            tmp_state.adopted[a[0]] = 1\n",
    "            print(tmp_state.adopted)\n",
    "        next_states.append(tmp_state)\n",
    "        \n",
    "    for s in next_states:\n",
    "        if not s.isTerminal() and s not in explored:\n",
    "            states_to_process.append(s)\n",
    "reachable_states = list(set(reachable_states))"
   ]
  },
  {
   "cell_type": "code",
   "execution_count": 177,
   "metadata": {},
   "outputs": [
    {
     "data": {
      "text/plain": [
       "['110,100,1,0',\n",
       " '111,100,2,0',\n",
       " '110,100,0,0',\n",
       " '100,100,0,0',\n",
       " '011,000,1,0',\n",
       " '101,100,0,0',\n",
       " '111,100,0,0',\n",
       " '011,000,2,0',\n",
       " '111,100,1,0',\n",
       " '010,000,1,0',\n",
       " '000,000,0,0',\n",
       " '001,000,2,0',\n",
       " '101,100,2,0']"
      ]
     },
     "execution_count": 177,
     "metadata": {},
     "output_type": "execute_result"
    }
   ],
   "source": [
    "reachable_states"
   ]
  },
  {
   "cell_type": "code",
   "execution_count": null,
   "metadata": {},
   "outputs": [],
   "source": []
  },
  {
   "cell_type": "code",
   "execution_count": null,
   "metadata": {},
   "outputs": [],
   "source": [
    "def constructTR(agent1_policy, agent2_policy)"
   ]
  }
 ],
 "metadata": {
  "kernelspec": {
   "display_name": "Python 3",
   "language": "python",
   "name": "python3"
  },
  "language_info": {
   "codemirror_mode": {
    "name": "ipython",
    "version": 3
   },
   "file_extension": ".py",
   "mimetype": "text/x-python",
   "name": "python",
   "nbconvert_exporter": "python",
   "pygments_lexer": "ipython3",
   "version": "3.8.6"
  }
 },
 "nbformat": 4,
 "nbformat_minor": 4
}
