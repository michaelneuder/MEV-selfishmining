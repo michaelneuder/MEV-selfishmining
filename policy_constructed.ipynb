{
 "cells": [
  {
   "cell_type": "code",
   "execution_count": 1,
   "metadata": {},
   "outputs": [],
   "source": [
    "import copy \n",
    "import matplotlib.pyplot as plt\n",
    "import mdptoolbox as mdpt\n",
    "import numpy as np"
   ]
  },
  {
   "cell_type": "code",
   "execution_count": 5,
   "metadata": {},
   "outputs": [],
   "source": [
    "class FirstPersonState:\n",
    "    def __init__(self, state, length=2):\n",
    "        self.state = np.array(state)\n",
    "        self.terminal_length = length\n",
    "    \n",
    "    def __str__(self):\n",
    "        res = ''\n",
    "        for i in range(3):\n",
    "            res += str(self.state[i])\n",
    "        res += ','\n",
    "        for i in range(3,6):\n",
    "            res += str(self.state[i])\n",
    "        res += ','\n",
    "        res += str(self.state[6])\n",
    "        return res\n",
    "    \n",
    "    def __setitem__(self, ind, val):\n",
    "        self.state[ind] = val\n",
    "        \n",
    "    def __getitem__(self, ind):\n",
    "        return self.state[ind]\n",
    "    \n",
    "    def isTerminal(self):\n",
    "        return self.terminal_length in self.state[:3]\n",
    "\n",
    "    def getHonestFork(self):\n",
    "        return self.state[-1]\n",
    "\n",
    "    def updateHonestFork(self):\n",
    "        if any(self.state[:3] > self.state[self.getHonestFork()]):\n",
    "            self.state[-1] = np.argmax(self.state[:3])\n",
    "    \n",
    "    def __eq__(self, other):\n",
    "        return all(self.state == other.state)"
   ]
  },
  {
   "cell_type": "code",
   "execution_count": 12,
   "metadata": {},
   "outputs": [],
   "source": [
    "def nextFirstPersonStates(state):\n",
    "    new_states = []\n",
    "    \n",
    "    # anyone mining on their own fork\n",
    "    for i in range(3):\n",
    "        temp = copy.deepcopy(state)\n",
    "        temp[i] += 1\n",
    "        if i == 0:\n",
    "            temp[3] += 1\n",
    "        temp.updateHonestFork()\n",
    "        new_states.append(temp)\n",
    "        \n",
    "    # anyone mining on another fork.\n",
    "    for i in range(3):\n",
    "        if state[i] != 0:\n",
    "            for j in range(3):\n",
    "                if j != i:\n",
    "                    temp = copy.deepcopy(state)\n",
    "                    temp[i] += 1\n",
    "                    if j == 0:\n",
    "                        temp[3+i] += 1\n",
    "                    temp.updateHonestFork()\n",
    "                    new_states.append(temp)\n",
    "    return new_states"
   ]
  },
  {
   "cell_type": "code",
   "execution_count": 76,
   "metadata": {},
   "outputs": [],
   "source": [
    "def checkIfIn(state, states):\n",
    "    for s in states:\n",
    "        if state == s:\n",
    "            return True\n",
    "    return False"
   ]
  },
  {
   "cell_type": "code",
   "execution_count": 118,
   "metadata": {},
   "outputs": [],
   "source": [
    "def printTransitions(transitions, rewards, si):\n",
    "    for i in range(len(total_states)):\n",
    "        print(si.s(i))\n",
    "        for j in range(len(total_states)):\n",
    "            if transitions[0,i,j] != 0:\n",
    "                print(\"    \", si.s(j), \" selfish, {:0.2f}, {:0.2f}\".format(\n",
    "                    transitions[0,i,j], rewards[0,i,j]))\n",
    "        for j in range(len(total_states)):\n",
    "            if transitions[1,i,j] != 0:\n",
    "                print(\"    \", si.s(j), \" honest, {:0.2f}, {:0.2f}\".format(\n",
    "                    transitions[1,i,j], rewards[1,i,j]))\n",
    "\n",
    "def prettyPrintPolicy(policy, si):\n",
    "    for i in range(len(policy)):\n",
    "        print(si.s(i), end=' ')\n",
    "        if policy[i] == 0:\n",
    "            print('selfish')\n",
    "        else:\n",
    "            print('honest')"
   ]
  },
  {
   "cell_type": "code",
   "execution_count": 14,
   "metadata": {},
   "outputs": [],
   "source": [
    "def getTotalStates(length = 2):\n",
    "    init_state = FirstPersonState([0,0,0,0,0,0,0], length)\n",
    "    oneblock_state_a = FirstPersonState([1,0,0,1,0,0,0], length)\n",
    "    oneblock_state_b = FirstPersonState([0,1,0,0,0,0,1], length)\n",
    "    oneblock_state_c = FirstPersonState([0,0,1,0,0,0,2], length)\n",
    "    total_states = [init_state, oneblock_state_a, oneblock_state_b, oneblock_state_c]\n",
    "    states_to_process = [oneblock_state_a, oneblock_state_b, oneblock_state_c]\n",
    "    \n",
    "    while states_to_process:\n",
    "        elem = states_to_process.pop()\n",
    "        next_states = nextFirstPersonStates(elem)\n",
    "        for s in next_states:\n",
    "            if not checkIfIn(s, total_states):\n",
    "                total_states.append(s)\n",
    "            if not s.isTerminal() and not checkIfIn(s, states_to_process):\n",
    "                states_to_process.append(s)\n",
    "    return total_states"
   ]
  },
  {
   "cell_type": "code",
   "execution_count": 18,
   "metadata": {},
   "outputs": [
    {
     "data": {
      "text/plain": [
       "37"
      ]
     },
     "execution_count": 18,
     "metadata": {},
     "output_type": "execute_result"
    }
   ],
   "source": [
    "total_states = getTotalStates()\n",
    "len(total_states)"
   ]
  },
  {
   "cell_type": "code",
   "execution_count": 20,
   "metadata": {},
   "outputs": [],
   "source": [
    "class Ind:\n",
    "    def __init__(self, total_states):\n",
    "        self.stringToInd = {}\n",
    "        self.indToString = {}\n",
    "        for i in range(len(total_states)):\n",
    "            self.stringToInd[str(total_states[i])] = i\n",
    "            self.indToString[i] = str(total_states[i])\n",
    "    \n",
    "    def i(self, string):\n",
    "        return self.stringToInd[string]\n",
    "\n",
    "    def s(self, ind):\n",
    "        return self.indToString[ind]"
   ]
  },
  {
   "cell_type": "code",
   "execution_count": 263,
   "metadata": {},
   "outputs": [],
   "source": [
    "class State:\n",
    "    def __init__(self, state_index, policy, length=2):\n",
    "        self.state = np.array([\n",
    "            [0,0,0],\n",
    "            [0,0,0],\n",
    "            [0,0,0]\n",
    "        ])\n",
    "        self.honest_fork = 0\n",
    "        self.state_index = state_index\n",
    "        self.policy = policy\n",
    "        self.length = length\n",
    "        self.visited = False\n",
    "    \n",
    "    def getState(self, miner_ind):\n",
    "        if np.sum(self.state) == 0:\n",
    "            return np.array([0,0,0,0,0,0,0])\n",
    "        \n",
    "        fork_lens = np.sum(self.state, axis=0)\n",
    "        fork_lens[0], fork_lens[miner_ind] = fork_lens[miner_ind], fork_lens[0]\n",
    "        \n",
    "        miner_lens = copy.deepcopy(self.state[miner_ind])\n",
    "        miner_lens[0], miner_lens[miner_ind] = miner_lens[miner_ind], miner_lens[0]\n",
    "        \n",
    "        return np.concatenate((fork_lens, miner_lens, [self.getHonestFork(miner_ind)]))\n",
    "    \n",
    "    def getHonestFork(self, miner_ind):\n",
    "        if self.honest_fork == miner_ind:\n",
    "            return 0\n",
    "        elif self.honest_fork == 0:\n",
    "            return miner_ind\n",
    "        return self.honest_fork\n",
    "\n",
    "    def updateHonestFork(self):\n",
    "        fork_lens = np.sum(self.state, axis=0)\n",
    "        if any(fork_lens > fork_lens[self.getHonestFork(0)]):\n",
    "            self.honest_fork = np.argmax(fork_lens)\n",
    "    \n",
    "    def isTerminal(self):\n",
    "        fork_lens = np.sum(self.state, axis=0)\n",
    "        return np.max(fork_lens) == self.length\n",
    "    \n",
    "    def __eq__(self, other):\n",
    "        if np.all(self.state == other.state) and self.honest_fork == other.honest_fork:\n",
    "            return True\n",
    "        return False\n",
    "    \n",
    "    def getStrRep(self, miner_ind):\n",
    "        state = self.getState(miner_ind)\n",
    "        return self.getStrRepState(state)\n",
    "    \n",
    "    def getStrRepState(self, state):\n",
    "        res = ''\n",
    "        for i in range(3):\n",
    "            res += str(state[i])\n",
    "        res += ','\n",
    "        for i in range(3,6):\n",
    "            res += str(state[i])\n",
    "        res += ','\n",
    "        res += str(state[6])\n",
    "        return res\n",
    "    \n",
    "    def getOtherAgentActions(self):\n",
    "        actions = []\n",
    "        for i in [1,2]:\n",
    "            other_agent_state = self.getStrRep(i)\n",
    "            action = self.policy[self.state_index.i(other_agent_state)]\n",
    "            if action == 0: # selfish\n",
    "                actions.append((i, i))\n",
    "            else: # honest\n",
    "                actions.append((i, self.honest_fork))\n",
    "        return actions\n",
    "    \n",
    "    def getReward(self):\n",
    "        reward = -1/3\n",
    "        if self.isTerminal():\n",
    "            state = self.getState(0)\n",
    "            if state[0] == 2:\n",
    "                reward += WHALE_REWARD + state[3]\n",
    "            else:\n",
    "                win_ind = np.argmax(state[:3])\n",
    "                reward += state[3 + win_ind]\n",
    "        return reward\n",
    "        \n",
    "    def getNextStatesSelfish(self):\n",
    "        actions = self.getOtherAgentActions()\n",
    "        actions.append((0,0)) # mining on my fork\n",
    "        \n",
    "        next_states = []\n",
    "        for a in actions:\n",
    "            temp = copy.deepcopy(self)\n",
    "            temp.state[a] += 1\n",
    "            temp.updateHonestFork()\n",
    "            next_states.append(temp)\n",
    "        return next_states\n",
    "    \n",
    "    def getNextStatesHonest(self):\n",
    "        actions = self.getOtherAgentActions()\n",
    "        actions.append((0,self.getHonestFork(0))) # mining on honest\n",
    "        \n",
    "        next_states = []\n",
    "        for a in actions:\n",
    "            temp = copy.deepcopy(self)\n",
    "            temp.state[a] += 1\n",
    "            temp.updateHonestFork()\n",
    "            next_states.append(temp)\n",
    "        return next_states"
   ]
  },
  {
   "cell_type": "code",
   "execution_count": 339,
   "metadata": {},
   "outputs": [],
   "source": [
    "def getTR(si, total_states, policy):\n",
    "    t = np.zeros((2, len(total_states), len(total_states)))\n",
    "    r = np.zeros((2, len(total_states), len(total_states)))\n",
    "\n",
    "    init_state = State(si, policy)\n",
    "    states_to_process = [init_state]\n",
    "    processed_states = [init_state]\n",
    "    while states_to_process:\n",
    "        elem = states_to_process.pop()\n",
    "        current_string = elem.getStrRep(0)\n",
    "        selfish_states = elem.getNextStatesSelfish()\n",
    "            \n",
    "        for s in selfish_states:\n",
    "            next_string = s.getStrRep(0)\n",
    "            t[0, si.i(current_string), si.i(next_string)] += 1/3\n",
    "            r[0, si.i(current_string), si.i(next_string)] = s.getReward()\n",
    "\n",
    "            if not s.isTerminal() and not checkIfIn(s, processed_states):\n",
    "                states_to_process.append(s)\n",
    "                processed_states.append(copy.deepcopy(s))\n",
    "\n",
    "        honest_states = elem.getNextStatesHonest()\n",
    "        for s in honest_states:\n",
    "            next_string = s.getStrRep(0)\n",
    "            t[1, si.i(current_string), si.i(next_string)] += 1/3\n",
    "            r[1, si.i(current_string), si.i(next_string)] = s.getReward()\n",
    "\n",
    "            if not s.isTerminal() and not checkIfIn(s, processed_states):\n",
    "                states_to_process.append(s)\n",
    "                processed_states.append(copy.deepcopy(s))\n",
    "\n",
    "    for i in range(len(total_states)):\n",
    "        if total_states[i].isTerminal():\n",
    "            t[0,i,i] = 1\n",
    "            t[1,i,i] = 1\n",
    "    \n",
    "    sums = np.sum(t, axis = 2)\n",
    "    for i in range(len(total_states)):\n",
    "        if sums[0,i] == 0:\n",
    "            assert(sums[1,i] == 0)\n",
    "            t[0,i,i] = 1\n",
    "            t[1,i,i] = 1\n",
    "            \n",
    "    return t, r"
   ]
  },
  {
   "cell_type": "code",
   "execution_count": 340,
   "metadata": {},
   "outputs": [],
   "source": [
    "si = Ind(total_states)"
   ]
  },
  {
   "cell_type": "code",
   "execution_count": 384,
   "metadata": {},
   "outputs": [],
   "source": [
    "selfish_policy = np.zeros(len(total_states)) \n",
    "honest_policy = np.ones(len(total_states))\n",
    "honest_policy[0] = 0"
   ]
  },
  {
   "cell_type": "code",
   "execution_count": 392,
   "metadata": {},
   "outputs": [],
   "source": [
    "WHALE_REWARD = 2.1"
   ]
  },
  {
   "cell_type": "code",
   "execution_count": 395,
   "metadata": {},
   "outputs": [
    {
     "name": "stdout",
     "output_type": "stream",
     "text": [
      "WARNING: check conditions of convergence. With no discount, convergence can not be assumed.\n"
     ]
    }
   ],
   "source": [
    "# t, r = getTR(si, total_states, selfish_policy)\n",
    "t, r = getTR(si, total_states, honest_policy)\n",
    "val_iter = mdpt.mdp.ValueIteration(t, r, discount=1)\n",
    "val_iter.run()\n",
    "policy = val_iter.policy"
   ]
  },
  {
   "cell_type": "code",
   "execution_count": 396,
   "metadata": {},
   "outputs": [
    {
     "name": "stdout",
     "output_type": "stream",
     "text": [
      "000,000,0 selfish\n",
      "100,100,0 selfish\n",
      "010,000,1 selfish\n",
      "001,000,2 selfish\n",
      "101,100,2 selfish\n",
      "011,000,2 selfish\n",
      "002,000,2 selfish\n",
      "002,001,2 selfish\n",
      "111,100,2 selfish\n",
      "021,000,1 selfish\n",
      "012,000,2 selfish\n",
      "021,010,1 selfish\n",
      "012,001,2 selfish\n",
      "211,200,0 selfish\n",
      "121,100,1 selfish\n",
      "112,100,2 selfish\n",
      "211,100,0 selfish\n",
      "121,110,1 selfish\n",
      "112,101,2 selfish\n",
      "201,200,0 selfish\n",
      "102,100,2 selfish\n",
      "201,100,0 selfish\n",
      "102,101,2 selfish\n",
      "110,100,1 selfish\n",
      "020,000,1 selfish\n",
      "011,000,1 selfish\n",
      "020,010,1 selfish\n",
      "111,100,1 selfish\n",
      "210,200,0 selfish\n",
      "120,100,1 selfish\n",
      "210,100,0 selfish\n",
      "120,110,1 selfish\n",
      "200,200,0 selfish\n",
      "110,100,0 selfish\n",
      "101,100,0 selfish\n",
      "200,100,0 selfish\n",
      "111,100,0 selfish\n"
     ]
    }
   ],
   "source": [
    "prettyPrintPolicy(policy, si)"
   ]
  },
  {
   "cell_type": "code",
   "execution_count": 388,
   "metadata": {},
   "outputs": [
    {
     "name": "stdout",
     "output_type": "stream",
     "text": [
      "WARNING: check conditions of convergence. With no discount, convergence can not be assumed.\n"
     ]
    }
   ],
   "source": [
    "t, r = getTR(si, total_states, policy)\n",
    "val_iter = mdpt.mdp.ValueIteration(t, r, discount=1)\n",
    "val_iter.run()\n",
    "policy2 = val_iter.policy"
   ]
  },
  {
   "cell_type": "code",
   "execution_count": 389,
   "metadata": {
    "scrolled": true
   },
   "outputs": [
    {
     "name": "stdout",
     "output_type": "stream",
     "text": [
      "000,000,0 selfish\n",
      "100,100,0 selfish\n",
      "010,000,1 selfish\n",
      "001,000,2 honest\n",
      "101,100,2 selfish\n",
      "011,000,2 selfish\n",
      "002,000,2 selfish\n",
      "002,001,2 selfish\n",
      "111,100,2 selfish\n",
      "021,000,1 selfish\n",
      "012,000,2 selfish\n",
      "021,010,1 selfish\n",
      "012,001,2 selfish\n",
      "211,200,0 selfish\n",
      "121,100,1 selfish\n",
      "112,100,2 selfish\n",
      "211,100,0 selfish\n",
      "121,110,1 selfish\n",
      "112,101,2 selfish\n",
      "201,200,0 selfish\n",
      "102,100,2 selfish\n",
      "201,100,0 selfish\n",
      "102,101,2 selfish\n",
      "110,100,1 selfish\n",
      "020,000,1 selfish\n",
      "011,000,1 honest\n",
      "020,010,1 selfish\n",
      "111,100,1 selfish\n",
      "210,200,0 selfish\n",
      "120,100,1 selfish\n",
      "210,100,0 selfish\n",
      "120,110,1 selfish\n",
      "200,200,0 selfish\n",
      "110,100,0 selfish\n",
      "101,100,0 selfish\n",
      "200,100,0 selfish\n",
      "111,100,0 selfish\n"
     ]
    }
   ],
   "source": [
    "prettyPrintPolicy(policy2, si)"
   ]
  },
  {
   "cell_type": "code",
   "execution_count": 374,
   "metadata": {},
   "outputs": [
    {
     "name": "stdout",
     "output_type": "stream",
     "text": [
      "WARNING: check conditions of convergence. With no discount, convergence can not be assumed.\n"
     ]
    }
   ],
   "source": [
    "t, r = getTR(si, total_states, policy2)\n",
    "val_iter = mdpt.mdp.ValueIteration(t, r, discount=1)\n",
    "val_iter.run()\n",
    "policy3 = val_iter.policy"
   ]
  },
  {
   "cell_type": "code",
   "execution_count": 375,
   "metadata": {},
   "outputs": [
    {
     "name": "stdout",
     "output_type": "stream",
     "text": [
      "000,000,0 selfish\n",
      "100,100,0 selfish\n",
      "010,000,1 honest\n",
      "001,000,2 selfish\n",
      "101,100,2 selfish\n",
      "011,000,2 selfish\n",
      "002,000,2 selfish\n",
      "002,001,2 selfish\n",
      "111,100,2 selfish\n",
      "021,000,1 selfish\n",
      "012,000,2 selfish\n",
      "021,010,1 selfish\n",
      "012,001,2 selfish\n",
      "211,200,0 selfish\n",
      "121,100,1 selfish\n",
      "112,100,2 selfish\n",
      "211,100,0 selfish\n",
      "121,110,1 selfish\n",
      "112,101,2 selfish\n",
      "201,200,0 selfish\n",
      "102,100,2 selfish\n",
      "201,100,0 selfish\n",
      "102,101,2 selfish\n",
      "110,100,1 selfish\n",
      "020,000,1 selfish\n",
      "011,000,1 honest\n",
      "020,010,1 selfish\n",
      "111,100,1 selfish\n",
      "210,200,0 selfish\n",
      "120,100,1 selfish\n",
      "210,100,0 selfish\n",
      "120,110,1 selfish\n",
      "200,200,0 selfish\n",
      "110,100,0 selfish\n",
      "101,100,0 selfish\n",
      "200,100,0 selfish\n",
      "111,100,0 selfish\n"
     ]
    }
   ],
   "source": [
    "prettyPrintPolicy(policy3, si)"
   ]
  },
  {
   "cell_type": "code",
   "execution_count": 376,
   "metadata": {},
   "outputs": [
    {
     "name": "stdout",
     "output_type": "stream",
     "text": [
      "WARNING: check conditions of convergence. With no discount, convergence can not be assumed.\n"
     ]
    }
   ],
   "source": [
    "t, r = getTR(si, total_states, policy3)\n",
    "val_iter = mdpt.mdp.ValueIteration(t, r, discount=1)\n",
    "val_iter.run()\n",
    "policy4 = val_iter.policy"
   ]
  },
  {
   "cell_type": "code",
   "execution_count": 377,
   "metadata": {},
   "outputs": [
    {
     "name": "stdout",
     "output_type": "stream",
     "text": [
      "000,000,0 selfish\n",
      "100,100,0 selfish\n",
      "010,000,1 honest\n",
      "001,000,2 selfish\n",
      "101,100,2 selfish\n",
      "011,000,2 honest\n",
      "002,000,2 selfish\n",
      "002,001,2 selfish\n",
      "111,100,2 selfish\n",
      "021,000,1 selfish\n",
      "012,000,2 selfish\n",
      "021,010,1 selfish\n",
      "012,001,2 selfish\n",
      "211,200,0 selfish\n",
      "121,100,1 selfish\n",
      "112,100,2 selfish\n",
      "211,100,0 selfish\n",
      "121,110,1 selfish\n",
      "112,101,2 selfish\n",
      "201,200,0 selfish\n",
      "102,100,2 selfish\n",
      "201,100,0 selfish\n",
      "102,101,2 selfish\n",
      "110,100,1 selfish\n",
      "020,000,1 selfish\n",
      "011,000,1 selfish\n",
      "020,010,1 selfish\n",
      "111,100,1 selfish\n",
      "210,200,0 selfish\n",
      "120,100,1 selfish\n",
      "210,100,0 selfish\n",
      "120,110,1 selfish\n",
      "200,200,0 selfish\n",
      "110,100,0 selfish\n",
      "101,100,0 selfish\n",
      "200,100,0 selfish\n",
      "111,100,0 selfish\n"
     ]
    }
   ],
   "source": [
    "prettyPrintPolicy(policy4, si)"
   ]
  },
  {
   "cell_type": "code",
   "execution_count": 378,
   "metadata": {},
   "outputs": [
    {
     "name": "stdout",
     "output_type": "stream",
     "text": [
      "WARNING: check conditions of convergence. With no discount, convergence can not be assumed.\n"
     ]
    }
   ],
   "source": [
    "t, r = getTR(si, total_states, policy4)\n",
    "val_iter = mdpt.mdp.ValueIteration(t, r, discount=1)\n",
    "val_iter.run()\n",
    "policy5 = val_iter.policy"
   ]
  },
  {
   "cell_type": "code",
   "execution_count": 379,
   "metadata": {},
   "outputs": [
    {
     "name": "stdout",
     "output_type": "stream",
     "text": [
      "000,000,0 selfish\n",
      "100,100,0 selfish\n",
      "010,000,1 selfish\n",
      "001,000,2 honest\n",
      "101,100,2 selfish\n",
      "011,000,2 honest\n",
      "002,000,2 selfish\n",
      "002,001,2 selfish\n",
      "111,100,2 selfish\n",
      "021,000,1 selfish\n",
      "012,000,2 selfish\n",
      "021,010,1 selfish\n",
      "012,001,2 selfish\n",
      "211,200,0 selfish\n",
      "121,100,1 selfish\n",
      "112,100,2 selfish\n",
      "211,100,0 selfish\n",
      "121,110,1 selfish\n",
      "112,101,2 selfish\n",
      "201,200,0 selfish\n",
      "102,100,2 selfish\n",
      "201,100,0 selfish\n",
      "102,101,2 selfish\n",
      "110,100,1 selfish\n",
      "020,000,1 selfish\n",
      "011,000,1 selfish\n",
      "020,010,1 selfish\n",
      "111,100,1 selfish\n",
      "210,200,0 selfish\n",
      "120,100,1 selfish\n",
      "210,100,0 selfish\n",
      "120,110,1 selfish\n",
      "200,200,0 selfish\n",
      "110,100,0 selfish\n",
      "101,100,0 selfish\n",
      "200,100,0 selfish\n",
      "111,100,0 selfish\n"
     ]
    }
   ],
   "source": [
    "prettyPrintPolicy(policy5, si)"
   ]
  },
  {
   "cell_type": "code",
   "execution_count": 380,
   "metadata": {},
   "outputs": [
    {
     "name": "stdout",
     "output_type": "stream",
     "text": [
      "WARNING: check conditions of convergence. With no discount, convergence can not be assumed.\n"
     ]
    }
   ],
   "source": [
    "t, r = getTR(si, total_states, policy5)\n",
    "val_iter = mdpt.mdp.ValueIteration(t, r, discount=1)\n",
    "val_iter.run()\n",
    "policy6 = val_iter.policy"
   ]
  },
  {
   "cell_type": "code",
   "execution_count": 381,
   "metadata": {},
   "outputs": [
    {
     "name": "stdout",
     "output_type": "stream",
     "text": [
      "000,000,0 selfish\n",
      "100,100,0 selfish\n",
      "010,000,1 selfish\n",
      "001,000,2 honest\n",
      "101,100,2 selfish\n",
      "011,000,2 selfish\n",
      "002,000,2 selfish\n",
      "002,001,2 selfish\n",
      "111,100,2 selfish\n",
      "021,000,1 selfish\n",
      "012,000,2 selfish\n",
      "021,010,1 selfish\n",
      "012,001,2 selfish\n",
      "211,200,0 selfish\n",
      "121,100,1 selfish\n",
      "112,100,2 selfish\n",
      "211,100,0 selfish\n",
      "121,110,1 selfish\n",
      "112,101,2 selfish\n",
      "201,200,0 selfish\n",
      "102,100,2 selfish\n",
      "201,100,0 selfish\n",
      "102,101,2 selfish\n",
      "110,100,1 selfish\n",
      "020,000,1 selfish\n",
      "011,000,1 honest\n",
      "020,010,1 selfish\n",
      "111,100,1 selfish\n",
      "210,200,0 selfish\n",
      "120,100,1 selfish\n",
      "210,100,0 selfish\n",
      "120,110,1 selfish\n",
      "200,200,0 selfish\n",
      "110,100,0 selfish\n",
      "101,100,0 selfish\n",
      "200,100,0 selfish\n",
      "111,100,0 selfish\n"
     ]
    }
   ],
   "source": [
    "prettyPrintPolicy(policy6, si)"
   ]
  },
  {
   "cell_type": "code",
   "execution_count": 382,
   "metadata": {},
   "outputs": [
    {
     "name": "stdout",
     "output_type": "stream",
     "text": [
      "WARNING: check conditions of convergence. With no discount, convergence can not be assumed.\n"
     ]
    }
   ],
   "source": [
    "t, r = getTR(si, total_states, policy6)\n",
    "val_iter = mdpt.mdp.ValueIteration(t, r, discount=1)\n",
    "val_iter.run()\n",
    "policy7 = val_iter.policy"
   ]
  },
  {
   "cell_type": "code",
   "execution_count": 383,
   "metadata": {},
   "outputs": [
    {
     "name": "stdout",
     "output_type": "stream",
     "text": [
      "000,000,0 selfish\n",
      "100,100,0 selfish\n",
      "010,000,1 honest\n",
      "001,000,2 selfish\n",
      "101,100,2 selfish\n",
      "011,000,2 selfish\n",
      "002,000,2 selfish\n",
      "002,001,2 selfish\n",
      "111,100,2 selfish\n",
      "021,000,1 selfish\n",
      "012,000,2 selfish\n",
      "021,010,1 selfish\n",
      "012,001,2 selfish\n",
      "211,200,0 selfish\n",
      "121,100,1 selfish\n",
      "112,100,2 selfish\n",
      "211,100,0 selfish\n",
      "121,110,1 selfish\n",
      "112,101,2 selfish\n",
      "201,200,0 selfish\n",
      "102,100,2 selfish\n",
      "201,100,0 selfish\n",
      "102,101,2 selfish\n",
      "110,100,1 selfish\n",
      "020,000,1 selfish\n",
      "011,000,1 honest\n",
      "020,010,1 selfish\n",
      "111,100,1 selfish\n",
      "210,200,0 selfish\n",
      "120,100,1 selfish\n",
      "210,100,0 selfish\n",
      "120,110,1 selfish\n",
      "200,200,0 selfish\n",
      "110,100,0 selfish\n",
      "101,100,0 selfish\n",
      "200,100,0 selfish\n",
      "111,100,0 selfish\n"
     ]
    }
   ],
   "source": [
    "prettyPrintPolicy(policy7, si)"
   ]
  },
  {
   "cell_type": "code",
   "execution_count": null,
   "metadata": {},
   "outputs": [],
   "source": []
  }
 ],
 "metadata": {
  "kernelspec": {
   "display_name": "Python 3",
   "language": "python",
   "name": "python3"
  },
  "language_info": {
   "codemirror_mode": {
    "name": "ipython",
    "version": 3
   },
   "file_extension": ".py",
   "mimetype": "text/x-python",
   "name": "python",
   "nbconvert_exporter": "python",
   "pygments_lexer": "ipython3",
   "version": "3.8.6"
  }
 },
 "nbformat": 4,
 "nbformat_minor": 4
}
